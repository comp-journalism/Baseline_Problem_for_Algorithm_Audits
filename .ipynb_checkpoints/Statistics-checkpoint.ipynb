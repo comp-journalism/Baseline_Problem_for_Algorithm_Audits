{
 "cells": [
  {
   "cell_type": "code",
   "execution_count": 1,
   "metadata": {
    "collapsed": true
   },
   "outputs": [],
   "source": [
    "import pandas as pd\n",
    "import numpy as np\n",
    "import matplotlib.pyplot as plt\n",
    "from scipy import stats\n",
    "\n",
    "%matplotlib inline\n",
    "\n",
    "plt.style.use('ggplot')\n",
    "plt.rcParams['figure.figsize'] = (15, 3)\n",
    "plt.rcParams['font.family'] = 'sans-serif'\n",
    "\n",
    "pd.set_option('display.width', 5000) \n",
    "pd.set_option('display.max_columns', 60)"
   ]
  },
  {
   "cell_type": "code",
   "execution_count": 15,
   "metadata": {
    "collapsed": true
   },
   "outputs": [],
   "source": [
    "HC_baseline = pd.read_csv('./BASELINE/HC_baseline_full_ratings.csv')\n",
    "DT_baseline = pd.read_csv('./BASELINE/DT_baseline_full_ratings.csv')\n",
    "\n",
    "HC_imagebox = pd.read_csv('./IMAGE_BOX/HC_imagebox_full_ratings.csv')\n",
    "DT_imagebox = pd.read_csv('./IMAGE_BOX/DT_imagebox_full_ratings.csv')"
   ]
  },
  {
   "cell_type": "markdown",
   "metadata": {},
   "source": [
    "# Statistical analysis on Allsides bias rating:"
   ]
  },
  {
   "cell_type": "markdown",
   "metadata": {},
   "source": [
    "#### Hillary Clinton Image Box images versus Baseline images source bias according to Allsides bias ratings:"
   ]
  },
  {
   "cell_type": "code",
   "execution_count": 58,
   "metadata": {
    "collapsed": false
   },
   "outputs": [
    {
     "data": {
      "text/plain": [
       "<matplotlib.axes._subplots.AxesSubplot at 0x11292ada0>"
      ]
     },
     "execution_count": 58,
     "metadata": {},
     "output_type": "execute_result"
    },
    {
     "data": {
      "image/png": "[encoded data removed]",
      "text/plain": [
       "<matplotlib.figure.Figure at 0x111d58860>"
      ]
     },
     "metadata": {},
     "output_type": "display_data"
    }
   ],
   "source": [
    "HC_imagebox.allsides_bias_rating.plot.hist(alpha=0.5, bins=20, range=(-1,1), color='red')\n",
    "HC_baseline.allsides_bias_rating.plot.hist(alpha=0.5, bins=20, range=(-1,1), color='green')"
   ]
  },
  {
   "cell_type": "markdown",
   "metadata": {},
   "source": [
    "#### Donald Trump Image Box images versus Baseline images source bias according to Allsides bias ratings:"
   ]
  },
  {
   "cell_type": "code",
   "execution_count": 44,
   "metadata": {
    "collapsed": false
   },
   "outputs": [
    {
     "data": {
      "text/plain": [
       "<matplotlib.axes._subplots.AxesSubplot at 0x10f1e2f98>"
      ]
     },
     "execution_count": 44,
     "metadata": {},
     "output_type": "execute_result"
    },
    {
     "data": {
      "image/png": "[encoded data removed]",
      "text/plain": [
       "<matplotlib.figure.Figure at 0x10f152908>"
      ]
     },
     "metadata": {},
     "output_type": "display_data"
    }
   ],
   "source": [
    "DT_imagebox.allsides_bias_rating.plot.hist(alpha=0.5, bins=20, range=(-1,1), color='blue')\n",
    "DT_baseline.allsides_bias_rating.plot.hist(alpha=0.5, bins=20, range=(-1,1), color='green')"
   ]
  },
  {
   "cell_type": "markdown",
   "metadata": {},
   "source": [
    "* This analyis shows that the distribution of political representation across image sources is different between the baseline images and those found in the image box. However, this is because no image sources for images in the image box had bias ratings in the Allsides dataset. \n",
    "* One possible conclusion is that the sources for the images found in the image box were obscure or unusual. \n",
    "* Another possible conclusion is that the coverege of bias ratings in the Allsides dataset is too thin for it to be used in a study like this. "
   ]
  },
  {
   "cell_type": "markdown",
   "metadata": {},
   "source": [
    "# Statistical analysis on Facebook Study bias rating:"
   ]
  },
  {
   "cell_type": "markdown",
   "metadata": {},
   "source": [
    "#### Hillary Clinton Image Box images versus Baseline images source bias according to Facebook bias ratings:"
   ]
  },
  {
   "cell_type": "code",
   "execution_count": 120,
   "metadata": {
    "collapsed": false
   },
   "outputs": [
    {
     "name": "stdout",
     "output_type": "stream",
     "text": [
      "Baseline skew:  0.6465826147908966\n",
      "Image Box skew:  -2.0119468573813823\n"
     ]
    }
   ],
   "source": [
    "print(\"Baseline skew: \", stats.skew(HC_baseline.facebookbias_rating[HC_baseline.facebookbias_rating<3]))\n",
    "print(\"Image Box skew: \", stats.skew(HC_imagebox.facebookbias_rating[HC_imagebox.facebookbias_rating<3]))"
   ]
  },
  {
   "cell_type": "markdown",
   "metadata": {},
   "source": [
    "Skew statistics shows that Hillary Clinton's baseline image sources is close to zero, or not skewed. \n",
    "* from the [stats page](https://docs.scipy.org/doc/scipy-0.15.1/reference/generated/scipy.stats.skew.html#scipy.stats.skew) \"For normally distributed data, the skewness should be about 0. A skewness value > 0 means that there is more weight in the left tail of the distribution. The function skewtest can be used to determine if the skewness value is close enough to 0, statistically speaking.\""
   ]
  },
  {
   "cell_type": "code",
   "execution_count": 122,
   "metadata": {
    "collapsed": false
   },
   "outputs": [
    {
     "name": "stdout",
     "output_type": "stream",
     "text": [
      "Baseline skew:  SkewtestResult(statistic=3.6907009512795517, pvalue=0.00022363693458296043)\n",
      "Image Box skew:  SkewtestResult(statistic=-7.6651319218146634, pvalue=1.786474831933403e-14)\n"
     ]
    }
   ],
   "source": [
    "print(\"Baseline skew: \", stats.skewtest(HC_baseline.facebookbias_rating[HC_baseline.facebookbias_rating<3]))\n",
    "print(\"Image Box skew: \", stats.skewtest(HC_imagebox.facebookbias_rating[HC_imagebox.facebookbias_rating<3]))"
   ]
  },
  {
   "cell_type": "code",
   "execution_count": 107,
   "metadata": {
    "collapsed": false
   },
   "outputs": [
    {
     "data": {
      "text/plain": [
       "Ks_2sampResult(statistic=0.22080194780491513, pvalue=2.0002634690381555e-07)"
      ]
     },
     "execution_count": 107,
     "metadata": {},
     "output_type": "execute_result"
    }
   ],
   "source": [
    "stats.ks_2samp(HC_baseline.facebookbias_rating[HC_baseline.final_rating_ints<3], \n",
    "                               HC_imagebox.facebookbias_rating[HC_imagebox.final_rating_ints<3])"
   ]
  },
  {
   "cell_type": "code",
   "execution_count": 123,
   "metadata": {
    "collapsed": false
   },
   "outputs": [
    {
     "data": {
      "text/plain": [
       "<matplotlib.axes._subplots.AxesSubplot at 0x10c635f60>"
      ]
     },
     "execution_count": 123,
     "metadata": {},
     "output_type": "execute_result"
    },
    {
     "data": {
      "image/png": "[encoded data removed]",
      "text/plain": [
       "<matplotlib.figure.Figure at 0x10c635278>"
      ]
     },
     "metadata": {},
     "output_type": "display_data"
    }
   ],
   "source": [
    "HC_imagebox.facebookbias_rating.plot.hist(alpha=0.5, bins=20, range=(-1,1), color='blue')"
   ]
  },
  {
   "cell_type": "code",
   "execution_count": 124,
   "metadata": {
    "collapsed": false
   },
   "outputs": [
    {
     "data": {
      "text/plain": [
       "<matplotlib.axes._subplots.AxesSubplot at 0x10c6b4630>"
      ]
     },
     "execution_count": 124,
     "metadata": {},
     "output_type": "execute_result"
    },
    {
     "data": {
      "image/png": "[encoded data removed]",
      "text/plain": [
       "<matplotlib.figure.Figure at 0x10c6933c8>"
      ]
     },
     "metadata": {},
     "output_type": "display_data"
    }
   ],
   "source": [
    "HC_baseline.facebookbias_rating.plot.hist(alpha=0.5, bins=20, range=(-1,1), color='green')"
   ]
  },
  {
   "cell_type": "markdown",
   "metadata": {},
   "source": [
    "#### Donald Trump Image Box images versus Baseline images source bias according to Facebook bias ratings:"
   ]
  },
  {
   "cell_type": "code",
   "execution_count": 119,
   "metadata": {
    "collapsed": false
   },
   "outputs": [
    {
     "name": "stdout",
     "output_type": "stream",
     "text": [
      "Baseline skew:  1.0682966325455876\n",
      "Image Box skew:  1.1788621228138945\n"
     ]
    }
   ],
   "source": [
    "print(\"Baseline skew: \", stats.skew(DT_baseline.facebookbias_rating[DT_baseline.facebookbias_rating<3]))\n",
    "print(\"Image Box skew: \", stats.skew(DT_imagebox.facebookbias_rating[DT_imagebox.facebookbias_rating<3]))"
   ]
  },
  {
   "cell_type": "code",
   "execution_count": 108,
   "metadata": {
    "collapsed": false
   },
   "outputs": [
    {
     "data": {
      "text/plain": [
       "Ks_2sampResult(statistic=0.20000000000000001, pvalue=1.3952493058599345e-05)"
      ]
     },
     "execution_count": 108,
     "metadata": {},
     "output_type": "execute_result"
    }
   ],
   "source": [
    "stats.ks_2samp(DT_baseline.facebookbias_rating[DT_baseline.final_rating_ints<3], \n",
    "                               DT_imagebox.facebookbias_rating[DT_imagebox.final_rating_ints<3])"
   ]
  },
  {
   "cell_type": "code",
   "execution_count": 125,
   "metadata": {
    "collapsed": false
   },
   "outputs": [
    {
     "data": {
      "text/plain": [
       "<matplotlib.axes._subplots.AxesSubplot at 0x10c8147f0>"
      ]
     },
     "execution_count": 125,
     "metadata": {},
     "output_type": "execute_result"
    },
    {
     "data": {
      "image/png": "[encoded data removed]",
      "text/plain": [
       "<matplotlib.figure.Figure at 0x10c7d3ef0>"
      ]
     },
     "metadata": {},
     "output_type": "display_data"
    }
   ],
   "source": [
    "DT_imagebox.facebookbias_rating.plot.hist(alpha=0.5, bins=20, range=(-1,1), color='red')"
   ]
  },
  {
   "cell_type": "code",
   "execution_count": 126,
   "metadata": {
    "collapsed": false
   },
   "outputs": [
    {
     "data": {
      "text/plain": [
       "<matplotlib.axes._subplots.AxesSubplot at 0x1135fc9e8>"
      ]
     },
     "execution_count": 126,
     "metadata": {},
     "output_type": "execute_result"
    },
    {
     "data": {
      "image/png": "[encoded data removed]",
      "text/plain": [
       "<matplotlib.figure.Figure at 0x10c862ba8>"
      ]
     },
     "metadata": {},
     "output_type": "display_data"
    }
   ],
   "source": [
    "DT_baseline.facebookbias_rating.plot.hist(alpha=0.5, bins=20, range=(-1,1), color='green')"
   ]
  },
  {
   "cell_type": "markdown",
   "metadata": {},
   "source": [
    "* This analyis shows that the distribution of political representation across image sources is different between the baseline images and those found in the image box, according to bias ratings obtained from a study on Facebook shares. \n",
    "* HC had increased representation from the Center-Left, and reduced tails - especially from the Right, which was gone. \n",
    "* DT mainted representation from the Center-Left, and also a little from the Right.\n",
    "* Still a signifiant proportion of sources were unrated in the Facebook study, leaving a lot of unknowns.\n",
    "* One possible conclusion is that the sources for the images found in the image box were obscure or unusual, or not the kind of sources typically found on Facebook, or not typically shared.\n",
    "* Another possible conclusion is that the coverege of bias ratings in the Facebook dataset is too limited, in that they only analysed shares of \"Hard News\" and not soft news. It is possible that the unrated sources hailed more from soft news."
   ]
  },
  {
   "cell_type": "markdown",
   "metadata": {},
   "source": [
    "# Statistical analysis on Allsides + Facebook + MondoTimes + my bias ratings:"
   ]
  },
  {
   "cell_type": "markdown",
   "metadata": {},
   "source": [
    "#### Convert strings to integers:"
   ]
  },
  {
   "cell_type": "code",
   "execution_count": 27,
   "metadata": {
    "collapsed": true
   },
   "outputs": [],
   "source": [
    "def convert_to_ints(col):\n",
    "    if col == 'Left':\n",
    "        return -1\n",
    "    elif col == 'Center':\n",
    "        return 0\n",
    "    elif col == 'Right':\n",
    "        return 1\n",
    "    else:\n",
    "        return np.nan"
   ]
  },
  {
   "cell_type": "code",
   "execution_count": 29,
   "metadata": {
    "collapsed": true
   },
   "outputs": [],
   "source": [
    "HC_imagebox['final_rating_ints'] = HC_imagebox.final_rating.apply(convert_to_ints)\n",
    "DT_imagebox['final_rating_ints'] = DT_imagebox.final_rating.apply(convert_to_ints)\n",
    "HC_baseline['final_rating_ints'] = HC_baseline.final_rating.apply(convert_to_ints)\n",
    "DT_baseline['final_rating_ints'] = DT_baseline.final_rating.apply(convert_to_ints)"
   ]
  },
  {
   "cell_type": "code",
   "execution_count": 127,
   "metadata": {
    "collapsed": false
   },
   "outputs": [
    {
     "data": {
      "text/plain": [
       "-1.0    221\n",
       " 1.0     75\n",
       " 0.0     41\n",
       "Name: final_rating_ints, dtype: int64"
      ]
     },
     "execution_count": 127,
     "metadata": {},
     "output_type": "execute_result"
    }
   ],
   "source": [
    "HC_imagebox.final_rating_ints.value_counts()"
   ]
  },
  {
   "cell_type": "code",
   "execution_count": 138,
   "metadata": {
    "collapsed": true
   },
   "outputs": [],
   "source": [
    "HC_baseline_counts = HC_baseline.final_rating.value_counts()\n",
    "HC_imagebox_counts = HC_imagebox.final_rating.value_counts()\n",
    "DT_baseline_counts = DT_baseline.final_rating.value_counts()\n",
    "DT_imagebox_counts = DT_imagebox.final_rating.value_counts()"
   ]
  },
  {
   "cell_type": "code",
   "execution_count": 139,
   "metadata": {
    "collapsed": false
   },
   "outputs": [
    {
     "data": {
      "text/plain": [
       "Left                    145\n",
       "Center                   92\n",
       "Right                    75\n",
       "Unknown / unreliable     41\n",
       "Name: final_rating, dtype: int64"
      ]
     },
     "execution_count": 139,
     "metadata": {},
     "output_type": "execute_result"
    }
   ],
   "source": [
    "HC_basline_counts.head()"
   ]
  },
  {
   "cell_type": "code",
   "execution_count": 140,
   "metadata": {
    "collapsed": false
   },
   "outputs": [],
   "source": [
    "normalised_bias_ratings = pd.DataFrame({'HC_ImageBox':HC_imagebox_counts,\n",
    "                                       'HC_Baseline' : HC_baseline_counts,\n",
    "                                       'DT_ImageBox': DT_imagebox_counts,\n",
    "                                       'DT_Baseline': DT_baseline_counts} )"
   ]
  },
  {
   "cell_type": "code",
   "execution_count": 141,
   "metadata": {
    "collapsed": false
   },
   "outputs": [
    {
     "data": {
      "text/html": [
       "<div>\n",
       "<table border=\"1\" class=\"dataframe\">\n",
       "  <thead>\n",
       "    <tr style=\"text-align: right;\">\n",
       "      <th></th>\n",
       "      <th>DT_Baseline</th>\n",
       "      <th>DT_ImageBox</th>\n",
       "      <th>HC_Baseline</th>\n",
       "      <th>HC_ImageBox</th>\n",
       "    </tr>\n",
       "  </thead>\n",
       "  <tbody>\n",
       "    <tr>\n",
       "      <th>Center</th>\n",
       "      <td>88</td>\n",
       "      <td>71.0</td>\n",
       "      <td>92</td>\n",
       "      <td>41.0</td>\n",
       "    </tr>\n",
       "    <tr>\n",
       "      <th>Left</th>\n",
       "      <td>154</td>\n",
       "      <td>172.0</td>\n",
       "      <td>145</td>\n",
       "      <td>221.0</td>\n",
       "    </tr>\n",
       "    <tr>\n",
       "      <th>Right</th>\n",
       "      <td>33</td>\n",
       "      <td>65.0</td>\n",
       "      <td>75</td>\n",
       "      <td>75.0</td>\n",
       "    </tr>\n",
       "    <tr>\n",
       "      <th>Unknown / unreliable</th>\n",
       "      <td>23</td>\n",
       "      <td>NaN</td>\n",
       "      <td>41</td>\n",
       "      <td>NaN</td>\n",
       "    </tr>\n",
       "  </tbody>\n",
       "</table>\n",
       "</div>"
      ],
      "text/plain": [
       "                      DT_Baseline  DT_ImageBox  HC_Baseline  HC_ImageBox\n",
       "Center                         88         71.0           92         41.0\n",
       "Left                          154        172.0          145        221.0\n",
       "Right                          33         65.0           75         75.0\n",
       "Unknown / unreliable           23          NaN           41          NaN"
      ]
     },
     "execution_count": 141,
     "metadata": {},
     "output_type": "execute_result"
    }
   ],
   "source": [
    "normalised_bias_ratings"
   ]
  },
  {
   "cell_type": "code",
   "execution_count": 142,
   "metadata": {
    "collapsed": false
   },
   "outputs": [
    {
     "data": {
      "text/plain": [
       "298"
      ]
     },
     "execution_count": 142,
     "metadata": {},
     "output_type": "execute_result"
    }
   ],
   "source": [
    "normalised_bias_ratings.DT_Baseline.sum()"
   ]
  },
  {
   "cell_type": "code",
   "execution_count": 144,
   "metadata": {
    "collapsed": false
   },
   "outputs": [],
   "source": [
    "def return_percentage(col):\n",
    "    print(col)"
   ]
  },
  {
   "cell_type": "code",
   "execution_count": 145,
   "metadata": {
    "collapsed": false
   },
   "outputs": [
    {
     "name": "stdout",
     "output_type": "stream",
     "text": [
      "88\n",
      "154\n",
      "33\n",
      "23\n"
     ]
    },
    {
     "data": {
      "text/plain": [
       "Center                  None\n",
       "Left                    None\n",
       "Right                   None\n",
       "Unknown / unreliable    None\n",
       "Name: DT_Baseline, dtype: object"
      ]
     },
     "execution_count": 145,
     "metadata": {},
     "output_type": "execute_result"
    }
   ],
   "source": [
    "normalised_bias_ratings.DT_Baseline.apply(return_percentage)"
   ]
  },
  {
   "cell_type": "markdown",
   "metadata": {},
   "source": [
    "#### Test Hillary Clinton Image Box images against Baseline images:"
   ]
  },
  {
   "cell_type": "code",
   "execution_count": 112,
   "metadata": {
    "collapsed": false
   },
   "outputs": [
    {
     "data": {
      "text/plain": [
       "Power_divergenceResult(statistic=58.389120439780108, pvalue=2.0939369225173659e-13)"
      ]
     },
     "execution_count": 112,
     "metadata": {},
     "output_type": "execute_result"
    }
   ],
   "source": [
    "stats.chisquare(f_exp=HC_baseline.final_rating_ints[HC_baseline.final_rating_ints<3].value_counts(), \n",
    "               f_obs=HC_imagebox.final_rating_ints[HC_imagebox.final_rating_ints<3].value_counts())"
   ]
  },
  {
   "cell_type": "code",
   "execution_count": 71,
   "metadata": {
    "collapsed": false
   },
   "outputs": [
    {
     "data": {
      "text/plain": [
       "<matplotlib.axes._subplots.AxesSubplot at 0x1132dc668>"
      ]
     },
     "execution_count": 71,
     "metadata": {},
     "output_type": "execute_result"
    },
    {
     "data": {
      "image/png": "[encoded data removed]",
      "text/plain": [
       "<matplotlib.figure.Figure at 0x1132df780>"
      ]
     },
     "metadata": {},
     "output_type": "display_data"
    }
   ],
   "source": [
    "HC_imagebox.final_rating_ints.plot.hist(alpha=0.5, bins=20, range=(-1,1), color='blue')\n",
    "HC_baseline.final_rating_ints.plot.hist(alpha=0.5, bins=20, range=(-1,1), color='green')"
   ]
  },
  {
   "cell_type": "markdown",
   "metadata": {},
   "source": [
    "#### Test Donald Trump Image Box images against Basline images:"
   ]
  },
  {
   "cell_type": "code",
   "execution_count": 118,
   "metadata": {
    "collapsed": false
   },
   "outputs": [
    {
     "name": "stdout",
     "output_type": "stream",
     "text": [
      "Baseline skew:  0.8467251756670073\n",
      "Image Box skew:  0.7093580803757418\n"
     ]
    }
   ],
   "source": [
    "print(\"Baseline skew: \", stats.skew(DT_baseline.final_rating_ints[DT_baseline.final_rating_ints<3]))\n",
    "print(\"Image Box skew: \", stats.skew(DT_imagebox.final_rating_ints[DT_imagebox.final_rating_ints<3]))"
   ]
  },
  {
   "cell_type": "code",
   "execution_count": 111,
   "metadata": {
    "collapsed": false
   },
   "outputs": [
    {
     "data": {
      "text/plain": [
       "Power_divergenceResult(statistic=36.418290043290042, pvalue=1.235574102398194e-08)"
      ]
     },
     "execution_count": 111,
     "metadata": {},
     "output_type": "execute_result"
    }
   ],
   "source": [
    "stats.chisquare(f_exp=DT_baseline.final_rating_ints[DT_baseline.final_rating_ints<3].value_counts(), \n",
    "               f_obs=DT_imagebox.final_rating_ints[DT_imagebox.final_rating_ints<3].value_counts())"
   ]
  },
  {
   "cell_type": "code",
   "execution_count": 66,
   "metadata": {
    "collapsed": false
   },
   "outputs": [
    {
     "data": {
      "text/plain": [
       "<matplotlib.axes._subplots.AxesSubplot at 0x1130a9278>"
      ]
     },
     "execution_count": 66,
     "metadata": {},
     "output_type": "execute_result"
    },
    {
     "data": {
      "image/png": "[encoded data removed]",
      "text/plain": [
       "<matplotlib.figure.Figure at 0x1130b32e8>"
      ]
     },
     "metadata": {},
     "output_type": "display_data"
    }
   ],
   "source": [
    "DT_imagebox.final_rating_ints.plot.hist(alpha=0.5, bins=[-1.5, -1, -0.5, 0, 0.5, 1, 1.5], color='red')\n",
    "DT_baseline.final_rating_ints.plot.hist(alpha=0.5, bins=[-1.5, -1, -0.5, 0, 0.5, 1, 1.5],  color='green')"
   ]
  },
  {
   "cell_type": "markdown",
   "metadata": {},
   "source": [
    "* This analyis shows that the distribution of political representation across image sources is different between the baseline images and those found in the image box ONLY FOR HC. Images for DT were found to be from sources with a similar range of political bias as the images available from the Baseline dataset.\n",
    "* HC image box images increased Left sources and decreased Center sources. Those from the right remained the same, leaving the viewers with the impression that views are extreme, polarised, divided. \n",
    "* DT image box images are pretty much the same as in baseline, with slightely increased representation of Left and Right sources, while the center is reduced slightly. None of this is significant, however. a"
   ]
  },
  {
   "cell_type": "markdown",
   "metadata": {},
   "source": [
    "# Conclusion:\n",
    "* Using Google as its own baseline was suffiient to conclude that representation is different, indicating that bias is introduced in the curation of images for the image box, regardless of which bias rating system was employed. \n",
    "* Depending on your bias rating, you can end up with different conclusions. \n",
    "* Alternative baselines could have been:\n",
    "    * Google Image Search images collected at the same as the image box images, once per day; \n",
    "    * Images collected from Image Search from Google and Bing and DDG etc for the same time period\n",
    "* Bias ratings could have focussed on the bias of that specific article or page that the Image took you to. But that is a different question."
   ]
  }
 ],
 "metadata": {
  "kernelspec": {
   "display_name": "Python 3",
   "language": "python",
   "name": "python3"
  },
  "language_info": {
   "codemirror_mode": {
    "name": "ipython",
    "version": 3
   },
   "file_extension": ".py",
   "mimetype": "text/x-python",
   "name": "python",
   "nbconvert_exporter": "python",
   "pygments_lexer": "ipython3",
   "version": "3.4.5"
  }
 },
 "nbformat": 4,
 "nbformat_minor": 0
}
