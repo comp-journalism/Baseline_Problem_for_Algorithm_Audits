{
 "cells": [
  {
   "cell_type": "code",
   "execution_count": 1,
   "metadata": {
    "collapsed": true
   },
   "outputs": [],
   "source": [
    "import pandas as pd\n",
    "import numpy as np\n",
    "import json\n",
    "import matplotlib.pyplot as plt\n",
    "import glob\n",
    "\n",
    "%matplotlib inline\n",
    "\n",
    "plt.style.use('ggplot')\n",
    "plt.rcParams['figure.figsize'] = (15, 3)\n",
    "plt.rcParams['font.family'] = 'sans-serif'\n",
    "\n",
    "pd.set_option('display.width', 5000) \n",
    "pd.set_option('display.max_columns', 60)\n",
    "pd.set_option('max_colwidth',150)"
   ]
  },
  {
   "cell_type": "markdown",
   "metadata": {},
   "source": [
    "# Microsoft Emotion API Data\n",
    "## Images were placed into the API by hand since there were so few. This step was automated using the API for the Baseline data"
   ]
  },
  {
   "cell_type": "code",
   "execution_count": 2,
   "metadata": {
    "collapsed": false
   },
   "outputs": [],
   "source": [
    "def read_jsons(f, candidate):\n",
    "   \n",
    "    tmp_dict = {}\n",
    "    with open(f) as json_file:    \n",
    "        data = json.load(json_file)\n",
    "        for i in data[0]['scores']:\n",
    "            if data[0]['scores'][i] > 0.55:   # confidence score threshold. \n",
    "                tmp_dict[i] = data[0]['scores'][i]\n",
    "            else: tmp_dict[i] = np.nan\n",
    "                \n",
    "        tmp_dict['image_file'] = f.split('/')[-1]    \n",
    "        \n",
    "        return tmp_dict"
   ]
  },
  {
   "cell_type": "code",
   "execution_count": 3,
   "metadata": {
    "collapsed": true
   },
   "outputs": [],
   "source": [
    "basefilepath = './MicrosoftEmotionAPI/'\n",
    "\n",
    "def get_json(path, candidate):\n",
    "    \n",
    "    for f in glob.glob(path + '*.json'):\n",
    "        #print(f)\n",
    "        if candidate in f:\n",
    "            row_list.append(read_jsons(f, candidate))"
   ]
  },
  {
   "cell_type": "code",
   "execution_count": 4,
   "metadata": {
    "collapsed": false
   },
   "outputs": [],
   "source": [
    "row_list = []\n",
    "get_json(basefilepath, 'hillary_clinton')\n",
    "HCDF = pd.DataFrame(row_list)  "
   ]
  },
  {
   "cell_type": "code",
   "execution_count": 5,
   "metadata": {
    "collapsed": false
   },
   "outputs": [
    {
     "data": {
      "text/html": [
       "<div>\n",
       "<table border=\"1\" class=\"dataframe\">\n",
       "  <thead>\n",
       "    <tr style=\"text-align: right;\">\n",
       "      <th></th>\n",
       "      <th>anger</th>\n",
       "      <th>contempt</th>\n",
       "      <th>disgust</th>\n",
       "      <th>fear</th>\n",
       "      <th>happiness</th>\n",
       "      <th>image_file</th>\n",
       "      <th>neutral</th>\n",
       "      <th>sadness</th>\n",
       "      <th>surprise</th>\n",
       "    </tr>\n",
       "  </thead>\n",
       "  <tbody>\n",
       "    <tr>\n",
       "      <th>0</th>\n",
       "      <td>NaN</td>\n",
       "      <td>NaN</td>\n",
       "      <td>NaN</td>\n",
       "      <td>NaN</td>\n",
       "      <td>1.000000</td>\n",
       "      <td>4352_1_hillary_clinton_1_googleplus_ 861e1f37179f0e8c.json</td>\n",
       "      <td>NaN</td>\n",
       "      <td>NaN</td>\n",
       "      <td>NaN</td>\n",
       "    </tr>\n",
       "    <tr>\n",
       "      <th>1</th>\n",
       "      <td>NaN</td>\n",
       "      <td>NaN</td>\n",
       "      <td>NaN</td>\n",
       "      <td>NaN</td>\n",
       "      <td>1.000000</td>\n",
       "      <td>4352_2_hillary_clinton_2_wikipedia_ 764fce5e4be6b6d2_SMALLER.json</td>\n",
       "      <td>NaN</td>\n",
       "      <td>NaN</td>\n",
       "      <td>NaN</td>\n",
       "    </tr>\n",
       "    <tr>\n",
       "      <th>2</th>\n",
       "      <td>NaN</td>\n",
       "      <td>NaN</td>\n",
       "      <td>NaN</td>\n",
       "      <td>NaN</td>\n",
       "      <td>0.999941</td>\n",
       "      <td>4352_3_hillary_clinton_3_russiainsider_ 2f1e0e0e1f1b1b9b.json</td>\n",
       "      <td>NaN</td>\n",
       "      <td>NaN</td>\n",
       "      <td>NaN</td>\n",
       "    </tr>\n",
       "    <tr>\n",
       "      <th>3</th>\n",
       "      <td>NaN</td>\n",
       "      <td>NaN</td>\n",
       "      <td>NaN</td>\n",
       "      <td>NaN</td>\n",
       "      <td>NaN</td>\n",
       "      <td>4352_4_hillary_clinton_4_cnn_ 96970f0706064e86.json</td>\n",
       "      <td>0.792941</td>\n",
       "      <td>NaN</td>\n",
       "      <td>NaN</td>\n",
       "    </tr>\n",
       "    <tr>\n",
       "      <th>4</th>\n",
       "      <td>NaN</td>\n",
       "      <td>NaN</td>\n",
       "      <td>NaN</td>\n",
       "      <td>NaN</td>\n",
       "      <td>NaN</td>\n",
       "      <td>4352_5_hillary_clinton_5_youtube_ 983d7d1c3c1c1c6f.json</td>\n",
       "      <td>NaN</td>\n",
       "      <td>NaN</td>\n",
       "      <td>0.641825</td>\n",
       "    </tr>\n",
       "    <tr>\n",
       "      <th>5</th>\n",
       "      <td>NaN</td>\n",
       "      <td>NaN</td>\n",
       "      <td>NaN</td>\n",
       "      <td>NaN</td>\n",
       "      <td>0.854808</td>\n",
       "      <td>4509_31_hillary_clinton_6_biography_decfc7c7cec6cecc.json</td>\n",
       "      <td>NaN</td>\n",
       "      <td>NaN</td>\n",
       "      <td>NaN</td>\n",
       "    </tr>\n",
       "    <tr>\n",
       "      <th>6</th>\n",
       "      <td>NaN</td>\n",
       "      <td>NaN</td>\n",
       "      <td>NaN</td>\n",
       "      <td>NaN</td>\n",
       "      <td>0.603577</td>\n",
       "      <td>5013_29_hillary_clinton_5_time_ c7cbc787c7c72d2c.json</td>\n",
       "      <td>NaN</td>\n",
       "      <td>NaN</td>\n",
       "      <td>NaN</td>\n",
       "    </tr>\n",
       "    <tr>\n",
       "      <th>7</th>\n",
       "      <td>NaN</td>\n",
       "      <td>NaN</td>\n",
       "      <td>NaN</td>\n",
       "      <td>NaN</td>\n",
       "      <td>0.927040</td>\n",
       "      <td>5733_30_hillary_clinton_6_mises_ 4f9f8f0f172a4acd.json</td>\n",
       "      <td>NaN</td>\n",
       "      <td>NaN</td>\n",
       "      <td>NaN</td>\n",
       "    </tr>\n",
       "    <tr>\n",
       "      <th>8</th>\n",
       "      <td>NaN</td>\n",
       "      <td>NaN</td>\n",
       "      <td>NaN</td>\n",
       "      <td>NaN</td>\n",
       "      <td>1.000000</td>\n",
       "      <td>5805_30_hillary_clinton_6_politico_ 27464666644d5434.json</td>\n",
       "      <td>NaN</td>\n",
       "      <td>NaN</td>\n",
       "      <td>NaN</td>\n",
       "    </tr>\n",
       "  </tbody>\n",
       "</table>\n",
       "</div>"
      ],
      "text/plain": [
       "   anger  contempt  disgust  fear  happiness                                                         image_file   neutral  sadness  surprise\n",
       "0    NaN       NaN      NaN   NaN   1.000000         4352_1_hillary_clinton_1_googleplus_ 861e1f37179f0e8c.json       NaN      NaN       NaN\n",
       "1    NaN       NaN      NaN   NaN   1.000000  4352_2_hillary_clinton_2_wikipedia_ 764fce5e4be6b6d2_SMALLER.json       NaN      NaN       NaN\n",
       "2    NaN       NaN      NaN   NaN   0.999941      4352_3_hillary_clinton_3_russiainsider_ 2f1e0e0e1f1b1b9b.json       NaN      NaN       NaN\n",
       "3    NaN       NaN      NaN   NaN        NaN                4352_4_hillary_clinton_4_cnn_ 96970f0706064e86.json  0.792941      NaN       NaN\n",
       "4    NaN       NaN      NaN   NaN        NaN            4352_5_hillary_clinton_5_youtube_ 983d7d1c3c1c1c6f.json       NaN      NaN  0.641825\n",
       "5    NaN       NaN      NaN   NaN   0.854808          4509_31_hillary_clinton_6_biography_decfc7c7cec6cecc.json       NaN      NaN       NaN\n",
       "6    NaN       NaN      NaN   NaN   0.603577              5013_29_hillary_clinton_5_time_ c7cbc787c7c72d2c.json       NaN      NaN       NaN\n",
       "7    NaN       NaN      NaN   NaN   0.927040             5733_30_hillary_clinton_6_mises_ 4f9f8f0f172a4acd.json       NaN      NaN       NaN\n",
       "8    NaN       NaN      NaN   NaN   1.000000          5805_30_hillary_clinton_6_politico_ 27464666644d5434.json       NaN      NaN       NaN"
      ]
     },
     "execution_count": 5,
     "metadata": {},
     "output_type": "execute_result"
    }
   ],
   "source": [
    "HCDF.head(11)"
   ]
  },
  {
   "cell_type": "markdown",
   "metadata": {},
   "source": [
    "## Plotting sentiment for each image."
   ]
  },
  {
   "cell_type": "code",
   "execution_count": 6,
   "metadata": {
    "collapsed": false
   },
   "outputs": [
    {
     "data": {
      "text/plain": [
       "<matplotlib.legend.Legend at 0x1056e09b0>"
      ]
     },
     "execution_count": 6,
     "metadata": {},
     "output_type": "execute_result"
    },
    {
     "data": {
      "image/png": "[encoded data removed]",
      "text/plain": [
       "<matplotlib.figure.Figure at 0x1056e00f0>"
      ]
     },
     "metadata": {},
     "output_type": "display_data"
    }
   ],
   "source": [
    "HCDF.plot(kind='bar', ylim=(0,1))\n",
    "plt.legend(bbox_to_anchor=(1.1, 1))"
   ]
  },
  {
   "cell_type": "code",
   "execution_count": 7,
   "metadata": {
    "collapsed": false
   },
   "outputs": [
    {
     "data": {
      "text/html": [
       "<div>\n",
       "<table border=\"1\" class=\"dataframe\">\n",
       "  <thead>\n",
       "    <tr style=\"text-align: right;\">\n",
       "      <th></th>\n",
       "      <th>anger</th>\n",
       "      <th>contempt</th>\n",
       "      <th>disgust</th>\n",
       "      <th>fear</th>\n",
       "      <th>happiness</th>\n",
       "      <th>image_file</th>\n",
       "      <th>neutral</th>\n",
       "      <th>sadness</th>\n",
       "      <th>surprise</th>\n",
       "    </tr>\n",
       "  </thead>\n",
       "  <tbody>\n",
       "    <tr>\n",
       "      <th>0</th>\n",
       "      <td>NaN</td>\n",
       "      <td>NaN</td>\n",
       "      <td>NaN</td>\n",
       "      <td>NaN</td>\n",
       "      <td>NaN</td>\n",
       "      <td>4353_21_donald_trump_1_googleplus_ eec7c3ebd3726569.json</td>\n",
       "      <td>0.682655</td>\n",
       "      <td>NaN</td>\n",
       "      <td>NaN</td>\n",
       "    </tr>\n",
       "    <tr>\n",
       "      <th>1</th>\n",
       "      <td>NaN</td>\n",
       "      <td>NaN</td>\n",
       "      <td>NaN</td>\n",
       "      <td>NaN</td>\n",
       "      <td>NaN</td>\n",
       "      <td>4353_22_donald_trump_2_wikipedia_ 0c8686168ca4ae2d.json</td>\n",
       "      <td>0.848894</td>\n",
       "      <td>NaN</td>\n",
       "      <td>NaN</td>\n",
       "    </tr>\n",
       "    <tr>\n",
       "      <th>2</th>\n",
       "      <td>NaN</td>\n",
       "      <td>NaN</td>\n",
       "      <td>NaN</td>\n",
       "      <td>NaN</td>\n",
       "      <td>0.887991</td>\n",
       "      <td>4353_23_donald_trump_3_businessinsider_ cdcf4e4e4d4dcd9d.json</td>\n",
       "      <td>NaN</td>\n",
       "      <td>NaN</td>\n",
       "      <td>NaN</td>\n",
       "    </tr>\n",
       "    <tr>\n",
       "      <th>3</th>\n",
       "      <td>NaN</td>\n",
       "      <td>NaN</td>\n",
       "      <td>NaN</td>\n",
       "      <td>NaN</td>\n",
       "      <td>NaN</td>\n",
       "      <td>4353_24_donald_trump_4_snopes_ 4d4d0f4e465b4b8c.json</td>\n",
       "      <td>0.873584</td>\n",
       "      <td>NaN</td>\n",
       "      <td>NaN</td>\n",
       "    </tr>\n",
       "    <tr>\n",
       "      <th>4</th>\n",
       "      <td>NaN</td>\n",
       "      <td>NaN</td>\n",
       "      <td>NaN</td>\n",
       "      <td>NaN</td>\n",
       "      <td>NaN</td>\n",
       "      <td>4353_25_donald_trump_5_theodysseyonline_headlinepolitics_ 9b1919199999993a.json</td>\n",
       "      <td>NaN</td>\n",
       "      <td>NaN</td>\n",
       "      <td>NaN</td>\n",
       "    </tr>\n",
       "    <tr>\n",
       "      <th>5</th>\n",
       "      <td>NaN</td>\n",
       "      <td>NaN</td>\n",
       "      <td>NaN</td>\n",
       "      <td>NaN</td>\n",
       "      <td>NaN</td>\n",
       "      <td>4353_26_donald_trump_6_slate_ 961b1b191999363e.json</td>\n",
       "      <td>0.981299</td>\n",
       "      <td>NaN</td>\n",
       "      <td>NaN</td>\n",
       "    </tr>\n",
       "    <tr>\n",
       "      <th>6</th>\n",
       "      <td>NaN</td>\n",
       "      <td>NaN</td>\n",
       "      <td>NaN</td>\n",
       "      <td>NaN</td>\n",
       "      <td>NaN</td>\n",
       "      <td>4436_10_donald_trump_6_cnn_ 8e8686064e4f4745.json</td>\n",
       "      <td>NaN</td>\n",
       "      <td>NaN</td>\n",
       "      <td>NaN</td>\n",
       "    </tr>\n",
       "    <tr>\n",
       "      <th>7</th>\n",
       "      <td>0.664931</td>\n",
       "      <td>NaN</td>\n",
       "      <td>NaN</td>\n",
       "      <td>NaN</td>\n",
       "      <td>NaN</td>\n",
       "      <td>4580_10_donald_trump_6_wonkette_ 961a1a1b8bcb9e9b.json</td>\n",
       "      <td>NaN</td>\n",
       "      <td>NaN</td>\n",
       "      <td>NaN</td>\n",
       "    </tr>\n",
       "    <tr>\n",
       "      <th>8</th>\n",
       "      <td>NaN</td>\n",
       "      <td>NaN</td>\n",
       "      <td>NaN</td>\n",
       "      <td>NaN</td>\n",
       "      <td>NaN</td>\n",
       "      <td>5084_5_donald_trump_2_wikipedia_ 1d8e9e948cacad4d.json</td>\n",
       "      <td>0.931672</td>\n",
       "      <td>NaN</td>\n",
       "      <td>NaN</td>\n",
       "    </tr>\n",
       "    <tr>\n",
       "      <th>9</th>\n",
       "      <td>NaN</td>\n",
       "      <td>NaN</td>\n",
       "      <td>NaN</td>\n",
       "      <td>NaN</td>\n",
       "      <td>NaN</td>\n",
       "      <td>5372_6_donald_trump_3_slate_reddit_ cb49890dce9e9495.json</td>\n",
       "      <td>0.654215</td>\n",
       "      <td>NaN</td>\n",
       "      <td>NaN</td>\n",
       "    </tr>\n",
       "    <tr>\n",
       "      <th>10</th>\n",
       "      <td>NaN</td>\n",
       "      <td>NaN</td>\n",
       "      <td>NaN</td>\n",
       "      <td>NaN</td>\n",
       "      <td>1.000000</td>\n",
       "      <td>5588_8_donald_trump_5_nationalreview_ 1e3e3e3f3b169b93.json</td>\n",
       "      <td>NaN</td>\n",
       "      <td>NaN</td>\n",
       "      <td>NaN</td>\n",
       "    </tr>\n",
       "    <tr>\n",
       "      <th>11</th>\n",
       "      <td>NaN</td>\n",
       "      <td>NaN</td>\n",
       "      <td>NaN</td>\n",
       "      <td>NaN</td>\n",
       "      <td>NaN</td>\n",
       "      <td>5876_5_donald_trump_2_wikipedia_ 1c8e9e948cacad4d.json</td>\n",
       "      <td>0.852563</td>\n",
       "      <td>NaN</td>\n",
       "      <td>NaN</td>\n",
       "    </tr>\n",
       "  </tbody>\n",
       "</table>\n",
       "</div>"
      ],
      "text/plain": [
       "       anger  contempt  disgust  fear  happiness                                                                       image_file   neutral  sadness  surprise\n",
       "0        NaN       NaN      NaN   NaN        NaN                         4353_21_donald_trump_1_googleplus_ eec7c3ebd3726569.json  0.682655      NaN       NaN\n",
       "1        NaN       NaN      NaN   NaN        NaN                          4353_22_donald_trump_2_wikipedia_ 0c8686168ca4ae2d.json  0.848894      NaN       NaN\n",
       "2        NaN       NaN      NaN   NaN   0.887991                    4353_23_donald_trump_3_businessinsider_ cdcf4e4e4d4dcd9d.json       NaN      NaN       NaN\n",
       "3        NaN       NaN      NaN   NaN        NaN                             4353_24_donald_trump_4_snopes_ 4d4d0f4e465b4b8c.json  0.873584      NaN       NaN\n",
       "4        NaN       NaN      NaN   NaN        NaN  4353_25_donald_trump_5_theodysseyonline_headlinepolitics_ 9b1919199999993a.json       NaN      NaN       NaN\n",
       "5        NaN       NaN      NaN   NaN        NaN                              4353_26_donald_trump_6_slate_ 961b1b191999363e.json  0.981299      NaN       NaN\n",
       "6        NaN       NaN      NaN   NaN        NaN                                4436_10_donald_trump_6_cnn_ 8e8686064e4f4745.json       NaN      NaN       NaN\n",
       "7   0.664931       NaN      NaN   NaN        NaN                           4580_10_donald_trump_6_wonkette_ 961a1a1b8bcb9e9b.json       NaN      NaN       NaN\n",
       "8        NaN       NaN      NaN   NaN        NaN                           5084_5_donald_trump_2_wikipedia_ 1d8e9e948cacad4d.json  0.931672      NaN       NaN\n",
       "9        NaN       NaN      NaN   NaN        NaN                        5372_6_donald_trump_3_slate_reddit_ cb49890dce9e9495.json  0.654215      NaN       NaN\n",
       "10       NaN       NaN      NaN   NaN   1.000000                      5588_8_donald_trump_5_nationalreview_ 1e3e3e3f3b169b93.json       NaN      NaN       NaN\n",
       "11       NaN       NaN      NaN   NaN        NaN                           5876_5_donald_trump_2_wikipedia_ 1c8e9e948cacad4d.json  0.852563      NaN       NaN"
      ]
     },
     "execution_count": 7,
     "metadata": {},
     "output_type": "execute_result"
    }
   ],
   "source": [
    "row_list = []\n",
    "get_json(basefilepath, 'donald_trump')\n",
    "DTDF = pd.DataFrame(row_list)  \n",
    "DTDF.head(12)"
   ]
  },
  {
   "cell_type": "markdown",
   "metadata": {},
   "source": [
    "## Plotting sentiment for each image"
   ]
  },
  {
   "cell_type": "code",
   "execution_count": 8,
   "metadata": {
    "collapsed": false
   },
   "outputs": [
    {
     "data": {
      "text/plain": [
       "<matplotlib.legend.Legend at 0x109509320>"
      ]
     },
     "execution_count": 8,
     "metadata": {},
     "output_type": "execute_result"
    },
    {
     "data": {
      "image/png": "[encoded data removed]",
      "text/plain": [
       "<matplotlib.figure.Figure at 0x10c9cf550>"
      ]
     },
     "metadata": {},
     "output_type": "display_data"
    }
   ],
   "source": [
    "DTDF.plot(kind='bar',ylim=(0,1))\n",
    "plt.legend(bbox_to_anchor=(1.12, 1))"
   ]
  },
  {
   "cell_type": "markdown",
   "metadata": {},
   "source": [
    "# Microsoft Face API"
   ]
  },
  {
   "cell_type": "code",
   "execution_count": 9,
   "metadata": {
    "collapsed": true
   },
   "outputs": [],
   "source": [
    "def read_jsons_faceAPI(f, candidate):\n",
    "   \n",
    "    tmp_dict = {}\n",
    "    with open(f) as json_file:    \n",
    "        data = json.load(json_file)\n",
    "        if data[0]['faceAttributes']['smile'] > 0.55:\n",
    "            tmp_dict['smile'] = data[0]['faceAttributes']['smile']\n",
    "        else: tmp_dict['smile'] = np.nan\n",
    "        tmp_dict['age'] = data[0]['faceAttributes']['age']\n",
    "        tmp_dict['image_file'] = f.split('/')[-1]\n",
    "        \n",
    "        return tmp_dict"
   ]
  },
  {
   "cell_type": "code",
   "execution_count": 10,
   "metadata": {
    "collapsed": true
   },
   "outputs": [],
   "source": [
    "basefilepath = './MicrosoftFaceAPI/'\n",
    "\n",
    "def get_json(path, candidate):\n",
    "    \n",
    "    for f in glob.glob(path + '*.json'):\n",
    "        #print(f)\n",
    "        if candidate in f:\n",
    "            row_list.append(read_jsons_faceAPI(f, candidate))"
   ]
  },
  {
   "cell_type": "code",
   "execution_count": 11,
   "metadata": {
    "collapsed": false
   },
   "outputs": [],
   "source": [
    "row_list = []\n",
    "get_json(basefilepath, 'hillary_clinton')\n",
    "HC_Face = pd.DataFrame(row_list)  "
   ]
  },
  {
   "cell_type": "code",
   "execution_count": 12,
   "metadata": {
    "collapsed": false
   },
   "outputs": [
    {
     "data": {
      "text/html": [
       "<div>\n",
       "<table border=\"1\" class=\"dataframe\">\n",
       "  <thead>\n",
       "    <tr style=\"text-align: right;\">\n",
       "      <th></th>\n",
       "      <th>age</th>\n",
       "      <th>image_file</th>\n",
       "      <th>smile</th>\n",
       "    </tr>\n",
       "  </thead>\n",
       "  <tbody>\n",
       "    <tr>\n",
       "      <th>0</th>\n",
       "      <td>51.8</td>\n",
       "      <td>4352_1_hillary_clinton_1_googleplus_ 861e1f37179f0e8c.json</td>\n",
       "      <td>1.000</td>\n",
       "    </tr>\n",
       "    <tr>\n",
       "      <th>1</th>\n",
       "      <td>48.6</td>\n",
       "      <td>4352_2_hillary_clinton_2_wikipedia_ 764fce5e4be6b6d2_SMALLER.json</td>\n",
       "      <td>1.000</td>\n",
       "    </tr>\n",
       "    <tr>\n",
       "      <th>2</th>\n",
       "      <td>47.4</td>\n",
       "      <td>4352_3_hillary_clinton_3_russiainsider_ 2f1e0e0e1f1b1b9b.json</td>\n",
       "      <td>1.000</td>\n",
       "    </tr>\n",
       "    <tr>\n",
       "      <th>3</th>\n",
       "      <td>51.1</td>\n",
       "      <td>4352_4_hillary_clinton_4_cnn_ 96970f0706064e86.json</td>\n",
       "      <td>NaN</td>\n",
       "    </tr>\n",
       "    <tr>\n",
       "      <th>4</th>\n",
       "      <td>55.7</td>\n",
       "      <td>4352_5_hillary_clinton_5_youtube_ 983d7d1c3c1c1c6f.json</td>\n",
       "      <td>NaN</td>\n",
       "    </tr>\n",
       "    <tr>\n",
       "      <th>5</th>\n",
       "      <td>48.4</td>\n",
       "      <td>4509_31_hillary_clinton_6_biography_decfc7c7cec6cecc.json</td>\n",
       "      <td>0.736</td>\n",
       "    </tr>\n",
       "    <tr>\n",
       "      <th>6</th>\n",
       "      <td>57.7</td>\n",
       "      <td>5013_29_hillary_clinton_5_time_ c7cbc787c7c72d2c.json</td>\n",
       "      <td>NaN</td>\n",
       "    </tr>\n",
       "    <tr>\n",
       "      <th>7</th>\n",
       "      <td>55.2</td>\n",
       "      <td>5733_30_hillary_clinton_6_mises_ 4f9f8f0f172a4acd.json</td>\n",
       "      <td>0.999</td>\n",
       "    </tr>\n",
       "    <tr>\n",
       "      <th>8</th>\n",
       "      <td>56.3</td>\n",
       "      <td>5805_30_hillary_clinton_6_politico_ 27464666644d5434.json</td>\n",
       "      <td>1.000</td>\n",
       "    </tr>\n",
       "  </tbody>\n",
       "</table>\n",
       "</div>"
      ],
      "text/plain": [
       "    age                                                         image_file  smile\n",
       "0  51.8         4352_1_hillary_clinton_1_googleplus_ 861e1f37179f0e8c.json  1.000\n",
       "1  48.6  4352_2_hillary_clinton_2_wikipedia_ 764fce5e4be6b6d2_SMALLER.json  1.000\n",
       "2  47.4      4352_3_hillary_clinton_3_russiainsider_ 2f1e0e0e1f1b1b9b.json  1.000\n",
       "3  51.1                4352_4_hillary_clinton_4_cnn_ 96970f0706064e86.json    NaN\n",
       "4  55.7            4352_5_hillary_clinton_5_youtube_ 983d7d1c3c1c1c6f.json    NaN\n",
       "5  48.4          4509_31_hillary_clinton_6_biography_decfc7c7cec6cecc.json  0.736\n",
       "6  57.7              5013_29_hillary_clinton_5_time_ c7cbc787c7c72d2c.json    NaN\n",
       "7  55.2             5733_30_hillary_clinton_6_mises_ 4f9f8f0f172a4acd.json  0.999\n",
       "8  56.3          5805_30_hillary_clinton_6_politico_ 27464666644d5434.json  1.000"
      ]
     },
     "execution_count": 12,
     "metadata": {},
     "output_type": "execute_result"
    }
   ],
   "source": [
    "HC_Face"
   ]
  },
  {
   "cell_type": "code",
   "execution_count": 13,
   "metadata": {
    "collapsed": false
   },
   "outputs": [
    {
     "data": {
      "text/plain": [
       "age      52.466667\n",
       "smile     0.955833\n",
       "dtype: float64"
      ]
     },
     "execution_count": 13,
     "metadata": {},
     "output_type": "execute_result"
    }
   ],
   "source": [
    "HC_Face.mean()     # Current actual age = 68"
   ]
  },
  {
   "cell_type": "code",
   "execution_count": 14,
   "metadata": {
    "collapsed": false
   },
   "outputs": [
    {
     "data": {
      "text/html": [
       "<div>\n",
       "<table border=\"1\" class=\"dataframe\">\n",
       "  <thead>\n",
       "    <tr style=\"text-align: right;\">\n",
       "      <th></th>\n",
       "      <th>age</th>\n",
       "      <th>image_file</th>\n",
       "      <th>smile</th>\n",
       "    </tr>\n",
       "  </thead>\n",
       "  <tbody>\n",
       "    <tr>\n",
       "      <th>0</th>\n",
       "      <td>51.8</td>\n",
       "      <td>4352_1_hillary_clinton_1_googleplus_ 861e1f37179f0e8c.json</td>\n",
       "      <td>1.000</td>\n",
       "    </tr>\n",
       "    <tr>\n",
       "      <th>1</th>\n",
       "      <td>48.6</td>\n",
       "      <td>4352_2_hillary_clinton_2_wikipedia_ 764fce5e4be6b6d2_SMALLER.json</td>\n",
       "      <td>1.000</td>\n",
       "    </tr>\n",
       "    <tr>\n",
       "      <th>2</th>\n",
       "      <td>47.4</td>\n",
       "      <td>4352_3_hillary_clinton_3_russiainsider_ 2f1e0e0e1f1b1b9b.json</td>\n",
       "      <td>1.000</td>\n",
       "    </tr>\n",
       "    <tr>\n",
       "      <th>8</th>\n",
       "      <td>56.3</td>\n",
       "      <td>5805_30_hillary_clinton_6_politico_ 27464666644d5434.json</td>\n",
       "      <td>1.000</td>\n",
       "    </tr>\n",
       "    <tr>\n",
       "      <th>7</th>\n",
       "      <td>55.2</td>\n",
       "      <td>5733_30_hillary_clinton_6_mises_ 4f9f8f0f172a4acd.json</td>\n",
       "      <td>0.999</td>\n",
       "    </tr>\n",
       "    <tr>\n",
       "      <th>5</th>\n",
       "      <td>48.4</td>\n",
       "      <td>4509_31_hillary_clinton_6_biography_decfc7c7cec6cecc.json</td>\n",
       "      <td>0.736</td>\n",
       "    </tr>\n",
       "    <tr>\n",
       "      <th>3</th>\n",
       "      <td>51.1</td>\n",
       "      <td>4352_4_hillary_clinton_4_cnn_ 96970f0706064e86.json</td>\n",
       "      <td>NaN</td>\n",
       "    </tr>\n",
       "    <tr>\n",
       "      <th>4</th>\n",
       "      <td>55.7</td>\n",
       "      <td>4352_5_hillary_clinton_5_youtube_ 983d7d1c3c1c1c6f.json</td>\n",
       "      <td>NaN</td>\n",
       "    </tr>\n",
       "    <tr>\n",
       "      <th>6</th>\n",
       "      <td>57.7</td>\n",
       "      <td>5013_29_hillary_clinton_5_time_ c7cbc787c7c72d2c.json</td>\n",
       "      <td>NaN</td>\n",
       "    </tr>\n",
       "  </tbody>\n",
       "</table>\n",
       "</div>"
      ],
      "text/plain": [
       "    age                                                         image_file  smile\n",
       "0  51.8         4352_1_hillary_clinton_1_googleplus_ 861e1f37179f0e8c.json  1.000\n",
       "1  48.6  4352_2_hillary_clinton_2_wikipedia_ 764fce5e4be6b6d2_SMALLER.json  1.000\n",
       "2  47.4      4352_3_hillary_clinton_3_russiainsider_ 2f1e0e0e1f1b1b9b.json  1.000\n",
       "8  56.3          5805_30_hillary_clinton_6_politico_ 27464666644d5434.json  1.000\n",
       "7  55.2             5733_30_hillary_clinton_6_mises_ 4f9f8f0f172a4acd.json  0.999\n",
       "5  48.4          4509_31_hillary_clinton_6_biography_decfc7c7cec6cecc.json  0.736\n",
       "3  51.1                4352_4_hillary_clinton_4_cnn_ 96970f0706064e86.json    NaN\n",
       "4  55.7            4352_5_hillary_clinton_5_youtube_ 983d7d1c3c1c1c6f.json    NaN\n",
       "6  57.7              5013_29_hillary_clinton_5_time_ c7cbc787c7c72d2c.json    NaN"
      ]
     },
     "execution_count": 14,
     "metadata": {},
     "output_type": "execute_result"
    }
   ],
   "source": [
    "HC_Face.sort_values(by='smile', ascending=False)"
   ]
  },
  {
   "cell_type": "code",
   "execution_count": 15,
   "metadata": {
    "collapsed": false
   },
   "outputs": [
    {
     "data": {
      "text/plain": [
       "age      66.446154\n",
       "smile     0.933000\n",
       "dtype: float64"
      ]
     },
     "execution_count": 15,
     "metadata": {},
     "output_type": "execute_result"
    }
   ],
   "source": [
    "row_list = []\n",
    "get_json(basefilepath, 'donald_trump')\n",
    "DT_Face = pd.DataFrame(row_list)\n",
    "DT_Face.mean()         #  Current actual age = 70"
   ]
  },
  {
   "cell_type": "code",
   "execution_count": 16,
   "metadata": {
    "collapsed": false
   },
   "outputs": [
    {
     "data": {
      "text/html": [
       "<div>\n",
       "<table border=\"1\" class=\"dataframe\">\n",
       "  <thead>\n",
       "    <tr style=\"text-align: right;\">\n",
       "      <th></th>\n",
       "      <th>age</th>\n",
       "      <th>image_file</th>\n",
       "      <th>smile</th>\n",
       "    </tr>\n",
       "  </thead>\n",
       "  <tbody>\n",
       "    <tr>\n",
       "      <th>10</th>\n",
       "      <td>58.8</td>\n",
       "      <td>5588_8_donald_trump_5_nationalreview_ 1e3e3e3f3b169b93.json</td>\n",
       "      <td>1.000</td>\n",
       "    </tr>\n",
       "    <tr>\n",
       "      <th>12</th>\n",
       "      <td>70.6</td>\n",
       "      <td>6092_9_donald_trump_6_businessinsider_ 8d0e06060e0c2d8d.json</td>\n",
       "      <td>0.951</td>\n",
       "    </tr>\n",
       "    <tr>\n",
       "      <th>2</th>\n",
       "      <td>76.0</td>\n",
       "      <td>4353_23_donald_trump_3_businessinsider_ cdcf4e4e4d4dcd9d.json</td>\n",
       "      <td>0.848</td>\n",
       "    </tr>\n",
       "    <tr>\n",
       "      <th>0</th>\n",
       "      <td>60.3</td>\n",
       "      <td>4353_21_donald_trump_1_googleplus_ eec7c3ebd3726569.json</td>\n",
       "      <td>NaN</td>\n",
       "    </tr>\n",
       "    <tr>\n",
       "      <th>1</th>\n",
       "      <td>64.5</td>\n",
       "      <td>4353_22_donald_trump_2_wikipedia_ 0c8686168ca4ae2d.json</td>\n",
       "      <td>NaN</td>\n",
       "    </tr>\n",
       "    <tr>\n",
       "      <th>3</th>\n",
       "      <td>61.5</td>\n",
       "      <td>4353_24_donald_trump_4_snopes_ 4d4d0f4e465b4b8c.json</td>\n",
       "      <td>NaN</td>\n",
       "    </tr>\n",
       "    <tr>\n",
       "      <th>4</th>\n",
       "      <td>68.3</td>\n",
       "      <td>4353_25_donald_trump_5_theodysseyonline_headlinepolitics_ 9b1919199999993a.json</td>\n",
       "      <td>NaN</td>\n",
       "    </tr>\n",
       "    <tr>\n",
       "      <th>5</th>\n",
       "      <td>65.6</td>\n",
       "      <td>4353_26_donald_trump_6_slate_ 961b1b191999363e.json</td>\n",
       "      <td>NaN</td>\n",
       "    </tr>\n",
       "    <tr>\n",
       "      <th>6</th>\n",
       "      <td>70.6</td>\n",
       "      <td>4436_10_donald_trump_6_cnn_ 8e8686064e4f4745.json</td>\n",
       "      <td>NaN</td>\n",
       "    </tr>\n",
       "    <tr>\n",
       "      <th>7</th>\n",
       "      <td>73.5</td>\n",
       "      <td>4580_10_donald_trump_6_wonkette_ 961a1a1b8bcb9e9b.json</td>\n",
       "      <td>NaN</td>\n",
       "    </tr>\n",
       "    <tr>\n",
       "      <th>8</th>\n",
       "      <td>65.8</td>\n",
       "      <td>5084_5_donald_trump_2_wikipedia_ 1d8e9e948cacad4d.json</td>\n",
       "      <td>NaN</td>\n",
       "    </tr>\n",
       "    <tr>\n",
       "      <th>9</th>\n",
       "      <td>63.3</td>\n",
       "      <td>5372_6_donald_trump_3_slate_reddit_ cb49890dce9e9495.json</td>\n",
       "      <td>NaN</td>\n",
       "    </tr>\n",
       "    <tr>\n",
       "      <th>11</th>\n",
       "      <td>65.0</td>\n",
       "      <td>5876_5_donald_trump_2_wikipedia_ 1c8e9e948cacad4d.json</td>\n",
       "      <td>NaN</td>\n",
       "    </tr>\n",
       "  </tbody>\n",
       "</table>\n",
       "</div>"
      ],
      "text/plain": [
       "     age                                                                       image_file  smile\n",
       "10  58.8                      5588_8_donald_trump_5_nationalreview_ 1e3e3e3f3b169b93.json  1.000\n",
       "12  70.6                     6092_9_donald_trump_6_businessinsider_ 8d0e06060e0c2d8d.json  0.951\n",
       "2   76.0                    4353_23_donald_trump_3_businessinsider_ cdcf4e4e4d4dcd9d.json  0.848\n",
       "0   60.3                         4353_21_donald_trump_1_googleplus_ eec7c3ebd3726569.json    NaN\n",
       "1   64.5                          4353_22_donald_trump_2_wikipedia_ 0c8686168ca4ae2d.json    NaN\n",
       "3   61.5                             4353_24_donald_trump_4_snopes_ 4d4d0f4e465b4b8c.json    NaN\n",
       "4   68.3  4353_25_donald_trump_5_theodysseyonline_headlinepolitics_ 9b1919199999993a.json    NaN\n",
       "5   65.6                              4353_26_donald_trump_6_slate_ 961b1b191999363e.json    NaN\n",
       "6   70.6                                4436_10_donald_trump_6_cnn_ 8e8686064e4f4745.json    NaN\n",
       "7   73.5                           4580_10_donald_trump_6_wonkette_ 961a1a1b8bcb9e9b.json    NaN\n",
       "8   65.8                           5084_5_donald_trump_2_wikipedia_ 1d8e9e948cacad4d.json    NaN\n",
       "9   63.3                        5372_6_donald_trump_3_slate_reddit_ cb49890dce9e9495.json    NaN\n",
       "11  65.0                           5876_5_donald_trump_2_wikipedia_ 1c8e9e948cacad4d.json    NaN"
      ]
     },
     "execution_count": 16,
     "metadata": {},
     "output_type": "execute_result"
    }
   ],
   "source": [
    "DT_Face.sort_values(by='smile', ascending=False)"
   ]
  },
  {
   "cell_type": "code",
   "execution_count": null,
   "metadata": {
    "collapsed": true
   },
   "outputs": [],
   "source": []
  }
 ],
 "metadata": {
  "kernelspec": {
   "display_name": "Python 3",
   "language": "python",
   "name": "python3"
  },
  "language_info": {
   "codemirror_mode": {
    "name": "ipython",
    "version": 3
   },
   "file_extension": ".py",
   "mimetype": "text/x-python",
   "name": "python",
   "nbconvert_exporter": "python",
   "pygments_lexer": "ipython3",
   "version": "3.4.5"
  }
 },
 "nbformat": 4,
 "nbformat_minor": 0
}
