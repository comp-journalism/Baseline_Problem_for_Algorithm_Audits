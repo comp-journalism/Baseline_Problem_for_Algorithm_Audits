{
 "cells": [
  {
   "cell_type": "code",
   "execution_count": 2,
   "metadata": {
    "collapsed": true
   },
   "outputs": [],
   "source": [
    "import pandas as pd\n",
    "import numpy as np\n",
    "import json\n",
    "import matplotlib.pyplot as plt\n",
    "import os, glob\n",
    "\n",
    "%matplotlib inline\n",
    "\n",
    "plt.style.use('ggplot')\n",
    "plt.rcParams['figure.figsize'] = (15, 3)\n",
    "plt.rcParams['font.family'] = 'sans-serif'\n",
    "\n",
    "pd.set_option('display.width', 5000) \n",
    "pd.set_option('display.max_columns', 60)\n",
    "pd.set_option('max_colwidth',150)"
   ]
  },
  {
   "cell_type": "markdown",
   "metadata": {},
   "source": [
    "# Microsoft Emotion API Data"
   ]
  },
  {
   "cell_type": "code",
   "execution_count": 3,
   "metadata": {
    "collapsed": true
   },
   "outputs": [],
   "source": [
    "def read_jsons(f, candidate):\n",
    "   \n",
    "    tmp_dict = {}\n",
    "    with open(f) as json_file:    \n",
    "        data = json.load(json_file)    \n",
    "        tmp_dict = data[0]['scores']\n",
    "        tmp_dict['image_file'] = f.split('/')[7]\n",
    "        \n",
    "        return tmp_dict"
   ]
  },
  {
   "cell_type": "code",
   "execution_count": 4,
   "metadata": {
    "collapsed": true
   },
   "outputs": [],
   "source": [
    "basefilepath = '/Users/jenniferstark/Documents/Repositories/googlescraper_images/IMAGE_BOX_STUDY/MicrosoftEmotionAPI/'\n",
    "\n",
    "def get_json(path, candidate):\n",
    "    \n",
    "    for f in glob.glob(path + '*.json'):\n",
    "        #print(f)\n",
    "        if candidate in f:\n",
    "            row_list.append(read_jsons(f, candidate))"
   ]
  },
  {
   "cell_type": "code",
   "execution_count": 5,
   "metadata": {
    "collapsed": false
   },
   "outputs": [],
   "source": [
    "row_list = []\n",
    "get_json(basefilepath, 'hillary_clinton')\n",
    "HCDF = pd.DataFrame(row_list)  "
   ]
  },
  {
   "cell_type": "code",
   "execution_count": 6,
   "metadata": {
    "collapsed": false
   },
   "outputs": [
    {
     "data": {
      "text/html": [
       "<div>\n",
       "<table border=\"1\" class=\"dataframe\">\n",
       "  <thead>\n",
       "    <tr style=\"text-align: right;\">\n",
       "      <th></th>\n",
       "      <th>anger</th>\n",
       "      <th>contempt</th>\n",
       "      <th>disgust</th>\n",
       "      <th>fear</th>\n",
       "      <th>happiness</th>\n",
       "      <th>image_file</th>\n",
       "      <th>neutral</th>\n",
       "      <th>sadness</th>\n",
       "      <th>surprise</th>\n",
       "    </tr>\n",
       "  </thead>\n",
       "  <tbody>\n",
       "    <tr>\n",
       "      <th>0</th>\n",
       "      <td>1.294425e-10</td>\n",
       "      <td>2.906699e-12</td>\n",
       "      <td>2.831658e-09</td>\n",
       "      <td>1.002003e-10</td>\n",
       "      <td>1.000000</td>\n",
       "      <td>MicrosoftEmotionAPI</td>\n",
       "      <td>2.700615e-10</td>\n",
       "      <td>3.861064e-11</td>\n",
       "      <td>4.358471e-09</td>\n",
       "    </tr>\n",
       "    <tr>\n",
       "      <th>1</th>\n",
       "      <td>3.777897e-13</td>\n",
       "      <td>1.246819e-16</td>\n",
       "      <td>1.201262e-14</td>\n",
       "      <td>4.673324e-14</td>\n",
       "      <td>1.000000</td>\n",
       "      <td>MicrosoftEmotionAPI</td>\n",
       "      <td>3.228003e-15</td>\n",
       "      <td>8.569975e-17</td>\n",
       "      <td>7.704084e-10</td>\n",
       "    </tr>\n",
       "    <tr>\n",
       "      <th>2</th>\n",
       "      <td>1.748832e-06</td>\n",
       "      <td>1.649361e-07</td>\n",
       "      <td>7.434374e-06</td>\n",
       "      <td>3.700863e-07</td>\n",
       "      <td>0.999941</td>\n",
       "      <td>MicrosoftEmotionAPI</td>\n",
       "      <td>1.066819e-07</td>\n",
       "      <td>5.627636e-09</td>\n",
       "      <td>4.876886e-05</td>\n",
       "    </tr>\n",
       "    <tr>\n",
       "      <th>3</th>\n",
       "      <td>3.371820e-05</td>\n",
       "      <td>4.581636e-03</td>\n",
       "      <td>9.651034e-06</td>\n",
       "      <td>1.963035e-06</td>\n",
       "      <td>0.200970</td>\n",
       "      <td>MicrosoftEmotionAPI</td>\n",
       "      <td>7.929415e-01</td>\n",
       "      <td>1.433021e-03</td>\n",
       "      <td>2.815596e-05</td>\n",
       "    </tr>\n",
       "    <tr>\n",
       "      <th>4</th>\n",
       "      <td>5.483054e-03</td>\n",
       "      <td>1.138252e-03</td>\n",
       "      <td>7.949218e-03</td>\n",
       "      <td>1.895525e-01</td>\n",
       "      <td>0.000313</td>\n",
       "      <td>MicrosoftEmotionAPI</td>\n",
       "      <td>9.062302e-02</td>\n",
       "      <td>6.311645e-02</td>\n",
       "      <td>6.418246e-01</td>\n",
       "    </tr>\n",
       "    <tr>\n",
       "      <th>5</th>\n",
       "      <td>1.895222e-05</td>\n",
       "      <td>8.236326e-03</td>\n",
       "      <td>7.505721e-05</td>\n",
       "      <td>5.919483e-07</td>\n",
       "      <td>0.854808</td>\n",
       "      <td>MicrosoftEmotionAPI</td>\n",
       "      <td>1.358568e-01</td>\n",
       "      <td>9.912282e-04</td>\n",
       "      <td>1.300235e-05</td>\n",
       "    </tr>\n",
       "    <tr>\n",
       "      <th>6</th>\n",
       "      <td>3.993213e-04</td>\n",
       "      <td>2.352455e-02</td>\n",
       "      <td>1.232323e-04</td>\n",
       "      <td>3.591067e-06</td>\n",
       "      <td>0.603577</td>\n",
       "      <td>MicrosoftEmotionAPI</td>\n",
       "      <td>3.707458e-01</td>\n",
       "      <td>1.563992e-03</td>\n",
       "      <td>6.234515e-05</td>\n",
       "    </tr>\n",
       "    <tr>\n",
       "      <th>7</th>\n",
       "      <td>1.843651e-02</td>\n",
       "      <td>1.764101e-07</td>\n",
       "      <td>4.842068e-04</td>\n",
       "      <td>7.737680e-03</td>\n",
       "      <td>0.927040</td>\n",
       "      <td>MicrosoftEmotionAPI</td>\n",
       "      <td>7.208618e-05</td>\n",
       "      <td>1.619570e-02</td>\n",
       "      <td>3.003405e-02</td>\n",
       "    </tr>\n",
       "    <tr>\n",
       "      <th>8</th>\n",
       "      <td>3.248837e-11</td>\n",
       "      <td>1.422359e-09</td>\n",
       "      <td>1.444924e-09</td>\n",
       "      <td>8.881546e-14</td>\n",
       "      <td>1.000000</td>\n",
       "      <td>MicrosoftEmotionAPI</td>\n",
       "      <td>1.056722e-08</td>\n",
       "      <td>2.003644e-11</td>\n",
       "      <td>1.235890e-09</td>\n",
       "    </tr>\n",
       "  </tbody>\n",
       "</table>\n",
       "</div>"
      ],
      "text/plain": [
       "          anger      contempt       disgust          fear  happiness           image_file       neutral       sadness      surprise\n",
       "0  1.294425e-10  2.906699e-12  2.831658e-09  1.002003e-10   1.000000  MicrosoftEmotionAPI  2.700615e-10  3.861064e-11  4.358471e-09\n",
       "1  3.777897e-13  1.246819e-16  1.201262e-14  4.673324e-14   1.000000  MicrosoftEmotionAPI  3.228003e-15  8.569975e-17  7.704084e-10\n",
       "2  1.748832e-06  1.649361e-07  7.434374e-06  3.700863e-07   0.999941  MicrosoftEmotionAPI  1.066819e-07  5.627636e-09  4.876886e-05\n",
       "3  3.371820e-05  4.581636e-03  9.651034e-06  1.963035e-06   0.200970  MicrosoftEmotionAPI  7.929415e-01  1.433021e-03  2.815596e-05\n",
       "4  5.483054e-03  1.138252e-03  7.949218e-03  1.895525e-01   0.000313  MicrosoftEmotionAPI  9.062302e-02  6.311645e-02  6.418246e-01\n",
       "5  1.895222e-05  8.236326e-03  7.505721e-05  5.919483e-07   0.854808  MicrosoftEmotionAPI  1.358568e-01  9.912282e-04  1.300235e-05\n",
       "6  3.993213e-04  2.352455e-02  1.232323e-04  3.591067e-06   0.603577  MicrosoftEmotionAPI  3.707458e-01  1.563992e-03  6.234515e-05\n",
       "7  1.843651e-02  1.764101e-07  4.842068e-04  7.737680e-03   0.927040  MicrosoftEmotionAPI  7.208618e-05  1.619570e-02  3.003405e-02\n",
       "8  3.248837e-11  1.422359e-09  1.444924e-09  8.881546e-14   1.000000  MicrosoftEmotionAPI  1.056722e-08  2.003644e-11  1.235890e-09"
      ]
     },
     "execution_count": 6,
     "metadata": {},
     "output_type": "execute_result"
    }
   ],
   "source": [
    "HCDF.head(11)"
   ]
  },
  {
   "cell_type": "code",
   "execution_count": 8,
   "metadata": {
    "collapsed": false
   },
   "outputs": [
    {
     "data": {
      "text/html": [
       "<div>\n",
       "<table border=\"1\" class=\"dataframe\">\n",
       "  <thead>\n",
       "    <tr style=\"text-align: right;\">\n",
       "      <th></th>\n",
       "      <th>anger</th>\n",
       "      <th>contempt</th>\n",
       "      <th>disgust</th>\n",
       "      <th>fear</th>\n",
       "      <th>happiness</th>\n",
       "      <th>image_file</th>\n",
       "      <th>neutral</th>\n",
       "      <th>sadness</th>\n",
       "      <th>surprise</th>\n",
       "    </tr>\n",
       "  </thead>\n",
       "  <tbody>\n",
       "    <tr>\n",
       "      <th>0</th>\n",
       "      <td>9.517370e-02</td>\n",
       "      <td>1.756118e-02</td>\n",
       "      <td>2.142330e-02</td>\n",
       "      <td>3.567385e-05</td>\n",
       "      <td>0.000177</td>\n",
       "      <td>MicrosoftEmotionAPI</td>\n",
       "      <td>6.826546e-01</td>\n",
       "      <td>1.829186e-01</td>\n",
       "      <td>5.614876e-05</td>\n",
       "    </tr>\n",
       "    <tr>\n",
       "      <th>1</th>\n",
       "      <td>2.666815e-02</td>\n",
       "      <td>1.184522e-02</td>\n",
       "      <td>2.928656e-03</td>\n",
       "      <td>6.161471e-04</td>\n",
       "      <td>0.000024</td>\n",
       "      <td>MicrosoftEmotionAPI</td>\n",
       "      <td>8.488940e-01</td>\n",
       "      <td>1.060527e-01</td>\n",
       "      <td>2.971453e-03</td>\n",
       "    </tr>\n",
       "    <tr>\n",
       "      <th>2</th>\n",
       "      <td>9.470873e-05</td>\n",
       "      <td>2.606517e-02</td>\n",
       "      <td>2.685495e-03</td>\n",
       "      <td>5.198110e-05</td>\n",
       "      <td>0.887991</td>\n",
       "      <td>MicrosoftEmotionAPI</td>\n",
       "      <td>7.202571e-02</td>\n",
       "      <td>1.075022e-02</td>\n",
       "      <td>3.360984e-04</td>\n",
       "    </tr>\n",
       "    <tr>\n",
       "      <th>3</th>\n",
       "      <td>3.281893e-02</td>\n",
       "      <td>8.746437e-03</td>\n",
       "      <td>1.709951e-02</td>\n",
       "      <td>2.149651e-04</td>\n",
       "      <td>0.000929</td>\n",
       "      <td>MicrosoftEmotionAPI</td>\n",
       "      <td>8.735842e-01</td>\n",
       "      <td>4.813278e-03</td>\n",
       "      <td>6.179372e-02</td>\n",
       "    </tr>\n",
       "    <tr>\n",
       "      <th>4</th>\n",
       "      <td>3.238592e-01</td>\n",
       "      <td>1.615139e-02</td>\n",
       "      <td>7.683242e-02</td>\n",
       "      <td>1.255601e-03</td>\n",
       "      <td>0.015021</td>\n",
       "      <td>MicrosoftEmotionAPI</td>\n",
       "      <td>5.353705e-01</td>\n",
       "      <td>7.761786e-03</td>\n",
       "      <td>2.374833e-02</td>\n",
       "    </tr>\n",
       "    <tr>\n",
       "      <th>5</th>\n",
       "      <td>7.140378e-04</td>\n",
       "      <td>1.198197e-03</td>\n",
       "      <td>1.024074e-04</td>\n",
       "      <td>3.124902e-04</td>\n",
       "      <td>0.000014</td>\n",
       "      <td>MicrosoftEmotionAPI</td>\n",
       "      <td>9.812990e-01</td>\n",
       "      <td>1.020659e-02</td>\n",
       "      <td>6.153222e-03</td>\n",
       "    </tr>\n",
       "    <tr>\n",
       "      <th>6</th>\n",
       "      <td>4.177547e-01</td>\n",
       "      <td>2.740251e-03</td>\n",
       "      <td>1.787460e-03</td>\n",
       "      <td>1.065386e-05</td>\n",
       "      <td>0.000001</td>\n",
       "      <td>MicrosoftEmotionAPI</td>\n",
       "      <td>5.294580e-01</td>\n",
       "      <td>4.823260e-02</td>\n",
       "      <td>1.499829e-05</td>\n",
       "    </tr>\n",
       "    <tr>\n",
       "      <th>7</th>\n",
       "      <td>6.649306e-01</td>\n",
       "      <td>2.112164e-02</td>\n",
       "      <td>2.275666e-01</td>\n",
       "      <td>2.264480e-04</td>\n",
       "      <td>0.015310</td>\n",
       "      <td>MicrosoftEmotionAPI</td>\n",
       "      <td>5.600449e-02</td>\n",
       "      <td>1.380443e-02</td>\n",
       "      <td>1.035932e-03</td>\n",
       "    </tr>\n",
       "    <tr>\n",
       "      <th>8</th>\n",
       "      <td>1.136816e-02</td>\n",
       "      <td>7.651462e-03</td>\n",
       "      <td>1.362243e-03</td>\n",
       "      <td>4.996331e-04</td>\n",
       "      <td>0.000021</td>\n",
       "      <td>MicrosoftEmotionAPI</td>\n",
       "      <td>9.316719e-01</td>\n",
       "      <td>4.403091e-02</td>\n",
       "      <td>3.394432e-03</td>\n",
       "    </tr>\n",
       "    <tr>\n",
       "      <th>9</th>\n",
       "      <td>1.444759e-03</td>\n",
       "      <td>7.221173e-02</td>\n",
       "      <td>7.788365e-03</td>\n",
       "      <td>1.268490e-04</td>\n",
       "      <td>0.149007</td>\n",
       "      <td>MicrosoftEmotionAPI</td>\n",
       "      <td>6.542154e-01</td>\n",
       "      <td>1.146989e-01</td>\n",
       "      <td>5.067906e-04</td>\n",
       "    </tr>\n",
       "    <tr>\n",
       "      <th>10</th>\n",
       "      <td>1.305256e-08</td>\n",
       "      <td>1.467779e-08</td>\n",
       "      <td>6.137576e-08</td>\n",
       "      <td>1.114889e-11</td>\n",
       "      <td>1.000000</td>\n",
       "      <td>MicrosoftEmotionAPI</td>\n",
       "      <td>2.618496e-08</td>\n",
       "      <td>3.330481e-08</td>\n",
       "      <td>2.792462e-08</td>\n",
       "    </tr>\n",
       "    <tr>\n",
       "      <th>11</th>\n",
       "      <td>1.328915e-02</td>\n",
       "      <td>1.554891e-02</td>\n",
       "      <td>2.282023e-03</td>\n",
       "      <td>5.633211e-04</td>\n",
       "      <td>0.000012</td>\n",
       "      <td>MicrosoftEmotionAPI</td>\n",
       "      <td>8.525627e-01</td>\n",
       "      <td>1.122657e-01</td>\n",
       "      <td>3.476323e-03</td>\n",
       "    </tr>\n",
       "    <tr>\n",
       "      <th>12</th>\n",
       "      <td>4.308098e-06</td>\n",
       "      <td>3.796164e-03</td>\n",
       "      <td>1.054050e-04</td>\n",
       "      <td>1.696076e-07</td>\n",
       "      <td>0.991216</td>\n",
       "      <td>MicrosoftEmotionAPI</td>\n",
       "      <td>3.879234e-03</td>\n",
       "      <td>9.960682e-04</td>\n",
       "      <td>2.506424e-06</td>\n",
       "    </tr>\n",
       "  </tbody>\n",
       "</table>\n",
       "</div>"
      ],
      "text/plain": [
       "           anger      contempt       disgust          fear  happiness           image_file       neutral       sadness      surprise\n",
       "0   9.517370e-02  1.756118e-02  2.142330e-02  3.567385e-05   0.000177  MicrosoftEmotionAPI  6.826546e-01  1.829186e-01  5.614876e-05\n",
       "1   2.666815e-02  1.184522e-02  2.928656e-03  6.161471e-04   0.000024  MicrosoftEmotionAPI  8.488940e-01  1.060527e-01  2.971453e-03\n",
       "2   9.470873e-05  2.606517e-02  2.685495e-03  5.198110e-05   0.887991  MicrosoftEmotionAPI  7.202571e-02  1.075022e-02  3.360984e-04\n",
       "3   3.281893e-02  8.746437e-03  1.709951e-02  2.149651e-04   0.000929  MicrosoftEmotionAPI  8.735842e-01  4.813278e-03  6.179372e-02\n",
       "4   3.238592e-01  1.615139e-02  7.683242e-02  1.255601e-03   0.015021  MicrosoftEmotionAPI  5.353705e-01  7.761786e-03  2.374833e-02\n",
       "5   7.140378e-04  1.198197e-03  1.024074e-04  3.124902e-04   0.000014  MicrosoftEmotionAPI  9.812990e-01  1.020659e-02  6.153222e-03\n",
       "6   4.177547e-01  2.740251e-03  1.787460e-03  1.065386e-05   0.000001  MicrosoftEmotionAPI  5.294580e-01  4.823260e-02  1.499829e-05\n",
       "7   6.649306e-01  2.112164e-02  2.275666e-01  2.264480e-04   0.015310  MicrosoftEmotionAPI  5.600449e-02  1.380443e-02  1.035932e-03\n",
       "8   1.136816e-02  7.651462e-03  1.362243e-03  4.996331e-04   0.000021  MicrosoftEmotionAPI  9.316719e-01  4.403091e-02  3.394432e-03\n",
       "9   1.444759e-03  7.221173e-02  7.788365e-03  1.268490e-04   0.149007  MicrosoftEmotionAPI  6.542154e-01  1.146989e-01  5.067906e-04\n",
       "10  1.305256e-08  1.467779e-08  6.137576e-08  1.114889e-11   1.000000  MicrosoftEmotionAPI  2.618496e-08  3.330481e-08  2.792462e-08\n",
       "11  1.328915e-02  1.554891e-02  2.282023e-03  5.633211e-04   0.000012  MicrosoftEmotionAPI  8.525627e-01  1.122657e-01  3.476323e-03\n",
       "12  4.308098e-06  3.796164e-03  1.054050e-04  1.696076e-07   0.991216  MicrosoftEmotionAPI  3.879234e-03  9.960682e-04  2.506424e-06"
      ]
     },
     "execution_count": 8,
     "metadata": {},
     "output_type": "execute_result"
    }
   ],
   "source": [
    "row_list = []\n",
    "get_json(basefilepath, 'donald_trump')\n",
    "DTDF = pd.DataFrame(row_list)  \n",
    "DTDF.head(20)"
   ]
  },
  {
   "cell_type": "code",
   "execution_count": 10,
   "metadata": {
    "collapsed": false
   },
   "outputs": [
    {
     "data": {
      "text/plain": [
       "<matplotlib.axes._subplots.AxesSubplot at 0x1095a5470>"
      ]
     },
     "execution_count": 10,
     "metadata": {},
     "output_type": "execute_result"
    },
    {
     "data": {
      "image/png": "[encoded data removed]",
      "text/plain": [
       "<matplotlib.figure.Figure at 0x10958d5f8>"
      ]
     },
     "metadata": {},
     "output_type": "display_data"
    }
   ],
   "source": [
    "HCDF.mean().plot(kind='bar', ylim=(0,1))"
   ]
  },
  {
   "cell_type": "code",
   "execution_count": 11,
   "metadata": {
    "collapsed": false
   },
   "outputs": [
    {
     "data": {
      "text/plain": [
       "<matplotlib.axes._subplots.AxesSubplot at 0x10c32feb8>"
      ]
     },
     "execution_count": 11,
     "metadata": {},
     "output_type": "execute_result"
    },
    {
     "data": {
      "image/png": "[encoded data removed]",
      "text/plain": [
       "<matplotlib.figure.Figure at 0x10c2d0b38>"
      ]
     },
     "metadata": {},
     "output_type": "display_data"
    }
   ],
   "source": [
    "DTDF.mean().plot(kind='bar',ylim=(0,1))"
   ]
  },
  {
   "cell_type": "code",
   "execution_count": 12,
   "metadata": {
    "collapsed": true
   },
   "outputs": [],
   "source": [
    "HCDF['negative_emotion'] = HCDF['anger'] + HCDF['contempt'] + HCDF['disgust'] + HCDF['fear'] + HCDF['sadness']"
   ]
  },
  {
   "cell_type": "code",
   "execution_count": 13,
   "metadata": {
    "collapsed": false
   },
   "outputs": [],
   "source": [
    "HC_sentiment = HCDF[['happiness', 'negative_emotion','image_file']]"
   ]
  },
  {
   "cell_type": "code",
   "execution_count": 14,
   "metadata": {
    "collapsed": false
   },
   "outputs": [
    {
     "data": {
      "text/plain": [
       "<matplotlib.axes._subplots.AxesSubplot at 0x10c35a6d8>"
      ]
     },
     "execution_count": 14,
     "metadata": {},
     "output_type": "execute_result"
    },
    {
     "data": {
      "image/png": "[encoded data removed]",
      "text/plain": [
       "<matplotlib.figure.Figure at 0x10c371be0>"
      ]
     },
     "metadata": {},
     "output_type": "display_data"
    }
   ],
   "source": [
    "HC_sentiment.mean().plot(kind='bar',ylim=(0,1))"
   ]
  },
  {
   "cell_type": "code",
   "execution_count": 15,
   "metadata": {
    "collapsed": false
   },
   "outputs": [
    {
     "data": {
      "text/html": [
       "<div>\n",
       "<table border=\"1\" class=\"dataframe\">\n",
       "  <thead>\n",
       "    <tr style=\"text-align: right;\">\n",
       "      <th></th>\n",
       "      <th>happiness</th>\n",
       "      <th>negative_emotion</th>\n",
       "      <th>image_file</th>\n",
       "    </tr>\n",
       "  </thead>\n",
       "  <tbody>\n",
       "    <tr>\n",
       "      <th>0</th>\n",
       "      <td>1.000000</td>\n",
       "      <td>3.102818e-09</td>\n",
       "      <td>MicrosoftEmotionAPI</td>\n",
       "    </tr>\n",
       "    <tr>\n",
       "      <th>1</th>\n",
       "      <td>1.000000</td>\n",
       "      <td>4.367459e-13</td>\n",
       "      <td>MicrosoftEmotionAPI</td>\n",
       "    </tr>\n",
       "    <tr>\n",
       "      <th>2</th>\n",
       "      <td>0.999941</td>\n",
       "      <td>9.723856e-06</td>\n",
       "      <td>MicrosoftEmotionAPI</td>\n",
       "    </tr>\n",
       "    <tr>\n",
       "      <th>3</th>\n",
       "      <td>0.200970</td>\n",
       "      <td>6.059989e-03</td>\n",
       "      <td>MicrosoftEmotionAPI</td>\n",
       "    </tr>\n",
       "    <tr>\n",
       "      <th>4</th>\n",
       "      <td>0.000313</td>\n",
       "      <td>2.672395e-01</td>\n",
       "      <td>MicrosoftEmotionAPI</td>\n",
       "    </tr>\n",
       "    <tr>\n",
       "      <th>5</th>\n",
       "      <td>0.854808</td>\n",
       "      <td>9.322156e-03</td>\n",
       "      <td>MicrosoftEmotionAPI</td>\n",
       "    </tr>\n",
       "    <tr>\n",
       "      <th>6</th>\n",
       "      <td>0.603577</td>\n",
       "      <td>2.561469e-02</td>\n",
       "      <td>MicrosoftEmotionAPI</td>\n",
       "    </tr>\n",
       "    <tr>\n",
       "      <th>7</th>\n",
       "      <td>0.927040</td>\n",
       "      <td>4.285427e-02</td>\n",
       "      <td>MicrosoftEmotionAPI</td>\n",
       "    </tr>\n",
       "    <tr>\n",
       "      <th>8</th>\n",
       "      <td>1.000000</td>\n",
       "      <td>2.919897e-09</td>\n",
       "      <td>MicrosoftEmotionAPI</td>\n",
       "    </tr>\n",
       "  </tbody>\n",
       "</table>\n",
       "</div>"
      ],
      "text/plain": [
       "   happiness  negative_emotion           image_file\n",
       "0   1.000000      3.102818e-09  MicrosoftEmotionAPI\n",
       "1   1.000000      4.367459e-13  MicrosoftEmotionAPI\n",
       "2   0.999941      9.723856e-06  MicrosoftEmotionAPI\n",
       "3   0.200970      6.059989e-03  MicrosoftEmotionAPI\n",
       "4   0.000313      2.672395e-01  MicrosoftEmotionAPI\n",
       "5   0.854808      9.322156e-03  MicrosoftEmotionAPI\n",
       "6   0.603577      2.561469e-02  MicrosoftEmotionAPI\n",
       "7   0.927040      4.285427e-02  MicrosoftEmotionAPI\n",
       "8   1.000000      2.919897e-09  MicrosoftEmotionAPI"
      ]
     },
     "execution_count": 15,
     "metadata": {},
     "output_type": "execute_result"
    }
   ],
   "source": [
    "HC_sentiment"
   ]
  },
  {
   "cell_type": "code",
   "execution_count": 16,
   "metadata": {
    "collapsed": true
   },
   "outputs": [],
   "source": [
    "DTDF['negative_emotion'] = DTDF['anger'] + DTDF['contempt'] + DTDF['disgust'] + DTDF['fear'] + DTDF['sadness']"
   ]
  },
  {
   "cell_type": "code",
   "execution_count": 17,
   "metadata": {
    "collapsed": true
   },
   "outputs": [],
   "source": [
    "DT_sentiment = DTDF[['happiness', 'negative_emotion', 'image_file']]"
   ]
  },
  {
   "cell_type": "code",
   "execution_count": 18,
   "metadata": {
    "collapsed": false
   },
   "outputs": [
    {
     "data": {
      "text/plain": [
       "<matplotlib.axes._subplots.AxesSubplot at 0x10cb60668>"
      ]
     },
     "execution_count": 18,
     "metadata": {},
     "output_type": "execute_result"
    },
    {
     "data": {
      "image/png": "[encoded data removed]",
      "text/plain": [
       "<matplotlib.figure.Figure at 0x10cbaca90>"
      ]
     },
     "metadata": {},
     "output_type": "display_data"
    }
   ],
   "source": [
    "DT_sentiment.mean().plot(kind='bar',ylim=(0,1))"
   ]
  },
  {
   "cell_type": "code",
   "execution_count": 15,
   "metadata": {
    "collapsed": false
   },
   "outputs": [
    {
     "name": "stderr",
     "output_type": "stream",
     "text": [
      "/Users/jenniferstark/anaconda/lib/python3.4/site-packages/ipykernel/__main__.py:1: SettingWithCopyWarning: \n",
      "A value is trying to be set on a copy of a slice from a DataFrame.\n",
      "Try using .loc[row_indexer,col_indexer] = value instead\n",
      "\n",
      "See the caveats in the documentation: http://pandas.pydata.org/pandas-docs/stable/indexing.html#indexing-view-versus-copy\n",
      "  if __name__ == '__main__':\n",
      "/Users/jenniferstark/anaconda/lib/python3.4/site-packages/ipykernel/__main__.py:2: FutureWarning: by argument to sort_index is deprecated, pls use .sort_values(by=...)\n",
      "  from ipykernel import kernelapp as app\n"
     ]
    },
    {
     "data": {
      "text/html": [
       "<div>\n",
       "<table border=\"1\" class=\"dataframe\">\n",
       "  <thead>\n",
       "    <tr style=\"text-align: right;\">\n",
       "      <th></th>\n",
       "      <th>happiness</th>\n",
       "      <th>negative_emotion</th>\n",
       "      <th>image_file</th>\n",
       "      <th>net_sentiment</th>\n",
       "    </tr>\n",
       "  </thead>\n",
       "  <tbody>\n",
       "    <tr>\n",
       "      <th>1</th>\n",
       "      <td>1.000000</td>\n",
       "      <td>4.367459e-13</td>\n",
       "      <td>4352_2_hillary_clinton_2_wikipedia_ 764fce5e4be6b6d2_SMALLER.json</td>\n",
       "      <td>1.000000</td>\n",
       "    </tr>\n",
       "    <tr>\n",
       "      <th>8</th>\n",
       "      <td>1.000000</td>\n",
       "      <td>2.919897e-09</td>\n",
       "      <td>5805_30_hillary_clinton_6_politico_ 27464666644d5434.json</td>\n",
       "      <td>1.000000</td>\n",
       "    </tr>\n",
       "    <tr>\n",
       "      <th>0</th>\n",
       "      <td>1.000000</td>\n",
       "      <td>3.102818e-09</td>\n",
       "      <td>4352_1_hillary_clinton_1_googleplus_ 861e1f37179f0e8c.json</td>\n",
       "      <td>1.000000</td>\n",
       "    </tr>\n",
       "    <tr>\n",
       "      <th>2</th>\n",
       "      <td>0.999941</td>\n",
       "      <td>9.723856e-06</td>\n",
       "      <td>4352_3_hillary_clinton_3_russiainsider_ 2f1e0e0e1f1b1b9b.json</td>\n",
       "      <td>0.999932</td>\n",
       "    </tr>\n",
       "    <tr>\n",
       "      <th>7</th>\n",
       "      <td>0.927040</td>\n",
       "      <td>4.285427e-02</td>\n",
       "      <td>5733_30_hillary_clinton_6_mises_ 4f9f8f0f172a4acd.json</td>\n",
       "      <td>0.884185</td>\n",
       "    </tr>\n",
       "    <tr>\n",
       "      <th>5</th>\n",
       "      <td>0.854808</td>\n",
       "      <td>9.322156e-03</td>\n",
       "      <td>4509_31_hillary_clinton_6_biography_decfc7c7cec6cecc.json</td>\n",
       "      <td>0.845486</td>\n",
       "    </tr>\n",
       "    <tr>\n",
       "      <th>6</th>\n",
       "      <td>0.603577</td>\n",
       "      <td>2.561469e-02</td>\n",
       "      <td>5013_29_hillary_clinton_5_time_ c7cbc787c7c72d2c.json</td>\n",
       "      <td>0.577962</td>\n",
       "    </tr>\n",
       "    <tr>\n",
       "      <th>3</th>\n",
       "      <td>0.200970</td>\n",
       "      <td>6.059989e-03</td>\n",
       "      <td>4352_4_hillary_clinton_4_cnn_ 96970f0706064e86.json</td>\n",
       "      <td>0.194910</td>\n",
       "    </tr>\n",
       "    <tr>\n",
       "      <th>4</th>\n",
       "      <td>0.000313</td>\n",
       "      <td>2.672395e-01</td>\n",
       "      <td>4352_5_hillary_clinton_5_youtube_ 983d7d1c3c1c1c6f.json</td>\n",
       "      <td>-0.266927</td>\n",
       "    </tr>\n",
       "  </tbody>\n",
       "</table>\n",
       "</div>"
      ],
      "text/plain": [
       "   happiness  negative_emotion                                                         image_file  net_sentiment\n",
       "1   1.000000      4.367459e-13  4352_2_hillary_clinton_2_wikipedia_ 764fce5e4be6b6d2_SMALLER.json       1.000000\n",
       "8   1.000000      2.919897e-09          5805_30_hillary_clinton_6_politico_ 27464666644d5434.json       1.000000\n",
       "0   1.000000      3.102818e-09         4352_1_hillary_clinton_1_googleplus_ 861e1f37179f0e8c.json       1.000000\n",
       "2   0.999941      9.723856e-06      4352_3_hillary_clinton_3_russiainsider_ 2f1e0e0e1f1b1b9b.json       0.999932\n",
       "7   0.927040      4.285427e-02             5733_30_hillary_clinton_6_mises_ 4f9f8f0f172a4acd.json       0.884185\n",
       "5   0.854808      9.322156e-03          4509_31_hillary_clinton_6_biography_decfc7c7cec6cecc.json       0.845486\n",
       "6   0.603577      2.561469e-02              5013_29_hillary_clinton_5_time_ c7cbc787c7c72d2c.json       0.577962\n",
       "3   0.200970      6.059989e-03                4352_4_hillary_clinton_4_cnn_ 96970f0706064e86.json       0.194910\n",
       "4   0.000313      2.672395e-01            4352_5_hillary_clinton_5_youtube_ 983d7d1c3c1c1c6f.json      -0.266927"
      ]
     },
     "execution_count": 15,
     "metadata": {},
     "output_type": "execute_result"
    }
   ],
   "source": [
    "HC_sentiment['net_sentiment'] = HC_sentiment['happiness'] - HC_sentiment['negative_emotion']\n",
    "HC_sentiment.sort_index(by='net_sentiment', ascending=False)   # for graphing on my jittered sentiment scale"
   ]
  },
  {
   "cell_type": "code",
   "execution_count": 16,
   "metadata": {
    "collapsed": false,
    "scrolled": false
   },
   "outputs": [
    {
     "name": "stderr",
     "output_type": "stream",
     "text": [
      "/Users/jenniferstark/anaconda/lib/python3.4/site-packages/ipykernel/__main__.py:1: SettingWithCopyWarning: \n",
      "A value is trying to be set on a copy of a slice from a DataFrame.\n",
      "Try using .loc[row_indexer,col_indexer] = value instead\n",
      "\n",
      "See the caveats in the documentation: http://pandas.pydata.org/pandas-docs/stable/indexing.html#indexing-view-versus-copy\n",
      "  if __name__ == '__main__':\n",
      "/Users/jenniferstark/anaconda/lib/python3.4/site-packages/ipykernel/__main__.py:2: FutureWarning: by argument to sort_index is deprecated, pls use .sort_values(by=...)\n",
      "  from ipykernel import kernelapp as app\n"
     ]
    },
    {
     "data": {
      "text/html": [
       "<div>\n",
       "<table border=\"1\" class=\"dataframe\">\n",
       "  <thead>\n",
       "    <tr style=\"text-align: right;\">\n",
       "      <th></th>\n",
       "      <th>happiness</th>\n",
       "      <th>negative_emotion</th>\n",
       "      <th>image_file</th>\n",
       "      <th>net_sentiment</th>\n",
       "    </tr>\n",
       "  </thead>\n",
       "  <tbody>\n",
       "    <tr>\n",
       "      <th>10</th>\n",
       "      <td>1.000000</td>\n",
       "      <td>1.224221e-07</td>\n",
       "      <td>5588_8_donald_trump_5_nationalreview_ 1e3e3e3f3b169b93.json</td>\n",
       "      <td>1.000000</td>\n",
       "    </tr>\n",
       "    <tr>\n",
       "      <th>12</th>\n",
       "      <td>0.991216</td>\n",
       "      <td>4.902115e-03</td>\n",
       "      <td>6092_9_donald_trump_6_businessinsider_ 8d0e06060e0c2d8d.json</td>\n",
       "      <td>0.986314</td>\n",
       "    </tr>\n",
       "    <tr>\n",
       "      <th>2</th>\n",
       "      <td>0.887991</td>\n",
       "      <td>3.964757e-02</td>\n",
       "      <td>4353_23_donald_trump_3_businessinsider_ cdcf4e4e4d4dcd9d.json</td>\n",
       "      <td>0.848343</td>\n",
       "    </tr>\n",
       "    <tr>\n",
       "      <th>5</th>\n",
       "      <td>0.000014</td>\n",
       "      <td>1.253372e-02</td>\n",
       "      <td>4353_26_donald_trump_6_slate_ 961b1b191999363e.json</td>\n",
       "      <td>-0.012520</td>\n",
       "    </tr>\n",
       "    <tr>\n",
       "      <th>9</th>\n",
       "      <td>0.149007</td>\n",
       "      <td>1.962706e-01</td>\n",
       "      <td>5372_6_donald_trump_3_slate_reddit_ cb49890dce9e9495.json</td>\n",
       "      <td>-0.047263</td>\n",
       "    </tr>\n",
       "    <tr>\n",
       "      <th>3</th>\n",
       "      <td>0.000929</td>\n",
       "      <td>6.369312e-02</td>\n",
       "      <td>4353_24_donald_trump_4_snopes_ 4d4d0f4e465b4b8c.json</td>\n",
       "      <td>-0.062764</td>\n",
       "    </tr>\n",
       "    <tr>\n",
       "      <th>8</th>\n",
       "      <td>0.000021</td>\n",
       "      <td>6.491241e-02</td>\n",
       "      <td>5084_5_donald_trump_2_wikipedia_ 1d8e9e948cacad4d.json</td>\n",
       "      <td>-0.064891</td>\n",
       "    </tr>\n",
       "    <tr>\n",
       "      <th>11</th>\n",
       "      <td>0.000012</td>\n",
       "      <td>1.439491e-01</td>\n",
       "      <td>5876_5_donald_trump_2_wikipedia_ 1c8e9e948cacad4d.json</td>\n",
       "      <td>-0.143937</td>\n",
       "    </tr>\n",
       "    <tr>\n",
       "      <th>1</th>\n",
       "      <td>0.000024</td>\n",
       "      <td>1.481109e-01</td>\n",
       "      <td>4353_22_donald_trump_2_wikipedia_ 0c8686168ca4ae2d.json</td>\n",
       "      <td>-0.148087</td>\n",
       "    </tr>\n",
       "    <tr>\n",
       "      <th>0</th>\n",
       "      <td>0.000177</td>\n",
       "      <td>3.171124e-01</td>\n",
       "      <td>4353_21_donald_trump_1_googleplus_ eec7c3ebd3726569.json</td>\n",
       "      <td>-0.316936</td>\n",
       "    </tr>\n",
       "    <tr>\n",
       "      <th>4</th>\n",
       "      <td>0.015021</td>\n",
       "      <td>4.258604e-01</td>\n",
       "      <td>4353_25_donald_trump_5_theodysseyonline_headlinepolitics_ 9b1919199999993a.json</td>\n",
       "      <td>-0.410840</td>\n",
       "    </tr>\n",
       "    <tr>\n",
       "      <th>6</th>\n",
       "      <td>0.000001</td>\n",
       "      <td>4.705256e-01</td>\n",
       "      <td>4436_10_donald_trump_6_cnn_ 8e8686064e4f4745.json</td>\n",
       "      <td>-0.470524</td>\n",
       "    </tr>\n",
       "    <tr>\n",
       "      <th>7</th>\n",
       "      <td>0.015310</td>\n",
       "      <td>9.276497e-01</td>\n",
       "      <td>4580_10_donald_trump_6_wonkette_ 961a1a1b8bcb9e9b.json</td>\n",
       "      <td>-0.912340</td>\n",
       "    </tr>\n",
       "  </tbody>\n",
       "</table>\n",
       "</div>"
      ],
      "text/plain": [
       "    happiness  negative_emotion                                                                       image_file  net_sentiment\n",
       "10   1.000000      1.224221e-07                      5588_8_donald_trump_5_nationalreview_ 1e3e3e3f3b169b93.json       1.000000\n",
       "12   0.991216      4.902115e-03                     6092_9_donald_trump_6_businessinsider_ 8d0e06060e0c2d8d.json       0.986314\n",
       "2    0.887991      3.964757e-02                    4353_23_donald_trump_3_businessinsider_ cdcf4e4e4d4dcd9d.json       0.848343\n",
       "5    0.000014      1.253372e-02                              4353_26_donald_trump_6_slate_ 961b1b191999363e.json      -0.012520\n",
       "9    0.149007      1.962706e-01                        5372_6_donald_trump_3_slate_reddit_ cb49890dce9e9495.json      -0.047263\n",
       "3    0.000929      6.369312e-02                             4353_24_donald_trump_4_snopes_ 4d4d0f4e465b4b8c.json      -0.062764\n",
       "8    0.000021      6.491241e-02                           5084_5_donald_trump_2_wikipedia_ 1d8e9e948cacad4d.json      -0.064891\n",
       "11   0.000012      1.439491e-01                           5876_5_donald_trump_2_wikipedia_ 1c8e9e948cacad4d.json      -0.143937\n",
       "1    0.000024      1.481109e-01                          4353_22_donald_trump_2_wikipedia_ 0c8686168ca4ae2d.json      -0.148087\n",
       "0    0.000177      3.171124e-01                         4353_21_donald_trump_1_googleplus_ eec7c3ebd3726569.json      -0.316936\n",
       "4    0.015021      4.258604e-01  4353_25_donald_trump_5_theodysseyonline_headlinepolitics_ 9b1919199999993a.json      -0.410840\n",
       "6    0.000001      4.705256e-01                                4436_10_donald_trump_6_cnn_ 8e8686064e4f4745.json      -0.470524\n",
       "7    0.015310      9.276497e-01                           4580_10_donald_trump_6_wonkette_ 961a1a1b8bcb9e9b.json      -0.912340"
      ]
     },
     "execution_count": 16,
     "metadata": {},
     "output_type": "execute_result"
    }
   ],
   "source": [
    "DT_sentiment['net_sentiment'] = DT_sentiment['happiness'] - DT_sentiment['negative_emotion']\n",
    "DT_sentiment.sort_index(by='net_sentiment', ascending=False)"
   ]
  },
  {
   "cell_type": "code",
   "execution_count": 17,
   "metadata": {
    "collapsed": true
   },
   "outputs": [],
   "source": [
    "tmp = DT_sentiment[['image_file', 'net_sentiment']]"
   ]
  },
  {
   "cell_type": "code",
   "execution_count": 18,
   "metadata": {
    "collapsed": false
   },
   "outputs": [
    {
     "data": {
      "text/html": [
       "<div>\n",
       "<table border=\"1\" class=\"dataframe\">\n",
       "  <thead>\n",
       "    <tr style=\"text-align: right;\">\n",
       "      <th></th>\n",
       "      <th>image_file</th>\n",
       "      <th>net_sentiment</th>\n",
       "    </tr>\n",
       "  </thead>\n",
       "  <tbody>\n",
       "    <tr>\n",
       "      <th>10</th>\n",
       "      <td>5588_8_donald_trump_5_nationalreview_ 1e3e3e3f3b169b93.json</td>\n",
       "      <td>1.000000</td>\n",
       "    </tr>\n",
       "    <tr>\n",
       "      <th>12</th>\n",
       "      <td>6092_9_donald_trump_6_businessinsider_ 8d0e06060e0c2d8d.json</td>\n",
       "      <td>0.986314</td>\n",
       "    </tr>\n",
       "    <tr>\n",
       "      <th>2</th>\n",
       "      <td>4353_23_donald_trump_3_businessinsider_ cdcf4e4e4d4dcd9d.json</td>\n",
       "      <td>0.848343</td>\n",
       "    </tr>\n",
       "    <tr>\n",
       "      <th>5</th>\n",
       "      <td>4353_26_donald_trump_6_slate_ 961b1b191999363e.json</td>\n",
       "      <td>-0.012520</td>\n",
       "    </tr>\n",
       "    <tr>\n",
       "      <th>9</th>\n",
       "      <td>5372_6_donald_trump_3_slate_reddit_ cb49890dce9e9495.json</td>\n",
       "      <td>-0.047263</td>\n",
       "    </tr>\n",
       "    <tr>\n",
       "      <th>3</th>\n",
       "      <td>4353_24_donald_trump_4_snopes_ 4d4d0f4e465b4b8c.json</td>\n",
       "      <td>-0.062764</td>\n",
       "    </tr>\n",
       "    <tr>\n",
       "      <th>8</th>\n",
       "      <td>5084_5_donald_trump_2_wikipedia_ 1d8e9e948cacad4d.json</td>\n",
       "      <td>-0.064891</td>\n",
       "    </tr>\n",
       "    <tr>\n",
       "      <th>11</th>\n",
       "      <td>5876_5_donald_trump_2_wikipedia_ 1c8e9e948cacad4d.json</td>\n",
       "      <td>-0.143937</td>\n",
       "    </tr>\n",
       "    <tr>\n",
       "      <th>1</th>\n",
       "      <td>4353_22_donald_trump_2_wikipedia_ 0c8686168ca4ae2d.json</td>\n",
       "      <td>-0.148087</td>\n",
       "    </tr>\n",
       "    <tr>\n",
       "      <th>0</th>\n",
       "      <td>4353_21_donald_trump_1_googleplus_ eec7c3ebd3726569.json</td>\n",
       "      <td>-0.316936</td>\n",
       "    </tr>\n",
       "    <tr>\n",
       "      <th>4</th>\n",
       "      <td>4353_25_donald_trump_5_theodysseyonline_headlinepolitics_ 9b1919199999993a.json</td>\n",
       "      <td>-0.410840</td>\n",
       "    </tr>\n",
       "    <tr>\n",
       "      <th>6</th>\n",
       "      <td>4436_10_donald_trump_6_cnn_ 8e8686064e4f4745.json</td>\n",
       "      <td>-0.470524</td>\n",
       "    </tr>\n",
       "    <tr>\n",
       "      <th>7</th>\n",
       "      <td>4580_10_donald_trump_6_wonkette_ 961a1a1b8bcb9e9b.json</td>\n",
       "      <td>-0.912340</td>\n",
       "    </tr>\n",
       "  </tbody>\n",
       "</table>\n",
       "</div>"
      ],
      "text/plain": [
       "                                                                         image_file  net_sentiment\n",
       "10                      5588_8_donald_trump_5_nationalreview_ 1e3e3e3f3b169b93.json       1.000000\n",
       "12                     6092_9_donald_trump_6_businessinsider_ 8d0e06060e0c2d8d.json       0.986314\n",
       "2                     4353_23_donald_trump_3_businessinsider_ cdcf4e4e4d4dcd9d.json       0.848343\n",
       "5                               4353_26_donald_trump_6_slate_ 961b1b191999363e.json      -0.012520\n",
       "9                         5372_6_donald_trump_3_slate_reddit_ cb49890dce9e9495.json      -0.047263\n",
       "3                              4353_24_donald_trump_4_snopes_ 4d4d0f4e465b4b8c.json      -0.062764\n",
       "8                            5084_5_donald_trump_2_wikipedia_ 1d8e9e948cacad4d.json      -0.064891\n",
       "11                           5876_5_donald_trump_2_wikipedia_ 1c8e9e948cacad4d.json      -0.143937\n",
       "1                           4353_22_donald_trump_2_wikipedia_ 0c8686168ca4ae2d.json      -0.148087\n",
       "0                          4353_21_donald_trump_1_googleplus_ eec7c3ebd3726569.json      -0.316936\n",
       "4   4353_25_donald_trump_5_theodysseyonline_headlinepolitics_ 9b1919199999993a.json      -0.410840\n",
       "6                                 4436_10_donald_trump_6_cnn_ 8e8686064e4f4745.json      -0.470524\n",
       "7                            4580_10_donald_trump_6_wonkette_ 961a1a1b8bcb9e9b.json      -0.912340"
      ]
     },
     "execution_count": 18,
     "metadata": {},
     "output_type": "execute_result"
    }
   ],
   "source": [
    "tmp.sort_values(by='net_sentiment', ascending=False)"
   ]
  },
  {
   "cell_type": "markdown",
   "metadata": {},
   "source": [
    "# Calculate average sentiment over entire timecourse"
   ]
  },
  {
   "cell_type": "code",
   "execution_count": 19,
   "metadata": {
    "collapsed": false
   },
   "outputs": [],
   "source": [
    "HCnews = pd.read_csv('HC_news.csv')\n",
    "DTnews = pd.read_csv('DTnews.csv')"
   ]
  },
  {
   "cell_type": "code",
   "execution_count": 20,
   "metadata": {
    "collapsed": false,
    "scrolled": true
   },
   "outputs": [
    {
     "name": "stderr",
     "output_type": "stream",
     "text": [
      "/Users/jenniferstark/anaconda/lib/python3.4/site-packages/ipykernel/__main__.py:1: SettingWithCopyWarning: \n",
      "A value is trying to be set on a copy of a slice from a DataFrame.\n",
      "Try using .loc[row_indexer,col_indexer] = value instead\n",
      "\n",
      "See the caveats in the documentation: http://pandas.pydata.org/pandas-docs/stable/indexing.html#indexing-view-versus-copy\n",
      "  if __name__ == '__main__':\n",
      "/Users/jenniferstark/anaconda/lib/python3.4/site-packages/ipykernel/__main__.py:2: SettingWithCopyWarning: \n",
      "A value is trying to be set on a copy of a slice from a DataFrame.\n",
      "Try using .loc[row_indexer,col_indexer] = value instead\n",
      "\n",
      "See the caveats in the documentation: http://pandas.pydata.org/pandas-docs/stable/indexing.html#indexing-view-versus-copy\n",
      "  from ipykernel import kernelapp as app\n"
     ]
    }
   ],
   "source": [
    "HC_sentiment['image_hash'] = HC_sentiment.image_file.str.split('.').str.get(0).str.split('_').str.get(6)\n",
    "DT_sentiment['image_hash'] = DT_sentiment.image_file.str.split('.').str.get(0).str.split('_').str.get(6)"
   ]
  },
  {
   "cell_type": "code",
   "execution_count": 21,
   "metadata": {
    "collapsed": false
   },
   "outputs": [
    {
     "data": {
      "text/html": [
       "<div>\n",
       "<table border=\"1\" class=\"dataframe\">\n",
       "  <thead>\n",
       "    <tr style=\"text-align: right;\">\n",
       "      <th></th>\n",
       "      <th>happiness</th>\n",
       "      <th>negative_emotion</th>\n",
       "      <th>image_file</th>\n",
       "      <th>net_sentiment</th>\n",
       "      <th>image_hash</th>\n",
       "    </tr>\n",
       "  </thead>\n",
       "  <tbody>\n",
       "    <tr>\n",
       "      <th>0</th>\n",
       "      <td>1.000000</td>\n",
       "      <td>3.102818e-09</td>\n",
       "      <td>4352_1_hillary_clinton_1_googleplus_ 861e1f37179f0e8c.json</td>\n",
       "      <td>1.000000</td>\n",
       "      <td>861e1f37179f0e8c</td>\n",
       "    </tr>\n",
       "    <tr>\n",
       "      <th>1</th>\n",
       "      <td>1.000000</td>\n",
       "      <td>4.367459e-13</td>\n",
       "      <td>4352_2_hillary_clinton_2_wikipedia_ 764fce5e4be6b6d2_SMALLER.json</td>\n",
       "      <td>1.000000</td>\n",
       "      <td>764fce5e4be6b6d2</td>\n",
       "    </tr>\n",
       "    <tr>\n",
       "      <th>2</th>\n",
       "      <td>0.999941</td>\n",
       "      <td>9.723856e-06</td>\n",
       "      <td>4352_3_hillary_clinton_3_russiainsider_ 2f1e0e0e1f1b1b9b.json</td>\n",
       "      <td>0.999932</td>\n",
       "      <td>2f1e0e0e1f1b1b9b</td>\n",
       "    </tr>\n",
       "    <tr>\n",
       "      <th>3</th>\n",
       "      <td>0.200970</td>\n",
       "      <td>6.059989e-03</td>\n",
       "      <td>4352_4_hillary_clinton_4_cnn_ 96970f0706064e86.json</td>\n",
       "      <td>0.194910</td>\n",
       "      <td>96970f0706064e86</td>\n",
       "    </tr>\n",
       "    <tr>\n",
       "      <th>4</th>\n",
       "      <td>0.000313</td>\n",
       "      <td>2.672395e-01</td>\n",
       "      <td>4352_5_hillary_clinton_5_youtube_ 983d7d1c3c1c1c6f.json</td>\n",
       "      <td>-0.266927</td>\n",
       "      <td>983d7d1c3c1c1c6f</td>\n",
       "    </tr>\n",
       "    <tr>\n",
       "      <th>5</th>\n",
       "      <td>0.854808</td>\n",
       "      <td>9.322156e-03</td>\n",
       "      <td>4509_31_hillary_clinton_6_biography_decfc7c7cec6cecc.json</td>\n",
       "      <td>0.845486</td>\n",
       "      <td>decfc7c7cec6cecc</td>\n",
       "    </tr>\n",
       "    <tr>\n",
       "      <th>6</th>\n",
       "      <td>0.603577</td>\n",
       "      <td>2.561469e-02</td>\n",
       "      <td>5013_29_hillary_clinton_5_time_ c7cbc787c7c72d2c.json</td>\n",
       "      <td>0.577962</td>\n",
       "      <td>c7cbc787c7c72d2c</td>\n",
       "    </tr>\n",
       "    <tr>\n",
       "      <th>7</th>\n",
       "      <td>0.927040</td>\n",
       "      <td>4.285427e-02</td>\n",
       "      <td>5733_30_hillary_clinton_6_mises_ 4f9f8f0f172a4acd.json</td>\n",
       "      <td>0.884185</td>\n",
       "      <td>4f9f8f0f172a4acd</td>\n",
       "    </tr>\n",
       "    <tr>\n",
       "      <th>8</th>\n",
       "      <td>1.000000</td>\n",
       "      <td>2.919897e-09</td>\n",
       "      <td>5805_30_hillary_clinton_6_politico_ 27464666644d5434.json</td>\n",
       "      <td>1.000000</td>\n",
       "      <td>27464666644d5434</td>\n",
       "    </tr>\n",
       "  </tbody>\n",
       "</table>\n",
       "</div>"
      ],
      "text/plain": [
       "   happiness  negative_emotion                                                         image_file  net_sentiment         image_hash\n",
       "0   1.000000      3.102818e-09         4352_1_hillary_clinton_1_googleplus_ 861e1f37179f0e8c.json       1.000000   861e1f37179f0e8c\n",
       "1   1.000000      4.367459e-13  4352_2_hillary_clinton_2_wikipedia_ 764fce5e4be6b6d2_SMALLER.json       1.000000   764fce5e4be6b6d2\n",
       "2   0.999941      9.723856e-06      4352_3_hillary_clinton_3_russiainsider_ 2f1e0e0e1f1b1b9b.json       0.999932   2f1e0e0e1f1b1b9b\n",
       "3   0.200970      6.059989e-03                4352_4_hillary_clinton_4_cnn_ 96970f0706064e86.json       0.194910   96970f0706064e86\n",
       "4   0.000313      2.672395e-01            4352_5_hillary_clinton_5_youtube_ 983d7d1c3c1c1c6f.json      -0.266927   983d7d1c3c1c1c6f\n",
       "5   0.854808      9.322156e-03          4509_31_hillary_clinton_6_biography_decfc7c7cec6cecc.json       0.845486   decfc7c7cec6cecc\n",
       "6   0.603577      2.561469e-02              5013_29_hillary_clinton_5_time_ c7cbc787c7c72d2c.json       0.577962   c7cbc787c7c72d2c\n",
       "7   0.927040      4.285427e-02             5733_30_hillary_clinton_6_mises_ 4f9f8f0f172a4acd.json       0.884185   4f9f8f0f172a4acd\n",
       "8   1.000000      2.919897e-09          5805_30_hillary_clinton_6_politico_ 27464666644d5434.json       1.000000   27464666644d5434"
      ]
     },
     "execution_count": 21,
     "metadata": {},
     "output_type": "execute_result"
    }
   ],
   "source": [
    "HC_sentiment"
   ]
  },
  {
   "cell_type": "code",
   "execution_count": 82,
   "metadata": {
    "collapsed": false
   },
   "outputs": [
    {
     "name": "stdout",
     "output_type": "stream",
     "text": [
      "861e1f37179f0e8c\n",
      "764fce5e4be6b6d2\n",
      "2f1e0e0e1f1b1b9b\n",
      "96970f0706064e86\n",
      "983d7d1c3c1c1c6f\n",
      "decfc7c7cec6cecc\n",
      "c7cbc787c7c72d2c\n",
      "4f9f8f0f172a4acd\n",
      "27464666644d5434\n"
     ]
    }
   ],
   "source": [
    "# Get number of occurances for each hash in the whole time course of image gathering\n",
    "\n",
    "HC_average_sentiment = []\n",
    "\n",
    "for i in HCnews.image_hash.unique():\n",
    "    print(i)\n",
    "    tmp = HCnews[HCnews.image_hash == i]\n",
    "    \n",
    "    tmp_dict = {}\n",
    "    \n",
    "    tmp_dict['image_hash'] = i\n",
    "    #tmp_dict['hash_sentiment_sum'] = len(tmp)*tmp.net_sentiment\n",
    "    tmp_dict['hash_occurances'] = len(tmp)\n",
    "    \n",
    "    \n",
    "    HC_average_sentiment.append(tmp_dict)"
   ]
  },
  {
   "cell_type": "code",
   "execution_count": 83,
   "metadata": {
    "collapsed": false
   },
   "outputs": [
    {
     "name": "stdout",
     "output_type": "stream",
     "text": [
      "eec7c3ebd3726569\n",
      "0c8686168ca4ae2d\n",
      "cdcf4e4e4d4dcd9d\n",
      "4d4d0f4e465b4b8c\n",
      "9b1919199999993a\n",
      "961b1b191999363e\n",
      "8e8686064e4f4745\n",
      "961a1a1b8bcb9e9b\n",
      "1d8e9e948cacad4d\n",
      "cb49890dce9e9495\n",
      "1e3e3e3f3b169b93\n",
      "1c8e9e948cacad4d\n",
      "8d0e06060e0c2d8d\n"
     ]
    }
   ],
   "source": [
    "# Get number of occurances for each hash in the whole time course of image gathering\n",
    "\n",
    "DT_average_sentiment = []\n",
    "\n",
    "for i in DTnews.image_hash.unique():\n",
    "    print(i)\n",
    "    tmp = DTnews[DTnews.image_hash == i]\n",
    "    \n",
    "    tmp_dict = {}\n",
    "    \n",
    "    tmp_dict['image_hash'] = i\n",
    "    #tmp_dict['hash_sentiment_sum'] = len(tmp)*tmp.net_sentiment\n",
    "    tmp_dict['hash_occurances'] = len(tmp)\n",
    "    \n",
    "    \n",
    "    DT_average_sentiment.append(tmp_dict)"
   ]
  },
  {
   "cell_type": "code",
   "execution_count": 84,
   "metadata": {
    "collapsed": true
   },
   "outputs": [],
   "source": [
    "# Convert list to a DF\n",
    "HC_cumulative_sentiment = pd.DataFrame(HC_average_sentiment)\n",
    "DT_cumulative_sentiment = pd.DataFrame(DT_average_sentiment)"
   ]
  },
  {
   "cell_type": "code",
   "execution_count": 85,
   "metadata": {
    "collapsed": false
   },
   "outputs": [
    {
     "data": {
      "text/html": [
       "<div>\n",
       "<table border=\"1\" class=\"dataframe\">\n",
       "  <thead>\n",
       "    <tr style=\"text-align: right;\">\n",
       "      <th></th>\n",
       "      <th>hash_occurances</th>\n",
       "      <th>image_hash</th>\n",
       "    </tr>\n",
       "  </thead>\n",
       "  <tbody>\n",
       "    <tr>\n",
       "      <th>0</th>\n",
       "      <td>57</td>\n",
       "      <td>861e1f37179f0e8c</td>\n",
       "    </tr>\n",
       "    <tr>\n",
       "      <th>1</th>\n",
       "      <td>57</td>\n",
       "      <td>764fce5e4be6b6d2</td>\n",
       "    </tr>\n",
       "    <tr>\n",
       "      <th>2</th>\n",
       "      <td>57</td>\n",
       "      <td>2f1e0e0e1f1b1b9b</td>\n",
       "    </tr>\n",
       "    <tr>\n",
       "      <th>3</th>\n",
       "      <td>53</td>\n",
       "      <td>96970f0706064e86</td>\n",
       "    </tr>\n",
       "    <tr>\n",
       "      <th>4</th>\n",
       "      <td>22</td>\n",
       "      <td>983d7d1c3c1c1c6f</td>\n",
       "    </tr>\n",
       "    <tr>\n",
       "      <th>5</th>\n",
       "      <td>52</td>\n",
       "      <td>decfc7c7cec6cecc</td>\n",
       "    </tr>\n",
       "    <tr>\n",
       "      <th>6</th>\n",
       "      <td>2</td>\n",
       "      <td>c7cbc787c7c72d2c</td>\n",
       "    </tr>\n",
       "    <tr>\n",
       "      <th>7</th>\n",
       "      <td>1</td>\n",
       "      <td>4f9f8f0f172a4acd</td>\n",
       "    </tr>\n",
       "    <tr>\n",
       "      <th>8</th>\n",
       "      <td>36</td>\n",
       "      <td>27464666644d5434</td>\n",
       "    </tr>\n",
       "  </tbody>\n",
       "</table>\n",
       "</div>"
      ],
      "text/plain": [
       "   hash_occurances        image_hash\n",
       "0               57  861e1f37179f0e8c\n",
       "1               57  764fce5e4be6b6d2\n",
       "2               57  2f1e0e0e1f1b1b9b\n",
       "3               53  96970f0706064e86\n",
       "4               22  983d7d1c3c1c1c6f\n",
       "5               52  decfc7c7cec6cecc\n",
       "6                2  c7cbc787c7c72d2c\n",
       "7                1  4f9f8f0f172a4acd\n",
       "8               36  27464666644d5434"
      ]
     },
     "execution_count": 85,
     "metadata": {},
     "output_type": "execute_result"
    }
   ],
   "source": [
    "# Check the DF\n",
    "HC_cumulative_sentiment"
   ]
  },
  {
   "cell_type": "code",
   "execution_count": 86,
   "metadata": {
    "collapsed": false
   },
   "outputs": [
    {
     "data": {
      "text/html": [
       "<div>\n",
       "<table border=\"1\" class=\"dataframe\">\n",
       "  <thead>\n",
       "    <tr style=\"text-align: right;\">\n",
       "      <th></th>\n",
       "      <th>happiness</th>\n",
       "      <th>negative_emotion</th>\n",
       "      <th>image_file</th>\n",
       "      <th>net_sentiment</th>\n",
       "      <th>image_hash</th>\n",
       "    </tr>\n",
       "  </thead>\n",
       "  <tbody>\n",
       "    <tr>\n",
       "      <th>0</th>\n",
       "      <td>1.000000</td>\n",
       "      <td>3.102818e-09</td>\n",
       "      <td>4352_1_hillary_clinton_1_googleplus_ 861e1f37179f0e8c.json</td>\n",
       "      <td>1.000000</td>\n",
       "      <td>861e1f37179f0e8c</td>\n",
       "    </tr>\n",
       "    <tr>\n",
       "      <th>1</th>\n",
       "      <td>1.000000</td>\n",
       "      <td>4.367459e-13</td>\n",
       "      <td>4352_2_hillary_clinton_2_wikipedia_ 764fce5e4be6b6d2_SMALLER.json</td>\n",
       "      <td>1.000000</td>\n",
       "      <td>764fce5e4be6b6d2</td>\n",
       "    </tr>\n",
       "    <tr>\n",
       "      <th>2</th>\n",
       "      <td>0.999941</td>\n",
       "      <td>9.723856e-06</td>\n",
       "      <td>4352_3_hillary_clinton_3_russiainsider_ 2f1e0e0e1f1b1b9b.json</td>\n",
       "      <td>0.999932</td>\n",
       "      <td>2f1e0e0e1f1b1b9b</td>\n",
       "    </tr>\n",
       "    <tr>\n",
       "      <th>3</th>\n",
       "      <td>0.200970</td>\n",
       "      <td>6.059989e-03</td>\n",
       "      <td>4352_4_hillary_clinton_4_cnn_ 96970f0706064e86.json</td>\n",
       "      <td>0.194910</td>\n",
       "      <td>96970f0706064e86</td>\n",
       "    </tr>\n",
       "    <tr>\n",
       "      <th>4</th>\n",
       "      <td>0.000313</td>\n",
       "      <td>2.672395e-01</td>\n",
       "      <td>4352_5_hillary_clinton_5_youtube_ 983d7d1c3c1c1c6f.json</td>\n",
       "      <td>-0.266927</td>\n",
       "      <td>983d7d1c3c1c1c6f</td>\n",
       "    </tr>\n",
       "    <tr>\n",
       "      <th>5</th>\n",
       "      <td>0.854808</td>\n",
       "      <td>9.322156e-03</td>\n",
       "      <td>4509_31_hillary_clinton_6_biography_decfc7c7cec6cecc.json</td>\n",
       "      <td>0.845486</td>\n",
       "      <td>decfc7c7cec6cecc</td>\n",
       "    </tr>\n",
       "    <tr>\n",
       "      <th>6</th>\n",
       "      <td>0.603577</td>\n",
       "      <td>2.561469e-02</td>\n",
       "      <td>5013_29_hillary_clinton_5_time_ c7cbc787c7c72d2c.json</td>\n",
       "      <td>0.577962</td>\n",
       "      <td>c7cbc787c7c72d2c</td>\n",
       "    </tr>\n",
       "    <tr>\n",
       "      <th>7</th>\n",
       "      <td>0.927040</td>\n",
       "      <td>4.285427e-02</td>\n",
       "      <td>5733_30_hillary_clinton_6_mises_ 4f9f8f0f172a4acd.json</td>\n",
       "      <td>0.884185</td>\n",
       "      <td>4f9f8f0f172a4acd</td>\n",
       "    </tr>\n",
       "    <tr>\n",
       "      <th>8</th>\n",
       "      <td>1.000000</td>\n",
       "      <td>2.919897e-09</td>\n",
       "      <td>5805_30_hillary_clinton_6_politico_ 27464666644d5434.json</td>\n",
       "      <td>1.000000</td>\n",
       "      <td>27464666644d5434</td>\n",
       "    </tr>\n",
       "  </tbody>\n",
       "</table>\n",
       "</div>"
      ],
      "text/plain": [
       "   happiness  negative_emotion                                                         image_file  net_sentiment         image_hash\n",
       "0   1.000000      3.102818e-09         4352_1_hillary_clinton_1_googleplus_ 861e1f37179f0e8c.json       1.000000   861e1f37179f0e8c\n",
       "1   1.000000      4.367459e-13  4352_2_hillary_clinton_2_wikipedia_ 764fce5e4be6b6d2_SMALLER.json       1.000000   764fce5e4be6b6d2\n",
       "2   0.999941      9.723856e-06      4352_3_hillary_clinton_3_russiainsider_ 2f1e0e0e1f1b1b9b.json       0.999932   2f1e0e0e1f1b1b9b\n",
       "3   0.200970      6.059989e-03                4352_4_hillary_clinton_4_cnn_ 96970f0706064e86.json       0.194910   96970f0706064e86\n",
       "4   0.000313      2.672395e-01            4352_5_hillary_clinton_5_youtube_ 983d7d1c3c1c1c6f.json      -0.266927   983d7d1c3c1c1c6f\n",
       "5   0.854808      9.322156e-03          4509_31_hillary_clinton_6_biography_decfc7c7cec6cecc.json       0.845486   decfc7c7cec6cecc\n",
       "6   0.603577      2.561469e-02              5013_29_hillary_clinton_5_time_ c7cbc787c7c72d2c.json       0.577962   c7cbc787c7c72d2c\n",
       "7   0.927040      4.285427e-02             5733_30_hillary_clinton_6_mises_ 4f9f8f0f172a4acd.json       0.884185   4f9f8f0f172a4acd\n",
       "8   1.000000      2.919897e-09          5805_30_hillary_clinton_6_politico_ 27464666644d5434.json       1.000000   27464666644d5434"
      ]
     },
     "execution_count": 86,
     "metadata": {},
     "output_type": "execute_result"
    }
   ],
   "source": [
    "# Shrink sentiment DF to only necessary cols\n",
    "HC_sentiment"
   ]
  },
  {
   "cell_type": "code",
   "execution_count": 87,
   "metadata": {
    "collapsed": false
   },
   "outputs": [],
   "source": [
    "# merge net sentiment DF with hash count DF\n",
    "HC_data = pd.concat([HC_sentiment, HC_cumulative_sentiment], axis=1)\n",
    "DT_data = pd.concat([DT_sentiment, DT_cumulative_sentiment], axis=1)"
   ]
  },
  {
   "cell_type": "code",
   "execution_count": 88,
   "metadata": {
    "collapsed": false
   },
   "outputs": [
    {
     "data": {
      "text/html": [
       "<div>\n",
       "<table border=\"1\" class=\"dataframe\">\n",
       "  <thead>\n",
       "    <tr style=\"text-align: right;\">\n",
       "      <th></th>\n",
       "      <th>happiness</th>\n",
       "      <th>negative_emotion</th>\n",
       "      <th>image_file</th>\n",
       "      <th>net_sentiment</th>\n",
       "      <th>image_hash</th>\n",
       "      <th>hash_occurances</th>\n",
       "      <th>image_hash</th>\n",
       "    </tr>\n",
       "  </thead>\n",
       "  <tbody>\n",
       "    <tr>\n",
       "      <th>0</th>\n",
       "      <td>1.000000</td>\n",
       "      <td>3.102818e-09</td>\n",
       "      <td>4352_1_hillary_clinton_1_googleplus_ 861e1f37179f0e8c.json</td>\n",
       "      <td>1.000000</td>\n",
       "      <td>861e1f37179f0e8c</td>\n",
       "      <td>57</td>\n",
       "      <td>861e1f37179f0e8c</td>\n",
       "    </tr>\n",
       "    <tr>\n",
       "      <th>1</th>\n",
       "      <td>1.000000</td>\n",
       "      <td>4.367459e-13</td>\n",
       "      <td>4352_2_hillary_clinton_2_wikipedia_ 764fce5e4be6b6d2_SMALLER.json</td>\n",
       "      <td>1.000000</td>\n",
       "      <td>764fce5e4be6b6d2</td>\n",
       "      <td>57</td>\n",
       "      <td>764fce5e4be6b6d2</td>\n",
       "    </tr>\n",
       "    <tr>\n",
       "      <th>2</th>\n",
       "      <td>0.999941</td>\n",
       "      <td>9.723856e-06</td>\n",
       "      <td>4352_3_hillary_clinton_3_russiainsider_ 2f1e0e0e1f1b1b9b.json</td>\n",
       "      <td>0.999932</td>\n",
       "      <td>2f1e0e0e1f1b1b9b</td>\n",
       "      <td>57</td>\n",
       "      <td>2f1e0e0e1f1b1b9b</td>\n",
       "    </tr>\n",
       "    <tr>\n",
       "      <th>3</th>\n",
       "      <td>0.200970</td>\n",
       "      <td>6.059989e-03</td>\n",
       "      <td>4352_4_hillary_clinton_4_cnn_ 96970f0706064e86.json</td>\n",
       "      <td>0.194910</td>\n",
       "      <td>96970f0706064e86</td>\n",
       "      <td>53</td>\n",
       "      <td>96970f0706064e86</td>\n",
       "    </tr>\n",
       "    <tr>\n",
       "      <th>4</th>\n",
       "      <td>0.000313</td>\n",
       "      <td>2.672395e-01</td>\n",
       "      <td>4352_5_hillary_clinton_5_youtube_ 983d7d1c3c1c1c6f.json</td>\n",
       "      <td>-0.266927</td>\n",
       "      <td>983d7d1c3c1c1c6f</td>\n",
       "      <td>22</td>\n",
       "      <td>983d7d1c3c1c1c6f</td>\n",
       "    </tr>\n",
       "    <tr>\n",
       "      <th>5</th>\n",
       "      <td>0.854808</td>\n",
       "      <td>9.322156e-03</td>\n",
       "      <td>4509_31_hillary_clinton_6_biography_decfc7c7cec6cecc.json</td>\n",
       "      <td>0.845486</td>\n",
       "      <td>decfc7c7cec6cecc</td>\n",
       "      <td>52</td>\n",
       "      <td>decfc7c7cec6cecc</td>\n",
       "    </tr>\n",
       "    <tr>\n",
       "      <th>6</th>\n",
       "      <td>0.603577</td>\n",
       "      <td>2.561469e-02</td>\n",
       "      <td>5013_29_hillary_clinton_5_time_ c7cbc787c7c72d2c.json</td>\n",
       "      <td>0.577962</td>\n",
       "      <td>c7cbc787c7c72d2c</td>\n",
       "      <td>2</td>\n",
       "      <td>c7cbc787c7c72d2c</td>\n",
       "    </tr>\n",
       "    <tr>\n",
       "      <th>7</th>\n",
       "      <td>0.927040</td>\n",
       "      <td>4.285427e-02</td>\n",
       "      <td>5733_30_hillary_clinton_6_mises_ 4f9f8f0f172a4acd.json</td>\n",
       "      <td>0.884185</td>\n",
       "      <td>4f9f8f0f172a4acd</td>\n",
       "      <td>1</td>\n",
       "      <td>4f9f8f0f172a4acd</td>\n",
       "    </tr>\n",
       "    <tr>\n",
       "      <th>8</th>\n",
       "      <td>1.000000</td>\n",
       "      <td>2.919897e-09</td>\n",
       "      <td>5805_30_hillary_clinton_6_politico_ 27464666644d5434.json</td>\n",
       "      <td>1.000000</td>\n",
       "      <td>27464666644d5434</td>\n",
       "      <td>36</td>\n",
       "      <td>27464666644d5434</td>\n",
       "    </tr>\n",
       "  </tbody>\n",
       "</table>\n",
       "</div>"
      ],
      "text/plain": [
       "   happiness  negative_emotion                                                         image_file  net_sentiment         image_hash  hash_occurances        image_hash\n",
       "0   1.000000      3.102818e-09         4352_1_hillary_clinton_1_googleplus_ 861e1f37179f0e8c.json       1.000000   861e1f37179f0e8c               57  861e1f37179f0e8c\n",
       "1   1.000000      4.367459e-13  4352_2_hillary_clinton_2_wikipedia_ 764fce5e4be6b6d2_SMALLER.json       1.000000   764fce5e4be6b6d2               57  764fce5e4be6b6d2\n",
       "2   0.999941      9.723856e-06      4352_3_hillary_clinton_3_russiainsider_ 2f1e0e0e1f1b1b9b.json       0.999932   2f1e0e0e1f1b1b9b               57  2f1e0e0e1f1b1b9b\n",
       "3   0.200970      6.059989e-03                4352_4_hillary_clinton_4_cnn_ 96970f0706064e86.json       0.194910   96970f0706064e86               53  96970f0706064e86\n",
       "4   0.000313      2.672395e-01            4352_5_hillary_clinton_5_youtube_ 983d7d1c3c1c1c6f.json      -0.266927   983d7d1c3c1c1c6f               22  983d7d1c3c1c1c6f\n",
       "5   0.854808      9.322156e-03          4509_31_hillary_clinton_6_biography_decfc7c7cec6cecc.json       0.845486   decfc7c7cec6cecc               52  decfc7c7cec6cecc\n",
       "6   0.603577      2.561469e-02              5013_29_hillary_clinton_5_time_ c7cbc787c7c72d2c.json       0.577962   c7cbc787c7c72d2c                2  c7cbc787c7c72d2c\n",
       "7   0.927040      4.285427e-02             5733_30_hillary_clinton_6_mises_ 4f9f8f0f172a4acd.json       0.884185   4f9f8f0f172a4acd                1  4f9f8f0f172a4acd\n",
       "8   1.000000      2.919897e-09          5805_30_hillary_clinton_6_politico_ 27464666644d5434.json       1.000000   27464666644d5434               36  27464666644d5434"
      ]
     },
     "execution_count": 88,
     "metadata": {},
     "output_type": "execute_result"
    }
   ],
   "source": [
    "HC_data"
   ]
  },
  {
   "cell_type": "code",
   "execution_count": 89,
   "metadata": {
    "collapsed": false
   },
   "outputs": [],
   "source": [
    "HC_data['happiness_sum'] = HC_data['happiness'] * HC_data['hash_occurances']\n",
    "HC_data['negative_sum'] = HC_data['negative_emotion'] * HC_data['hash_occurances']\n",
    "HC_data['happiness_average'] = HC_data['happiness_sum'].sum() / len(HCnews)\n",
    "HC_data['negative_average'] = HC_data['negative_sum'].sum() / len(HCnews)\n",
    "\n",
    "DT_data['happiness_sum'] = DT_data['happiness'] * DT_data['hash_occurances']\n",
    "DT_data['negative_sum'] = DT_data['negative_emotion'] * DT_data['hash_occurances']\n",
    "DT_data['happiness_average'] = DT_data['happiness_sum'].sum() / len(DTnews)\n",
    "DT_data['negative_average'] = DT_data['negative_sum'].sum() / len(DTnews)"
   ]
  },
  {
   "cell_type": "code",
   "execution_count": 90,
   "metadata": {
    "collapsed": false
   },
   "outputs": [
    {
     "data": {
      "text/html": [
       "<div>\n",
       "<table border=\"1\" class=\"dataframe\">\n",
       "  <thead>\n",
       "    <tr style=\"text-align: right;\">\n",
       "      <th></th>\n",
       "      <th>happiness</th>\n",
       "      <th>negative_emotion</th>\n",
       "      <th>image_file</th>\n",
       "      <th>net_sentiment</th>\n",
       "      <th>image_hash</th>\n",
       "      <th>hash_occurances</th>\n",
       "      <th>image_hash</th>\n",
       "      <th>happiness_sum</th>\n",
       "      <th>negative_sum</th>\n",
       "      <th>happiness_average</th>\n",
       "      <th>negative_average</th>\n",
       "    </tr>\n",
       "  </thead>\n",
       "  <tbody>\n",
       "    <tr>\n",
       "      <th>0</th>\n",
       "      <td>1.000000</td>\n",
       "      <td>3.102818e-09</td>\n",
       "      <td>4352_1_hillary_clinton_1_googleplus_ 861e1f37179f0e8c.json</td>\n",
       "      <td>1.000000</td>\n",
       "      <td>861e1f37179f0e8c</td>\n",
       "      <td>57</td>\n",
       "      <td>861e1f37179f0e8c</td>\n",
       "      <td>57.000000</td>\n",
       "      <td>1.768606e-07</td>\n",
       "      <td>0.784093</td>\n",
       "      <td>0.020118</td>\n",
       "    </tr>\n",
       "    <tr>\n",
       "      <th>1</th>\n",
       "      <td>1.000000</td>\n",
       "      <td>4.367459e-13</td>\n",
       "      <td>4352_2_hillary_clinton_2_wikipedia_ 764fce5e4be6b6d2_SMALLER.json</td>\n",
       "      <td>1.000000</td>\n",
       "      <td>764fce5e4be6b6d2</td>\n",
       "      <td>57</td>\n",
       "      <td>764fce5e4be6b6d2</td>\n",
       "      <td>57.000000</td>\n",
       "      <td>2.489452e-11</td>\n",
       "      <td>0.784093</td>\n",
       "      <td>0.020118</td>\n",
       "    </tr>\n",
       "    <tr>\n",
       "      <th>2</th>\n",
       "      <td>0.999941</td>\n",
       "      <td>9.723856e-06</td>\n",
       "      <td>4352_3_hillary_clinton_3_russiainsider_ 2f1e0e0e1f1b1b9b.json</td>\n",
       "      <td>0.999932</td>\n",
       "      <td>2f1e0e0e1f1b1b9b</td>\n",
       "      <td>57</td>\n",
       "      <td>2f1e0e0e1f1b1b9b</td>\n",
       "      <td>56.996660</td>\n",
       "      <td>5.542598e-04</td>\n",
       "      <td>0.784093</td>\n",
       "      <td>0.020118</td>\n",
       "    </tr>\n",
       "    <tr>\n",
       "      <th>3</th>\n",
       "      <td>0.200970</td>\n",
       "      <td>6.059989e-03</td>\n",
       "      <td>4352_4_hillary_clinton_4_cnn_ 96970f0706064e86.json</td>\n",
       "      <td>0.194910</td>\n",
       "      <td>96970f0706064e86</td>\n",
       "      <td>53</td>\n",
       "      <td>96970f0706064e86</td>\n",
       "      <td>10.651429</td>\n",
       "      <td>3.211794e-01</td>\n",
       "      <td>0.784093</td>\n",
       "      <td>0.020118</td>\n",
       "    </tr>\n",
       "    <tr>\n",
       "      <th>4</th>\n",
       "      <td>0.000313</td>\n",
       "      <td>2.672395e-01</td>\n",
       "      <td>4352_5_hillary_clinton_5_youtube_ 983d7d1c3c1c1c6f.json</td>\n",
       "      <td>-0.266927</td>\n",
       "      <td>983d7d1c3c1c1c6f</td>\n",
       "      <td>22</td>\n",
       "      <td>983d7d1c3c1c1c6f</td>\n",
       "      <td>0.006883</td>\n",
       "      <td>5.879269e+00</td>\n",
       "      <td>0.784093</td>\n",
       "      <td>0.020118</td>\n",
       "    </tr>\n",
       "    <tr>\n",
       "      <th>5</th>\n",
       "      <td>0.854808</td>\n",
       "      <td>9.322156e-03</td>\n",
       "      <td>4509_31_hillary_clinton_6_biography_decfc7c7cec6cecc.json</td>\n",
       "      <td>0.845486</td>\n",
       "      <td>decfc7c7cec6cecc</td>\n",
       "      <td>52</td>\n",
       "      <td>decfc7c7cec6cecc</td>\n",
       "      <td>44.450018</td>\n",
       "      <td>4.847521e-01</td>\n",
       "      <td>0.784093</td>\n",
       "      <td>0.020118</td>\n",
       "    </tr>\n",
       "    <tr>\n",
       "      <th>6</th>\n",
       "      <td>0.603577</td>\n",
       "      <td>2.561469e-02</td>\n",
       "      <td>5013_29_hillary_clinton_5_time_ c7cbc787c7c72d2c.json</td>\n",
       "      <td>0.577962</td>\n",
       "      <td>c7cbc787c7c72d2c</td>\n",
       "      <td>2</td>\n",
       "      <td>c7cbc787c7c72d2c</td>\n",
       "      <td>1.207154</td>\n",
       "      <td>5.122938e-02</td>\n",
       "      <td>0.784093</td>\n",
       "      <td>0.020118</td>\n",
       "    </tr>\n",
       "    <tr>\n",
       "      <th>7</th>\n",
       "      <td>0.927040</td>\n",
       "      <td>4.285427e-02</td>\n",
       "      <td>5733_30_hillary_clinton_6_mises_ 4f9f8f0f172a4acd.json</td>\n",
       "      <td>0.884185</td>\n",
       "      <td>4f9f8f0f172a4acd</td>\n",
       "      <td>1</td>\n",
       "      <td>4f9f8f0f172a4acd</td>\n",
       "      <td>0.927040</td>\n",
       "      <td>4.285427e-02</td>\n",
       "      <td>0.784093</td>\n",
       "      <td>0.020118</td>\n",
       "    </tr>\n",
       "    <tr>\n",
       "      <th>8</th>\n",
       "      <td>1.000000</td>\n",
       "      <td>2.919897e-09</td>\n",
       "      <td>5805_30_hillary_clinton_6_politico_ 27464666644d5434.json</td>\n",
       "      <td>1.000000</td>\n",
       "      <td>27464666644d5434</td>\n",
       "      <td>36</td>\n",
       "      <td>27464666644d5434</td>\n",
       "      <td>36.000000</td>\n",
       "      <td>1.051163e-07</td>\n",
       "      <td>0.784093</td>\n",
       "      <td>0.020118</td>\n",
       "    </tr>\n",
       "  </tbody>\n",
       "</table>\n",
       "</div>"
      ],
      "text/plain": [
       "   happiness  negative_emotion                                                         image_file  net_sentiment         image_hash  hash_occurances        image_hash  happiness_sum  negative_sum  happiness_average  negative_average\n",
       "0   1.000000      3.102818e-09         4352_1_hillary_clinton_1_googleplus_ 861e1f37179f0e8c.json       1.000000   861e1f37179f0e8c               57  861e1f37179f0e8c      57.000000  1.768606e-07           0.784093          0.020118\n",
       "1   1.000000      4.367459e-13  4352_2_hillary_clinton_2_wikipedia_ 764fce5e4be6b6d2_SMALLER.json       1.000000   764fce5e4be6b6d2               57  764fce5e4be6b6d2      57.000000  2.489452e-11           0.784093          0.020118\n",
       "2   0.999941      9.723856e-06      4352_3_hillary_clinton_3_russiainsider_ 2f1e0e0e1f1b1b9b.json       0.999932   2f1e0e0e1f1b1b9b               57  2f1e0e0e1f1b1b9b      56.996660  5.542598e-04           0.784093          0.020118\n",
       "3   0.200970      6.059989e-03                4352_4_hillary_clinton_4_cnn_ 96970f0706064e86.json       0.194910   96970f0706064e86               53  96970f0706064e86      10.651429  3.211794e-01           0.784093          0.020118\n",
       "4   0.000313      2.672395e-01            4352_5_hillary_clinton_5_youtube_ 983d7d1c3c1c1c6f.json      -0.266927   983d7d1c3c1c1c6f               22  983d7d1c3c1c1c6f       0.006883  5.879269e+00           0.784093          0.020118\n",
       "5   0.854808      9.322156e-03          4509_31_hillary_clinton_6_biography_decfc7c7cec6cecc.json       0.845486   decfc7c7cec6cecc               52  decfc7c7cec6cecc      44.450018  4.847521e-01           0.784093          0.020118\n",
       "6   0.603577      2.561469e-02              5013_29_hillary_clinton_5_time_ c7cbc787c7c72d2c.json       0.577962   c7cbc787c7c72d2c                2  c7cbc787c7c72d2c       1.207154  5.122938e-02           0.784093          0.020118\n",
       "7   0.927040      4.285427e-02             5733_30_hillary_clinton_6_mises_ 4f9f8f0f172a4acd.json       0.884185   4f9f8f0f172a4acd                1  4f9f8f0f172a4acd       0.927040  4.285427e-02           0.784093          0.020118\n",
       "8   1.000000      2.919897e-09          5805_30_hillary_clinton_6_politico_ 27464666644d5434.json       1.000000   27464666644d5434               36  27464666644d5434      36.000000  1.051163e-07           0.784093          0.020118"
      ]
     },
     "execution_count": 90,
     "metadata": {},
     "output_type": "execute_result"
    }
   ],
   "source": [
    "HC_data"
   ]
  },
  {
   "cell_type": "code",
   "execution_count": 94,
   "metadata": {
    "collapsed": false
   },
   "outputs": [
    {
     "data": {
      "image/png": "[encoded data removed]",
      "text/plain": [
       "<matplotlib.figure.Figure at 0x11d7055c0>"
      ]
     },
     "metadata": {},
     "output_type": "display_data"
    }
   ],
   "source": [
    "HC_data[['happiness_average', 'negative_average']].mean().plot(kind='bar',ylim=(0,1))\n",
    "#DT_data[['happiness_average', 'negative_average']].mean().plot(kind='bar', ylim=(0,1))\n",
    "plt.savefig('HC_averagesentiment.svg')"
   ]
  },
  {
   "cell_type": "code",
   "execution_count": 93,
   "metadata": {
    "collapsed": false
   },
   "outputs": [
    {
     "data": {
      "image/png": "[encoded data removed]",
      "text/plain": [
       "<matplotlib.figure.Figure at 0x11d457668>"
      ]
     },
     "metadata": {},
     "output_type": "display_data"
    }
   ],
   "source": [
    "DT_data[['happiness_average', 'negative_average']].mean().plot(kind='bar', ylim=(0,1))\n",
    "plt.savefig('DT_averagesentiment.svg')"
   ]
  },
  {
   "cell_type": "code",
   "execution_count": null,
   "metadata": {
    "collapsed": true
   },
   "outputs": [],
   "source": [
    "average_sentiment = pd.DataFrame(columns=['candidate'])"
   ]
  },
  {
   "cell_type": "markdown",
   "metadata": {},
   "source": [
    "# Microsoft Face API"
   ]
  },
  {
   "cell_type": "code",
   "execution_count": 22,
   "metadata": {
    "collapsed": true
   },
   "outputs": [],
   "source": [
    "def read_jsons_faceAPI(f, candidate):\n",
    "   \n",
    "    tmp_dict = {}\n",
    "    with open(f) as json_file:    \n",
    "        data = json.load(json_file)    \n",
    "        tmp_dict['smile'] = data[0]['faceAttributes']['smile']\n",
    "        tmp_dict['age'] = data[0]['faceAttributes']['age']\n",
    "        tmp_dict['image_file'] = f.split('/')[7]\n",
    "        \n",
    "        return tmp_dict"
   ]
  },
  {
   "cell_type": "code",
   "execution_count": 23,
   "metadata": {
    "collapsed": true
   },
   "outputs": [],
   "source": [
    "basefilepath = '/Users/jenniferstark/Documents/Repositories/googlescraper_images/MicrosoftFaceAPI/'\n",
    "\n",
    "def get_json(path, candidate):\n",
    "    \n",
    "    for f in glob.glob(path + '*.json'):\n",
    "        #print(f)\n",
    "        if candidate in f:\n",
    "            row_list.append(read_jsons_faceAPI(f, candidate))"
   ]
  },
  {
   "cell_type": "code",
   "execution_count": 24,
   "metadata": {
    "collapsed": false
   },
   "outputs": [],
   "source": [
    "row_list = []\n",
    "get_json(basefilepath, 'hillary_clinton')\n",
    "HC_Face = pd.DataFrame(row_list)  "
   ]
  },
  {
   "cell_type": "code",
   "execution_count": 79,
   "metadata": {
    "collapsed": false
   },
   "outputs": [
    {
     "data": {
      "text/html": [
       "<div>\n",
       "<table border=\"1\" class=\"dataframe\">\n",
       "  <thead>\n",
       "    <tr style=\"text-align: right;\">\n",
       "      <th></th>\n",
       "      <th>age</th>\n",
       "      <th>image_file</th>\n",
       "      <th>smile</th>\n",
       "    </tr>\n",
       "  </thead>\n",
       "  <tbody>\n",
       "    <tr>\n",
       "      <th>0</th>\n",
       "      <td>51.8</td>\n",
       "      <td>4352_1_hillary_clinton_1_googleplus_ 861e1f37179f0e8c.json</td>\n",
       "      <td>1.000</td>\n",
       "    </tr>\n",
       "    <tr>\n",
       "      <th>1</th>\n",
       "      <td>48.6</td>\n",
       "      <td>4352_2_hillary_clinton_2_wikipedia_ 764fce5e4be6b6d2_SMALLER.json</td>\n",
       "      <td>1.000</td>\n",
       "    </tr>\n",
       "    <tr>\n",
       "      <th>2</th>\n",
       "      <td>47.4</td>\n",
       "      <td>4352_3_hillary_clinton_3_russiainsider_ 2f1e0e0e1f1b1b9b.json</td>\n",
       "      <td>1.000</td>\n",
       "    </tr>\n",
       "    <tr>\n",
       "      <th>3</th>\n",
       "      <td>51.1</td>\n",
       "      <td>4352_4_hillary_clinton_4_cnn_ 96970f0706064e86.json</td>\n",
       "      <td>0.528</td>\n",
       "    </tr>\n",
       "    <tr>\n",
       "      <th>4</th>\n",
       "      <td>55.7</td>\n",
       "      <td>4352_5_hillary_clinton_5_youtube_ 983d7d1c3c1c1c6f.json</td>\n",
       "      <td>0.026</td>\n",
       "    </tr>\n",
       "    <tr>\n",
       "      <th>5</th>\n",
       "      <td>48.4</td>\n",
       "      <td>4509_31_hillary_clinton_6_biography_decfc7c7cec6cecc.json</td>\n",
       "      <td>0.736</td>\n",
       "    </tr>\n",
       "    <tr>\n",
       "      <th>6</th>\n",
       "      <td>57.7</td>\n",
       "      <td>5013_29_hillary_clinton_5_time_ c7cbc787c7c72d2c.json</td>\n",
       "      <td>0.403</td>\n",
       "    </tr>\n",
       "    <tr>\n",
       "      <th>7</th>\n",
       "      <td>55.2</td>\n",
       "      <td>5733_30_hillary_clinton_6_mises_ 4f9f8f0f172a4acd.json</td>\n",
       "      <td>0.999</td>\n",
       "    </tr>\n",
       "    <tr>\n",
       "      <th>8</th>\n",
       "      <td>56.3</td>\n",
       "      <td>5805_30_hillary_clinton_6_politico_ 27464666644d5434.json</td>\n",
       "      <td>1.000</td>\n",
       "    </tr>\n",
       "  </tbody>\n",
       "</table>\n",
       "</div>"
      ],
      "text/plain": [
       "    age                                                         image_file  smile\n",
       "0  51.8         4352_1_hillary_clinton_1_googleplus_ 861e1f37179f0e8c.json  1.000\n",
       "1  48.6  4352_2_hillary_clinton_2_wikipedia_ 764fce5e4be6b6d2_SMALLER.json  1.000\n",
       "2  47.4      4352_3_hillary_clinton_3_russiainsider_ 2f1e0e0e1f1b1b9b.json  1.000\n",
       "3  51.1                4352_4_hillary_clinton_4_cnn_ 96970f0706064e86.json  0.528\n",
       "4  55.7            4352_5_hillary_clinton_5_youtube_ 983d7d1c3c1c1c6f.json  0.026\n",
       "5  48.4          4509_31_hillary_clinton_6_biography_decfc7c7cec6cecc.json  0.736\n",
       "6  57.7              5013_29_hillary_clinton_5_time_ c7cbc787c7c72d2c.json  0.403\n",
       "7  55.2             5733_30_hillary_clinton_6_mises_ 4f9f8f0f172a4acd.json  0.999\n",
       "8  56.3          5805_30_hillary_clinton_6_politico_ 27464666644d5434.json  1.000"
      ]
     },
     "execution_count": 79,
     "metadata": {},
     "output_type": "execute_result"
    }
   ],
   "source": [
    "HC_Face"
   ]
  },
  {
   "cell_type": "code",
   "execution_count": 25,
   "metadata": {
    "collapsed": false
   },
   "outputs": [
    {
     "data": {
      "text/plain": [
       "age      52.466667\n",
       "smile     0.743556\n",
       "dtype: float64"
      ]
     },
     "execution_count": 25,
     "metadata": {},
     "output_type": "execute_result"
    }
   ],
   "source": [
    "HC_Face.mean()     # Current actual age = 68"
   ]
  },
  {
   "cell_type": "code",
   "execution_count": 26,
   "metadata": {
    "collapsed": false
   },
   "outputs": [
    {
     "data": {
      "text/html": [
       "<div>\n",
       "<table border=\"1\" class=\"dataframe\">\n",
       "  <thead>\n",
       "    <tr style=\"text-align: right;\">\n",
       "      <th></th>\n",
       "      <th>age</th>\n",
       "      <th>image_file</th>\n",
       "      <th>smile</th>\n",
       "    </tr>\n",
       "  </thead>\n",
       "  <tbody>\n",
       "    <tr>\n",
       "      <th>0</th>\n",
       "      <td>51.8</td>\n",
       "      <td>4352_1_hillary_clinton_1_googleplus_ 861e1f37179f0e8c.json</td>\n",
       "      <td>1.000</td>\n",
       "    </tr>\n",
       "    <tr>\n",
       "      <th>1</th>\n",
       "      <td>48.6</td>\n",
       "      <td>4352_2_hillary_clinton_2_wikipedia_ 764fce5e4be6b6d2_SMALLER.json</td>\n",
       "      <td>1.000</td>\n",
       "    </tr>\n",
       "    <tr>\n",
       "      <th>2</th>\n",
       "      <td>47.4</td>\n",
       "      <td>4352_3_hillary_clinton_3_russiainsider_ 2f1e0e0e1f1b1b9b.json</td>\n",
       "      <td>1.000</td>\n",
       "    </tr>\n",
       "    <tr>\n",
       "      <th>8</th>\n",
       "      <td>56.3</td>\n",
       "      <td>5805_30_hillary_clinton_6_politico_ 27464666644d5434.json</td>\n",
       "      <td>1.000</td>\n",
       "    </tr>\n",
       "    <tr>\n",
       "      <th>7</th>\n",
       "      <td>55.2</td>\n",
       "      <td>5733_30_hillary_clinton_6_mises_ 4f9f8f0f172a4acd.json</td>\n",
       "      <td>0.999</td>\n",
       "    </tr>\n",
       "    <tr>\n",
       "      <th>5</th>\n",
       "      <td>48.4</td>\n",
       "      <td>4509_31_hillary_clinton_6_biography_decfc7c7cec6cecc.json</td>\n",
       "      <td>0.736</td>\n",
       "    </tr>\n",
       "    <tr>\n",
       "      <th>3</th>\n",
       "      <td>51.1</td>\n",
       "      <td>4352_4_hillary_clinton_4_cnn_ 96970f0706064e86.json</td>\n",
       "      <td>0.528</td>\n",
       "    </tr>\n",
       "    <tr>\n",
       "      <th>6</th>\n",
       "      <td>57.7</td>\n",
       "      <td>5013_29_hillary_clinton_5_time_ c7cbc787c7c72d2c.json</td>\n",
       "      <td>0.403</td>\n",
       "    </tr>\n",
       "    <tr>\n",
       "      <th>4</th>\n",
       "      <td>55.7</td>\n",
       "      <td>4352_5_hillary_clinton_5_youtube_ 983d7d1c3c1c1c6f.json</td>\n",
       "      <td>0.026</td>\n",
       "    </tr>\n",
       "  </tbody>\n",
       "</table>\n",
       "</div>"
      ],
      "text/plain": [
       "    age                                                         image_file  smile\n",
       "0  51.8         4352_1_hillary_clinton_1_googleplus_ 861e1f37179f0e8c.json  1.000\n",
       "1  48.6  4352_2_hillary_clinton_2_wikipedia_ 764fce5e4be6b6d2_SMALLER.json  1.000\n",
       "2  47.4      4352_3_hillary_clinton_3_russiainsider_ 2f1e0e0e1f1b1b9b.json  1.000\n",
       "8  56.3          5805_30_hillary_clinton_6_politico_ 27464666644d5434.json  1.000\n",
       "7  55.2             5733_30_hillary_clinton_6_mises_ 4f9f8f0f172a4acd.json  0.999\n",
       "5  48.4          4509_31_hillary_clinton_6_biography_decfc7c7cec6cecc.json  0.736\n",
       "3  51.1                4352_4_hillary_clinton_4_cnn_ 96970f0706064e86.json  0.528\n",
       "6  57.7              5013_29_hillary_clinton_5_time_ c7cbc787c7c72d2c.json  0.403\n",
       "4  55.7            4352_5_hillary_clinton_5_youtube_ 983d7d1c3c1c1c6f.json  0.026"
      ]
     },
     "execution_count": 26,
     "metadata": {},
     "output_type": "execute_result"
    }
   ],
   "source": [
    "HC_Face.sort_values(by='smile', ascending=False)"
   ]
  },
  {
   "cell_type": "code",
   "execution_count": 27,
   "metadata": {
    "collapsed": false
   },
   "outputs": [
    {
     "data": {
      "text/plain": [
       "age      66.446154\n",
       "smile     0.226077\n",
       "dtype: float64"
      ]
     },
     "execution_count": 27,
     "metadata": {},
     "output_type": "execute_result"
    }
   ],
   "source": [
    "row_list = []\n",
    "get_json(basefilepath, 'donald_trump')\n",
    "DT_Face = pd.DataFrame(row_list)\n",
    "DT_Face.mean()         #  Current actual age = 70"
   ]
  },
  {
   "cell_type": "code",
   "execution_count": 28,
   "metadata": {
    "collapsed": false
   },
   "outputs": [
    {
     "data": {
      "text/html": [
       "<div>\n",
       "<table border=\"1\" class=\"dataframe\">\n",
       "  <thead>\n",
       "    <tr style=\"text-align: right;\">\n",
       "      <th></th>\n",
       "      <th>age</th>\n",
       "      <th>image_file</th>\n",
       "      <th>smile</th>\n",
       "    </tr>\n",
       "  </thead>\n",
       "  <tbody>\n",
       "    <tr>\n",
       "      <th>10</th>\n",
       "      <td>58.8</td>\n",
       "      <td>5588_8_donald_trump_5_nationalreview_ 1e3e3e3f3b169b93.json</td>\n",
       "      <td>1.000</td>\n",
       "    </tr>\n",
       "    <tr>\n",
       "      <th>12</th>\n",
       "      <td>70.6</td>\n",
       "      <td>6092_9_donald_trump_6_businessinsider_ 8d0e06060e0c2d8d.json</td>\n",
       "      <td>0.951</td>\n",
       "    </tr>\n",
       "    <tr>\n",
       "      <th>2</th>\n",
       "      <td>76.0</td>\n",
       "      <td>4353_23_donald_trump_3_businessinsider_ cdcf4e4e4d4dcd9d.json</td>\n",
       "      <td>0.848</td>\n",
       "    </tr>\n",
       "    <tr>\n",
       "      <th>1</th>\n",
       "      <td>64.5</td>\n",
       "      <td>4353_22_donald_trump_2_wikipedia_ 0c8686168ca4ae2d.json</td>\n",
       "      <td>0.092</td>\n",
       "    </tr>\n",
       "    <tr>\n",
       "      <th>9</th>\n",
       "      <td>63.3</td>\n",
       "      <td>5372_6_donald_trump_3_slate_reddit_ cb49890dce9e9495.json</td>\n",
       "      <td>0.041</td>\n",
       "    </tr>\n",
       "    <tr>\n",
       "      <th>4</th>\n",
       "      <td>68.3</td>\n",
       "      <td>4353_25_donald_trump_5_theodysseyonline_headlinepolitics_ 9b1919199999993a.json</td>\n",
       "      <td>0.006</td>\n",
       "    </tr>\n",
       "    <tr>\n",
       "      <th>7</th>\n",
       "      <td>73.5</td>\n",
       "      <td>4580_10_donald_trump_6_wonkette_ 961a1a1b8bcb9e9b.json</td>\n",
       "      <td>0.001</td>\n",
       "    </tr>\n",
       "    <tr>\n",
       "      <th>0</th>\n",
       "      <td>60.3</td>\n",
       "      <td>4353_21_donald_trump_1_googleplus_ eec7c3ebd3726569.json</td>\n",
       "      <td>0.000</td>\n",
       "    </tr>\n",
       "    <tr>\n",
       "      <th>3</th>\n",
       "      <td>61.5</td>\n",
       "      <td>4353_24_donald_trump_4_snopes_ 4d4d0f4e465b4b8c.json</td>\n",
       "      <td>0.000</td>\n",
       "    </tr>\n",
       "    <tr>\n",
       "      <th>5</th>\n",
       "      <td>65.6</td>\n",
       "      <td>4353_26_donald_trump_6_slate_ 961b1b191999363e.json</td>\n",
       "      <td>0.000</td>\n",
       "    </tr>\n",
       "    <tr>\n",
       "      <th>6</th>\n",
       "      <td>70.6</td>\n",
       "      <td>4436_10_donald_trump_6_cnn_ 8e8686064e4f4745.json</td>\n",
       "      <td>0.000</td>\n",
       "    </tr>\n",
       "    <tr>\n",
       "      <th>8</th>\n",
       "      <td>65.8</td>\n",
       "      <td>5084_5_donald_trump_2_wikipedia_ 1d8e9e948cacad4d.json</td>\n",
       "      <td>0.000</td>\n",
       "    </tr>\n",
       "    <tr>\n",
       "      <th>11</th>\n",
       "      <td>65.0</td>\n",
       "      <td>5876_5_donald_trump_2_wikipedia_ 1c8e9e948cacad4d.json</td>\n",
       "      <td>0.000</td>\n",
       "    </tr>\n",
       "  </tbody>\n",
       "</table>\n",
       "</div>"
      ],
      "text/plain": [
       "     age                                                                       image_file  smile\n",
       "10  58.8                      5588_8_donald_trump_5_nationalreview_ 1e3e3e3f3b169b93.json  1.000\n",
       "12  70.6                     6092_9_donald_trump_6_businessinsider_ 8d0e06060e0c2d8d.json  0.951\n",
       "2   76.0                    4353_23_donald_trump_3_businessinsider_ cdcf4e4e4d4dcd9d.json  0.848\n",
       "1   64.5                          4353_22_donald_trump_2_wikipedia_ 0c8686168ca4ae2d.json  0.092\n",
       "9   63.3                        5372_6_donald_trump_3_slate_reddit_ cb49890dce9e9495.json  0.041\n",
       "4   68.3  4353_25_donald_trump_5_theodysseyonline_headlinepolitics_ 9b1919199999993a.json  0.006\n",
       "7   73.5                           4580_10_donald_trump_6_wonkette_ 961a1a1b8bcb9e9b.json  0.001\n",
       "0   60.3                         4353_21_donald_trump_1_googleplus_ eec7c3ebd3726569.json  0.000\n",
       "3   61.5                             4353_24_donald_trump_4_snopes_ 4d4d0f4e465b4b8c.json  0.000\n",
       "5   65.6                              4353_26_donald_trump_6_slate_ 961b1b191999363e.json  0.000\n",
       "6   70.6                                4436_10_donald_trump_6_cnn_ 8e8686064e4f4745.json  0.000\n",
       "8   65.8                           5084_5_donald_trump_2_wikipedia_ 1d8e9e948cacad4d.json  0.000\n",
       "11  65.0                           5876_5_donald_trump_2_wikipedia_ 1c8e9e948cacad4d.json  0.000"
      ]
     },
     "execution_count": 28,
     "metadata": {},
     "output_type": "execute_result"
    }
   ],
   "source": [
    "DT_Face.sort_values(by='smile', ascending=False)"
   ]
  },
  {
   "cell_type": "code",
   "execution_count": 80,
   "metadata": {
    "collapsed": false
   },
   "outputs": [
    {
     "data": {
      "text/plain": [
       "age      67.857143\n",
       "smile     0.419857\n",
       "dtype: float64"
      ]
     },
     "execution_count": 80,
     "metadata": {},
     "output_type": "execute_result"
    }
   ],
   "source": [
    "DT_Face_subset = DT_Face[DT_Face.smile != 0.000]\n",
    "DT_Face_subset.mean()"
   ]
  },
  {
   "cell_type": "code",
   "execution_count": 29,
   "metadata": {
    "collapsed": false
   },
   "outputs": [
    {
     "data": {
      "text/plain": [
       "Ttest_indResult(statistic=-3.1733825610285717, pvalue=0.00505949686152205)"
      ]
     },
     "execution_count": 29,
     "metadata": {},
     "output_type": "execute_result"
    }
   ],
   "source": [
    "from scipy import stats\n",
    "stats.ttest_ind(DT_Face['smile'],HC_Face['smile'], equal_var=False)"
   ]
  },
  {
   "cell_type": "markdown",
   "metadata": {},
   "source": [
    "# Google Cloud Vision API: LABELS"
   ]
  },
  {
   "cell_type": "code",
   "execution_count": 30,
   "metadata": {
    "collapsed": true
   },
   "outputs": [],
   "source": [
    "file = '/Users/jenniferstark/Documents/Repositories/googlescraper_images/GoogleVisionAPI/4352_1_hillary_clinton_1_googleplus_ 861e1f37179f0e8c.json'\n",
    "with open(file) as json_file:    \n",
    "        data = json.load(json_file)    \n",
    "        #tmp_dict = data[0]['scores']\n"
   ]
  },
  {
   "cell_type": "code",
   "execution_count": 31,
   "metadata": {
    "collapsed": false
   },
   "outputs": [
    {
     "data": {
      "text/plain": [
       "dict_keys(['safeSearchAnnotation', 'faceAnnotations', 'labelAnnotations', 'imagePropertiesAnnotation'])"
      ]
     },
     "execution_count": 31,
     "metadata": {},
     "output_type": "execute_result"
    }
   ],
   "source": [
    "data.keys()"
   ]
  },
  {
   "cell_type": "code",
   "execution_count": 32,
   "metadata": {
    "collapsed": false
   },
   "outputs": [
    {
     "data": {
      "text/plain": [
       "15"
      ]
     },
     "execution_count": 32,
     "metadata": {},
     "output_type": "execute_result"
    }
   ],
   "source": [
    "len(data['labelAnnotations'])"
   ]
  },
  {
   "cell_type": "code",
   "execution_count": 33,
   "metadata": {
    "collapsed": false
   },
   "outputs": [
    {
     "data": {
      "text/plain": [
       "{'description': 'Facial Expression', 'mid': '/m/01k74n', 'score': 96}"
      ]
     },
     "execution_count": 33,
     "metadata": {},
     "output_type": "execute_result"
    }
   ],
   "source": [
    "data['labelAnnotations'][0]"
   ]
  },
  {
   "cell_type": "code",
   "execution_count": 34,
   "metadata": {
    "collapsed": false
   },
   "outputs": [
    {
     "data": {
      "text/plain": [
       "'Facial Expression'"
      ]
     },
     "execution_count": 34,
     "metadata": {},
     "output_type": "execute_result"
    }
   ],
   "source": [
    "data['labelAnnotations'][0]['description']"
   ]
  },
  {
   "cell_type": "code",
   "execution_count": 35,
   "metadata": {
    "collapsed": false
   },
   "outputs": [
    {
     "data": {
      "text/plain": [
       "96"
      ]
     },
     "execution_count": 35,
     "metadata": {},
     "output_type": "execute_result"
    }
   ],
   "source": [
    "data['labelAnnotations'][0]['score']"
   ]
  },
  {
   "cell_type": "code",
   "execution_count": 36,
   "metadata": {
    "collapsed": false
   },
   "outputs": [
    {
     "data": {
      "text/plain": [
       "{'description': 'Face', 'mid': '/m/0dzct', 'score': 95}"
      ]
     },
     "execution_count": 36,
     "metadata": {},
     "output_type": "execute_result"
    }
   ],
   "source": [
    "data['labelAnnotations'][2]"
   ]
  },
  {
   "cell_type": "code",
   "execution_count": 37,
   "metadata": {
    "collapsed": false
   },
   "outputs": [
    {
     "data": {
      "text/plain": [
       "[{'description': 'Facial Expression', 'mid': '/m/01k74n', 'score': 96},\n",
       " {'description': 'Hair', 'mid': '/m/03q69', 'score': 96},\n",
       " {'description': 'Face', 'mid': '/m/0dzct', 'score': 95},\n",
       " {'description': 'Person', 'mid': '/m/01g317', 'score': 94},\n",
       " {'description': 'Nose', 'mid': '/m/0k0pj', 'score': 89},\n",
       " {'description': 'Cheek', 'mid': '/m/037p5b', 'score': 86},\n",
       " {'description': 'Smile', 'mid': '/m/019nj4', 'score': 82},\n",
       " {'description': 'Hairstyle', 'mid': '/m/0ds4x', 'score': 79},\n",
       " {'description': 'Portrait', 'mid': '/m/01dv4h', 'score': 75},\n",
       " {'description': 'Head', 'mid': '/m/04hgtk', 'score': 75},\n",
       " {'description': 'Close Up', 'mid': '/m/02cqfm', 'score': 74},\n",
       " {'description': 'Mouth', 'mid': '/m/0283dt1', 'score': 69},\n",
       " {'description': 'Portrait Photography', 'mid': '/m/0chml9', 'score': 68},\n",
       " {'description': 'Singer', 'mid': '/m/09l65', 'score': 57},\n",
       " {'description': 'Eye', 'mid': '/m/014sv8', 'score': 56}]"
      ]
     },
     "execution_count": 37,
     "metadata": {},
     "output_type": "execute_result"
    }
   ],
   "source": [
    "data['labelAnnotations']"
   ]
  },
  {
   "cell_type": "code",
   "execution_count": 38,
   "metadata": {
    "collapsed": false
   },
   "outputs": [
    {
     "name": "stdout",
     "output_type": "stream",
     "text": [
      "Facial Expression\n",
      "Hair\n",
      "Face\n",
      "Person\n",
      "Nose\n",
      "Cheek\n",
      "Smile\n"
     ]
    }
   ],
   "source": [
    "for index, thing in enumerate(data['labelAnnotations']):\n",
    "    #print(index, thing)\n",
    "    if thing['score'] > 80:\n",
    "        print(thing['description'])"
   ]
  },
  {
   "cell_type": "code",
   "execution_count": 95,
   "metadata": {
    "collapsed": false
   },
   "outputs": [],
   "source": [
    "def read_googlevision_jsons(f, candidate):\n",
    "\n",
    "    with open(f) as json_file:    \n",
    "        data = json.load(json_file)\n",
    "        #file_list = []\n",
    "        for index, thing in enumerate(data['labelAnnotations']):\n",
    "            #print(index, thing)\n",
    "            if thing['score'] > 60:\n",
    "                #print(thing['description'])\n",
    "\n",
    "                #thing_dict = {}\n",
    "                \n",
    "                #thing_dict['desciption'] = thing['description']\n",
    "                #thing_dict['score'] = thing['score']\n",
    "                \n",
    "                #yield thing_dict\n",
    "                yield thing['description']\n",
    "                #file_list.append(thing_dict)\n",
    "        #return file_list"
   ]
  },
  {
   "cell_type": "code",
   "execution_count": 96,
   "metadata": {
    "collapsed": true
   },
   "outputs": [],
   "source": [
    "basefilepath = '/Users/jenniferstark/Documents/Repositories/googlescraper_images/GoogleVisionAPI/'\n",
    "\n",
    "def get_json(path, candidate):\n",
    "    \n",
    "    for f in glob.glob(path + '*.json'):\n",
    "        #print(f)\n",
    "        if candidate in f:\n",
    "            row_list.append(read_googlevision_jsons(f, candidate))"
   ]
  },
  {
   "cell_type": "code",
   "execution_count": 97,
   "metadata": {
    "collapsed": false
   },
   "outputs": [],
   "source": [
    "row_list = []\n",
    "get_json(basefilepath, 'donald_trump', )\n",
    "DTvisionAPI = pd.DataFrame(row_list)  "
   ]
  },
  {
   "cell_type": "code",
   "execution_count": 98,
   "metadata": {
    "collapsed": true
   },
   "outputs": [],
   "source": [
    "row_list = []\n",
    "get_json(basefilepath, 'hillary_clinton', )\n",
    "HCvisionAPI = pd.DataFrame(row_list)  "
   ]
  },
  {
   "cell_type": "code",
   "execution_count": 99,
   "metadata": {
    "collapsed": true
   },
   "outputs": [],
   "source": [
    "HCrow_list = row_list"
   ]
  },
  {
   "cell_type": "code",
   "execution_count": 100,
   "metadata": {
    "collapsed": false
   },
   "outputs": [
    {
     "data": {
      "text/plain": [
       "[<generator object read_googlevision_jsons at 0x11d199438>,\n",
       " <generator object read_googlevision_jsons at 0x11d751ab0>,\n",
       " <generator object read_googlevision_jsons at 0x11d751a68>,\n",
       " <generator object read_googlevision_jsons at 0x11d751b88>,\n",
       " <generator object read_googlevision_jsons at 0x11d751828>,\n",
       " <generator object read_googlevision_jsons at 0x11d751bd0>,\n",
       " <generator object read_googlevision_jsons at 0x11d751c60>,\n",
       " <generator object read_googlevision_jsons at 0x11d751c18>,\n",
       " <generator object read_googlevision_jsons at 0x11d7516c0>]"
      ]
     },
     "execution_count": 100,
     "metadata": {},
     "output_type": "execute_result"
    }
   ],
   "source": [
    "row_list"
   ]
  },
  {
   "cell_type": "code",
   "execution_count": 101,
   "metadata": {
    "collapsed": false
   },
   "outputs": [
    {
     "ename": "NameError",
     "evalue": "name 'DTrow_list' is not defined",
     "output_type": "error",
     "traceback": [
      "\u001b[0;31m---------------------------------------------------------------------------\u001b[0m",
      "\u001b[0;31mNameError\u001b[0m                                 Traceback (most recent call last)",
      "\u001b[0;32m<ipython-input-101-ac312a92fa70>\u001b[0m in \u001b[0;36m<module>\u001b[0;34m()\u001b[0m\n\u001b[0;32m----> 1\u001b[0;31m \u001b[0mDTrow_list\u001b[0m\u001b[0;34m\u001b[0m\u001b[0m\n\u001b[0m",
      "\u001b[0;31mNameError\u001b[0m: name 'DTrow_list' is not defined"
     ]
    }
   ],
   "source": [
    "DTrow_list"
   ]
  },
  {
   "cell_type": "code",
   "execution_count": 102,
   "metadata": {
    "collapsed": false
   },
   "outputs": [
    {
     "data": {
      "text/html": [
       "<div>\n",
       "<table border=\"1\" class=\"dataframe\">\n",
       "  <thead>\n",
       "    <tr style=\"text-align: right;\">\n",
       "      <th></th>\n",
       "      <th>0</th>\n",
       "      <th>1</th>\n",
       "      <th>2</th>\n",
       "      <th>3</th>\n",
       "      <th>4</th>\n",
       "      <th>5</th>\n",
       "      <th>6</th>\n",
       "      <th>7</th>\n",
       "      <th>8</th>\n",
       "      <th>9</th>\n",
       "      <th>10</th>\n",
       "      <th>11</th>\n",
       "      <th>12</th>\n",
       "      <th>13</th>\n",
       "      <th>14</th>\n",
       "      <th>15</th>\n",
       "      <th>16</th>\n",
       "    </tr>\n",
       "  </thead>\n",
       "  <tbody>\n",
       "    <tr>\n",
       "      <th>0</th>\n",
       "      <td>Facial Expression</td>\n",
       "      <td>Hair</td>\n",
       "      <td>Face</td>\n",
       "      <td>Person</td>\n",
       "      <td>Nose</td>\n",
       "      <td>Cheek</td>\n",
       "      <td>Smile</td>\n",
       "      <td>Hairstyle</td>\n",
       "      <td>Portrait</td>\n",
       "      <td>Head</td>\n",
       "      <td>Close Up</td>\n",
       "      <td>Mouth</td>\n",
       "      <td>Portrait Photography</td>\n",
       "      <td>None</td>\n",
       "      <td>None</td>\n",
       "      <td>None</td>\n",
       "      <td>None</td>\n",
       "    </tr>\n",
       "    <tr>\n",
       "      <th>1</th>\n",
       "      <td>Hair</td>\n",
       "      <td>Face</td>\n",
       "      <td>Person</td>\n",
       "      <td>Hairstyle</td>\n",
       "      <td>None</td>\n",
       "      <td>None</td>\n",
       "      <td>None</td>\n",
       "      <td>None</td>\n",
       "      <td>None</td>\n",
       "      <td>None</td>\n",
       "      <td>None</td>\n",
       "      <td>None</td>\n",
       "      <td>None</td>\n",
       "      <td>None</td>\n",
       "      <td>None</td>\n",
       "      <td>None</td>\n",
       "      <td>None</td>\n",
       "    </tr>\n",
       "    <tr>\n",
       "      <th>2</th>\n",
       "      <td>Face</td>\n",
       "      <td>Facial Expression</td>\n",
       "      <td>Hair</td>\n",
       "      <td>Person</td>\n",
       "      <td>Nose</td>\n",
       "      <td>Hairstyle</td>\n",
       "      <td>Head</td>\n",
       "      <td>Blond</td>\n",
       "      <td>Mouth</td>\n",
       "      <td>Organ</td>\n",
       "      <td>Singer</td>\n",
       "      <td>None</td>\n",
       "      <td>None</td>\n",
       "      <td>None</td>\n",
       "      <td>None</td>\n",
       "      <td>None</td>\n",
       "      <td>None</td>\n",
       "    </tr>\n",
       "    <tr>\n",
       "      <th>3</th>\n",
       "      <td>Face</td>\n",
       "      <td>Facial Expression</td>\n",
       "      <td>Hair</td>\n",
       "      <td>Cheek</td>\n",
       "      <td>Person</td>\n",
       "      <td>Nose</td>\n",
       "      <td>Chin</td>\n",
       "      <td>Woman</td>\n",
       "      <td>Portrait</td>\n",
       "      <td>Close Up</td>\n",
       "      <td>Smile</td>\n",
       "      <td>Head</td>\n",
       "      <td>Skin</td>\n",
       "      <td>Hairstyle</td>\n",
       "      <td>Mouth</td>\n",
       "      <td>Portrait Photography</td>\n",
       "      <td>Eye</td>\n",
       "    </tr>\n",
       "    <tr>\n",
       "      <th>4</th>\n",
       "      <td>Facial Expression</td>\n",
       "      <td>Face</td>\n",
       "      <td>Hair</td>\n",
       "      <td>Person</td>\n",
       "      <td>Nose</td>\n",
       "      <td>Hairstyle</td>\n",
       "      <td>Head</td>\n",
       "      <td>Mouth</td>\n",
       "      <td>Singing</td>\n",
       "      <td>Singer</td>\n",
       "      <td>None</td>\n",
       "      <td>None</td>\n",
       "      <td>None</td>\n",
       "      <td>None</td>\n",
       "      <td>None</td>\n",
       "      <td>None</td>\n",
       "      <td>None</td>\n",
       "    </tr>\n",
       "    <tr>\n",
       "      <th>5</th>\n",
       "      <td>Hair</td>\n",
       "      <td>Face</td>\n",
       "      <td>Person</td>\n",
       "      <td>Nose</td>\n",
       "      <td>Hairstyle</td>\n",
       "      <td>Head</td>\n",
       "      <td>Spokesperson</td>\n",
       "      <td>Layered Hair</td>\n",
       "      <td>None</td>\n",
       "      <td>None</td>\n",
       "      <td>None</td>\n",
       "      <td>None</td>\n",
       "      <td>None</td>\n",
       "      <td>None</td>\n",
       "      <td>None</td>\n",
       "      <td>None</td>\n",
       "      <td>None</td>\n",
       "    </tr>\n",
       "    <tr>\n",
       "      <th>6</th>\n",
       "      <td>Person</td>\n",
       "      <td>Face</td>\n",
       "      <td>Senior Citizen</td>\n",
       "      <td>Hairstyle</td>\n",
       "      <td>None</td>\n",
       "      <td>None</td>\n",
       "      <td>None</td>\n",
       "      <td>None</td>\n",
       "      <td>None</td>\n",
       "      <td>None</td>\n",
       "      <td>None</td>\n",
       "      <td>None</td>\n",
       "      <td>None</td>\n",
       "      <td>None</td>\n",
       "      <td>None</td>\n",
       "      <td>None</td>\n",
       "      <td>None</td>\n",
       "    </tr>\n",
       "    <tr>\n",
       "      <th>7</th>\n",
       "      <td>Facial Expression</td>\n",
       "      <td>Face</td>\n",
       "      <td>Hair</td>\n",
       "      <td>Person</td>\n",
       "      <td>Nose</td>\n",
       "      <td>Woman</td>\n",
       "      <td>Lady</td>\n",
       "      <td>Smile</td>\n",
       "      <td>Head</td>\n",
       "      <td>Mouth</td>\n",
       "      <td>Organ</td>\n",
       "      <td>Eye</td>\n",
       "      <td>Singing</td>\n",
       "      <td>None</td>\n",
       "      <td>None</td>\n",
       "      <td>None</td>\n",
       "      <td>None</td>\n",
       "    </tr>\n",
       "    <tr>\n",
       "      <th>8</th>\n",
       "      <td>Hair</td>\n",
       "      <td>Facial Expression</td>\n",
       "      <td>Person</td>\n",
       "      <td>Red</td>\n",
       "      <td>People</td>\n",
       "      <td>Smile</td>\n",
       "      <td>Hairstyle</td>\n",
       "      <td>None</td>\n",
       "      <td>None</td>\n",
       "      <td>None</td>\n",
       "      <td>None</td>\n",
       "      <td>None</td>\n",
       "      <td>None</td>\n",
       "      <td>None</td>\n",
       "      <td>None</td>\n",
       "      <td>None</td>\n",
       "      <td>None</td>\n",
       "    </tr>\n",
       "  </tbody>\n",
       "</table>\n",
       "</div>"
      ],
      "text/plain": [
       "                  0                  1               2          3          4          5             6             7         8         9         10     11                    12         13     14                    15    16\n",
       "0  Facial Expression               Hair            Face     Person       Nose      Cheek         Smile     Hairstyle  Portrait      Head  Close Up  Mouth  Portrait Photography       None   None                  None  None\n",
       "1               Hair               Face          Person  Hairstyle       None       None          None          None      None      None      None   None                  None       None   None                  None  None\n",
       "2               Face  Facial Expression            Hair     Person       Nose  Hairstyle          Head         Blond     Mouth     Organ    Singer   None                  None       None   None                  None  None\n",
       "3               Face  Facial Expression            Hair      Cheek     Person       Nose          Chin         Woman  Portrait  Close Up     Smile   Head                  Skin  Hairstyle  Mouth  Portrait Photography   Eye\n",
       "4  Facial Expression               Face            Hair     Person       Nose  Hairstyle          Head         Mouth   Singing    Singer      None   None                  None       None   None                  None  None\n",
       "5               Hair               Face          Person       Nose  Hairstyle       Head  Spokesperson  Layered Hair      None      None      None   None                  None       None   None                  None  None\n",
       "6             Person               Face  Senior Citizen  Hairstyle       None       None          None          None      None      None      None   None                  None       None   None                  None  None\n",
       "7  Facial Expression               Face            Hair     Person       Nose      Woman          Lady         Smile      Head     Mouth     Organ    Eye               Singing       None   None                  None  None\n",
       "8               Hair  Facial Expression          Person        Red     People      Smile     Hairstyle          None      None      None      None   None                  None       None   None                  None  None"
      ]
     },
     "execution_count": 102,
     "metadata": {},
     "output_type": "execute_result"
    }
   ],
   "source": [
    "HCvisionAPI"
   ]
  },
  {
   "cell_type": "code",
   "execution_count": 103,
   "metadata": {
    "collapsed": false
   },
   "outputs": [],
   "source": [
    "results = HCvisionAPI.apply(pd.value_counts)"
   ]
  },
  {
   "cell_type": "code",
   "execution_count": 104,
   "metadata": {
    "collapsed": false
   },
   "outputs": [
    {
     "data": {
      "text/html": [
       "<div>\n",
       "<table border=\"1\" class=\"dataframe\">\n",
       "  <thead>\n",
       "    <tr style=\"text-align: right;\">\n",
       "      <th></th>\n",
       "      <th>label_counts</th>\n",
       "      <th>percent_normalized</th>\n",
       "    </tr>\n",
       "  </thead>\n",
       "  <tbody>\n",
       "    <tr>\n",
       "      <th>Person</th>\n",
       "      <td>9.0</td>\n",
       "      <td>100.000000</td>\n",
       "    </tr>\n",
       "    <tr>\n",
       "      <th>Face</th>\n",
       "      <td>8.0</td>\n",
       "      <td>88.888889</td>\n",
       "    </tr>\n",
       "    <tr>\n",
       "      <th>Hair</th>\n",
       "      <td>8.0</td>\n",
       "      <td>88.888889</td>\n",
       "    </tr>\n",
       "    <tr>\n",
       "      <th>Hairstyle</th>\n",
       "      <td>8.0</td>\n",
       "      <td>88.888889</td>\n",
       "    </tr>\n",
       "    <tr>\n",
       "      <th>Nose</th>\n",
       "      <td>6.0</td>\n",
       "      <td>66.666667</td>\n",
       "    </tr>\n",
       "    <tr>\n",
       "      <th>Facial Expression</th>\n",
       "      <td>6.0</td>\n",
       "      <td>66.666667</td>\n",
       "    </tr>\n",
       "    <tr>\n",
       "      <th>Head</th>\n",
       "      <td>6.0</td>\n",
       "      <td>66.666667</td>\n",
       "    </tr>\n",
       "    <tr>\n",
       "      <th>Mouth</th>\n",
       "      <td>5.0</td>\n",
       "      <td>55.555556</td>\n",
       "    </tr>\n",
       "    <tr>\n",
       "      <th>Smile</th>\n",
       "      <td>4.0</td>\n",
       "      <td>44.444444</td>\n",
       "    </tr>\n",
       "    <tr>\n",
       "      <th>Organ</th>\n",
       "      <td>2.0</td>\n",
       "      <td>22.222222</td>\n",
       "    </tr>\n",
       "    <tr>\n",
       "      <th>Singing</th>\n",
       "      <td>2.0</td>\n",
       "      <td>22.222222</td>\n",
       "    </tr>\n",
       "    <tr>\n",
       "      <th>Singer</th>\n",
       "      <td>2.0</td>\n",
       "      <td>22.222222</td>\n",
       "    </tr>\n",
       "    <tr>\n",
       "      <th>Portrait Photography</th>\n",
       "      <td>2.0</td>\n",
       "      <td>22.222222</td>\n",
       "    </tr>\n",
       "    <tr>\n",
       "      <th>Portrait</th>\n",
       "      <td>2.0</td>\n",
       "      <td>22.222222</td>\n",
       "    </tr>\n",
       "    <tr>\n",
       "      <th>Woman</th>\n",
       "      <td>2.0</td>\n",
       "      <td>22.222222</td>\n",
       "    </tr>\n",
       "    <tr>\n",
       "      <th>Cheek</th>\n",
       "      <td>2.0</td>\n",
       "      <td>22.222222</td>\n",
       "    </tr>\n",
       "    <tr>\n",
       "      <th>Eye</th>\n",
       "      <td>2.0</td>\n",
       "      <td>22.222222</td>\n",
       "    </tr>\n",
       "    <tr>\n",
       "      <th>Close Up</th>\n",
       "      <td>2.0</td>\n",
       "      <td>22.222222</td>\n",
       "    </tr>\n",
       "    <tr>\n",
       "      <th>People</th>\n",
       "      <td>1.0</td>\n",
       "      <td>11.111111</td>\n",
       "    </tr>\n",
       "    <tr>\n",
       "      <th>Layered Hair</th>\n",
       "      <td>1.0</td>\n",
       "      <td>11.111111</td>\n",
       "    </tr>\n",
       "    <tr>\n",
       "      <th>Lady</th>\n",
       "      <td>1.0</td>\n",
       "      <td>11.111111</td>\n",
       "    </tr>\n",
       "    <tr>\n",
       "      <th>Red</th>\n",
       "      <td>1.0</td>\n",
       "      <td>11.111111</td>\n",
       "    </tr>\n",
       "    <tr>\n",
       "      <th>Senior Citizen</th>\n",
       "      <td>1.0</td>\n",
       "      <td>11.111111</td>\n",
       "    </tr>\n",
       "    <tr>\n",
       "      <th>Skin</th>\n",
       "      <td>1.0</td>\n",
       "      <td>11.111111</td>\n",
       "    </tr>\n",
       "    <tr>\n",
       "      <th>Chin</th>\n",
       "      <td>1.0</td>\n",
       "      <td>11.111111</td>\n",
       "    </tr>\n",
       "    <tr>\n",
       "      <th>Spokesperson</th>\n",
       "      <td>1.0</td>\n",
       "      <td>11.111111</td>\n",
       "    </tr>\n",
       "    <tr>\n",
       "      <th>Blond</th>\n",
       "      <td>1.0</td>\n",
       "      <td>11.111111</td>\n",
       "    </tr>\n",
       "  </tbody>\n",
       "</table>\n",
       "</div>"
      ],
      "text/plain": [
       "                      label_counts  percent_normalized\n",
       "Person                         9.0          100.000000\n",
       "Face                           8.0           88.888889\n",
       "Hair                           8.0           88.888889\n",
       "Hairstyle                      8.0           88.888889\n",
       "Nose                           6.0           66.666667\n",
       "Facial Expression              6.0           66.666667\n",
       "Head                           6.0           66.666667\n",
       "Mouth                          5.0           55.555556\n",
       "Smile                          4.0           44.444444\n",
       "Organ                          2.0           22.222222\n",
       "Singing                        2.0           22.222222\n",
       "Singer                         2.0           22.222222\n",
       "Portrait Photography           2.0           22.222222\n",
       "Portrait                       2.0           22.222222\n",
       "Woman                          2.0           22.222222\n",
       "Cheek                          2.0           22.222222\n",
       "Eye                            2.0           22.222222\n",
       "Close Up                       2.0           22.222222\n",
       "People                         1.0           11.111111\n",
       "Layered Hair                   1.0           11.111111\n",
       "Lady                           1.0           11.111111\n",
       "Red                            1.0           11.111111\n",
       "Senior Citizen                 1.0           11.111111\n",
       "Skin                           1.0           11.111111\n",
       "Chin                           1.0           11.111111\n",
       "Spokesperson                   1.0           11.111111\n",
       "Blond                          1.0           11.111111"
      ]
     },
     "execution_count": 104,
     "metadata": {},
     "output_type": "execute_result"
    }
   ],
   "source": [
    "something = pd.DataFrame(results.sum(axis=1), columns=['label_counts'])\n",
    "something['percent_normalized'] = (something.label_counts/9*100)\n",
    "something.sort_values(by='percent_normalized', ascending=False)"
   ]
  },
  {
   "cell_type": "code",
   "execution_count": 105,
   "metadata": {
    "collapsed": false
   },
   "outputs": [
    {
     "data": {
      "text/html": [
       "<div>\n",
       "<table border=\"1\" class=\"dataframe\">\n",
       "  <thead>\n",
       "    <tr style=\"text-align: right;\">\n",
       "      <th></th>\n",
       "      <th>label_counts</th>\n",
       "      <th>percent_normalized</th>\n",
       "    </tr>\n",
       "  </thead>\n",
       "  <tbody>\n",
       "    <tr>\n",
       "      <th>Person</th>\n",
       "      <td>13.0</td>\n",
       "      <td>100.000000</td>\n",
       "    </tr>\n",
       "    <tr>\n",
       "      <th>Speech</th>\n",
       "      <td>7.0</td>\n",
       "      <td>53.846154</td>\n",
       "    </tr>\n",
       "    <tr>\n",
       "      <th>Spokesperson</th>\n",
       "      <td>4.0</td>\n",
       "      <td>30.769231</td>\n",
       "    </tr>\n",
       "    <tr>\n",
       "      <th>Hairstyle</th>\n",
       "      <td>2.0</td>\n",
       "      <td>15.384615</td>\n",
       "    </tr>\n",
       "    <tr>\n",
       "      <th>Senior Citizen</th>\n",
       "      <td>2.0</td>\n",
       "      <td>15.384615</td>\n",
       "    </tr>\n",
       "    <tr>\n",
       "      <th>Cheek</th>\n",
       "      <td>1.0</td>\n",
       "      <td>7.692308</td>\n",
       "    </tr>\n",
       "    <tr>\n",
       "      <th>Chin</th>\n",
       "      <td>1.0</td>\n",
       "      <td>7.692308</td>\n",
       "    </tr>\n",
       "    <tr>\n",
       "      <th>Close Up</th>\n",
       "      <td>1.0</td>\n",
       "      <td>7.692308</td>\n",
       "    </tr>\n",
       "    <tr>\n",
       "      <th>Face</th>\n",
       "      <td>1.0</td>\n",
       "      <td>7.692308</td>\n",
       "    </tr>\n",
       "    <tr>\n",
       "      <th>Facial Expression</th>\n",
       "      <td>1.0</td>\n",
       "      <td>7.692308</td>\n",
       "    </tr>\n",
       "    <tr>\n",
       "      <th>Forehead</th>\n",
       "      <td>1.0</td>\n",
       "      <td>7.692308</td>\n",
       "    </tr>\n",
       "    <tr>\n",
       "      <th>Hair</th>\n",
       "      <td>1.0</td>\n",
       "      <td>7.692308</td>\n",
       "    </tr>\n",
       "    <tr>\n",
       "      <th>Head</th>\n",
       "      <td>1.0</td>\n",
       "      <td>7.692308</td>\n",
       "    </tr>\n",
       "    <tr>\n",
       "      <th>Nose</th>\n",
       "      <td>1.0</td>\n",
       "      <td>7.692308</td>\n",
       "    </tr>\n",
       "    <tr>\n",
       "      <th>Public Speaking</th>\n",
       "      <td>1.0</td>\n",
       "      <td>7.692308</td>\n",
       "    </tr>\n",
       "  </tbody>\n",
       "</table>\n",
       "</div>"
      ],
      "text/plain": [
       "                   label_counts  percent_normalized\n",
       "Person                     13.0          100.000000\n",
       "Speech                      7.0           53.846154\n",
       "Spokesperson                4.0           30.769231\n",
       "Hairstyle                   2.0           15.384615\n",
       "Senior Citizen              2.0           15.384615\n",
       "Cheek                       1.0            7.692308\n",
       "Chin                        1.0            7.692308\n",
       "Close Up                    1.0            7.692308\n",
       "Face                        1.0            7.692308\n",
       "Facial Expression           1.0            7.692308\n",
       "Forehead                    1.0            7.692308\n",
       "Hair                        1.0            7.692308\n",
       "Head                        1.0            7.692308\n",
       "Nose                        1.0            7.692308\n",
       "Public Speaking             1.0            7.692308"
      ]
     },
     "execution_count": 105,
     "metadata": {},
     "output_type": "execute_result"
    }
   ],
   "source": [
    "resultsDT = DTvisionAPI.apply(pd.value_counts)\n",
    "somethingDT = pd.DataFrame(resultsDT.sum(axis=1), columns=['label_counts'])\n",
    "somethingDT['percent_normalized'] = (somethingDT.label_counts/13*100)\n",
    "somethingDT.sort_values(by='label_counts', ascending=False)"
   ]
  },
  {
   "cell_type": "markdown",
   "metadata": {},
   "source": [
    "# Google Vision API: FACE"
   ]
  },
  {
   "cell_type": "code",
   "execution_count": 57,
   "metadata": {
    "collapsed": false
   },
   "outputs": [
    {
     "data": {
      "text/plain": [
       "dict_keys(['safeSearchAnnotation', 'faceAnnotations', 'labelAnnotations', 'imagePropertiesAnnotation'])"
      ]
     },
     "execution_count": 57,
     "metadata": {},
     "output_type": "execute_result"
    }
   ],
   "source": [
    "data.keys()"
   ]
  },
  {
   "cell_type": "code",
   "execution_count": 58,
   "metadata": {
    "collapsed": false
   },
   "outputs": [
    {
     "data": {
      "text/plain": [
       "[{'friendlyType': 'Joy', 'type': 'joyLikelihood', 'value': 'VERY_LIKELY'},\n",
       " {'friendlyType': 'Sorrow',\n",
       "  'type': 'sorrowLikelihood',\n",
       "  'value': 'VERY_UNLIKELY'},\n",
       " {'friendlyType': 'Anger',\n",
       "  'type': 'angerLikelihood',\n",
       "  'value': 'VERY_UNLIKELY'},\n",
       " {'friendlyType': 'Surprise',\n",
       "  'type': 'surpriseLikelihood',\n",
       "  'value': 'VERY_UNLIKELY'},\n",
       " {'friendlyType': 'Exposed',\n",
       "  'type': 'underExposedLikelihood',\n",
       "  'value': 'VERY_UNLIKELY'},\n",
       " {'friendlyType': 'Blurred',\n",
       "  'type': 'blurredLikelihood',\n",
       "  'value': 'VERY_UNLIKELY'},\n",
       " {'friendlyType': 'Headwear',\n",
       "  'type': 'headwearLikelihood',\n",
       "  'value': 'VERY_UNLIKELY'}]"
      ]
     },
     "execution_count": 58,
     "metadata": {},
     "output_type": "execute_result"
    }
   ],
   "source": [
    "data['faceAnnotations'][0]['types']"
   ]
  },
  {
   "cell_type": "code",
   "execution_count": 59,
   "metadata": {
    "collapsed": false
   },
   "outputs": [
    {
     "name": "stdout",
     "output_type": "stream",
     "text": [
      "0 VERY_LIKELY Joy\n"
     ]
    }
   ],
   "source": [
    "for index, thing in enumerate(data['faceAnnotations'][0]['types']):\n",
    "    if thing['value'] == 'LIKELY' or thing['value'] == 'VERY_LIKELY':\n",
    "        print(index, thing['value'], thing['friendlyType'])\n",
    "    "
   ]
  },
  {
   "cell_type": "code",
   "execution_count": 60,
   "metadata": {
    "collapsed": true
   },
   "outputs": [],
   "source": [
    "def read_googleface_jsons(f, candidate):\n",
    "\n",
    "    with open(f) as json_file:    \n",
    "        data = json.load(json_file)\n",
    "        for index, thing in enumerate(data['faceAnnotations'][0]['types']):\n",
    "            if  thing['value'] == 'LIKELY' or thing['value'] == 'VERY_LIKELY':\n",
    "                yield thing['value'], thing['friendlyType']"
   ]
  },
  {
   "cell_type": "code",
   "execution_count": 61,
   "metadata": {
    "collapsed": true
   },
   "outputs": [],
   "source": [
    "basefilepath = '/Users/jenniferstark/Documents/Repositories/googlescraper_images/GoogleVisionAPI/'\n",
    "\n",
    "def get_json(path, candidate):\n",
    "    for f in glob.glob(path + '*.json'):\n",
    "        if candidate in f:\n",
    "            row_list.append(read_googleface_jsons(f, candidate))"
   ]
  },
  {
   "cell_type": "code",
   "execution_count": 62,
   "metadata": {
    "collapsed": true
   },
   "outputs": [],
   "source": [
    "row_list = []\n",
    "get_json(basefilepath, 'donald_trump', )\n",
    "DTgoogleFace = pd.DataFrame(row_list)  "
   ]
  },
  {
   "cell_type": "code",
   "execution_count": 63,
   "metadata": {
    "collapsed": false
   },
   "outputs": [
    {
     "data": {
      "text/html": [
       "<div>\n",
       "<table border=\"1\" class=\"dataframe\">\n",
       "  <thead>\n",
       "    <tr style=\"text-align: right;\">\n",
       "      <th></th>\n",
       "      <th>0</th>\n",
       "    </tr>\n",
       "  </thead>\n",
       "  <tbody>\n",
       "    <tr>\n",
       "      <th>0</th>\n",
       "      <td>None</td>\n",
       "    </tr>\n",
       "    <tr>\n",
       "      <th>1</th>\n",
       "      <td>None</td>\n",
       "    </tr>\n",
       "    <tr>\n",
       "      <th>2</th>\n",
       "      <td>(VERY_LIKELY, Joy)</td>\n",
       "    </tr>\n",
       "    <tr>\n",
       "      <th>3</th>\n",
       "      <td>None</td>\n",
       "    </tr>\n",
       "    <tr>\n",
       "      <th>4</th>\n",
       "      <td>None</td>\n",
       "    </tr>\n",
       "    <tr>\n",
       "      <th>5</th>\n",
       "      <td>(LIKELY, Sorrow)</td>\n",
       "    </tr>\n",
       "    <tr>\n",
       "      <th>6</th>\n",
       "      <td>None</td>\n",
       "    </tr>\n",
       "    <tr>\n",
       "      <th>7</th>\n",
       "      <td>None</td>\n",
       "    </tr>\n",
       "    <tr>\n",
       "      <th>8</th>\n",
       "      <td>None</td>\n",
       "    </tr>\n",
       "    <tr>\n",
       "      <th>9</th>\n",
       "      <td>None</td>\n",
       "    </tr>\n",
       "    <tr>\n",
       "      <th>10</th>\n",
       "      <td>(VERY_LIKELY, Joy)</td>\n",
       "    </tr>\n",
       "    <tr>\n",
       "      <th>11</th>\n",
       "      <td>None</td>\n",
       "    </tr>\n",
       "    <tr>\n",
       "      <th>12</th>\n",
       "      <td>(VERY_LIKELY, Joy)</td>\n",
       "    </tr>\n",
       "  </tbody>\n",
       "</table>\n",
       "</div>"
      ],
      "text/plain": [
       "                     0\n",
       "0                 None\n",
       "1                 None\n",
       "2   (VERY_LIKELY, Joy)\n",
       "3                 None\n",
       "4                 None\n",
       "5     (LIKELY, Sorrow)\n",
       "6                 None\n",
       "7                 None\n",
       "8                 None\n",
       "9                 None\n",
       "10  (VERY_LIKELY, Joy)\n",
       "11                None\n",
       "12  (VERY_LIKELY, Joy)"
      ]
     },
     "execution_count": 63,
     "metadata": {},
     "output_type": "execute_result"
    }
   ],
   "source": [
    "DTgoogleFace"
   ]
  },
  {
   "cell_type": "code",
   "execution_count": 66,
   "metadata": {
    "collapsed": true
   },
   "outputs": [],
   "source": [
    "row_list = []\n",
    "get_json(basefilepath, 'hillary_clinton', )\n",
    "HCgoogleFace = pd.DataFrame(row_list)"
   ]
  },
  {
   "cell_type": "code",
   "execution_count": 67,
   "metadata": {
    "collapsed": false
   },
   "outputs": [
    {
     "data": {
      "text/html": [
       "<div>\n",
       "<table border=\"1\" class=\"dataframe\">\n",
       "  <thead>\n",
       "    <tr style=\"text-align: right;\">\n",
       "      <th></th>\n",
       "      <th>0</th>\n",
       "    </tr>\n",
       "  </thead>\n",
       "  <tbody>\n",
       "    <tr>\n",
       "      <th>0</th>\n",
       "      <td>(VERY_LIKELY, Joy)</td>\n",
       "    </tr>\n",
       "    <tr>\n",
       "      <th>1</th>\n",
       "      <td>(VERY_LIKELY, Joy)</td>\n",
       "    </tr>\n",
       "    <tr>\n",
       "      <th>2</th>\n",
       "      <td>(VERY_LIKELY, Joy)</td>\n",
       "    </tr>\n",
       "    <tr>\n",
       "      <th>3</th>\n",
       "      <td>None</td>\n",
       "    </tr>\n",
       "    <tr>\n",
       "      <th>4</th>\n",
       "      <td>(LIKELY, Surprise)</td>\n",
       "    </tr>\n",
       "    <tr>\n",
       "      <th>5</th>\n",
       "      <td>(LIKELY, Joy)</td>\n",
       "    </tr>\n",
       "    <tr>\n",
       "      <th>6</th>\n",
       "      <td>(LIKELY, Joy)</td>\n",
       "    </tr>\n",
       "    <tr>\n",
       "      <th>7</th>\n",
       "      <td>(VERY_LIKELY, Joy)</td>\n",
       "    </tr>\n",
       "    <tr>\n",
       "      <th>8</th>\n",
       "      <td>(VERY_LIKELY, Joy)</td>\n",
       "    </tr>\n",
       "  </tbody>\n",
       "</table>\n",
       "</div>"
      ],
      "text/plain": [
       "                    0\n",
       "0  (VERY_LIKELY, Joy)\n",
       "1  (VERY_LIKELY, Joy)\n",
       "2  (VERY_LIKELY, Joy)\n",
       "3                None\n",
       "4  (LIKELY, Surprise)\n",
       "5       (LIKELY, Joy)\n",
       "6       (LIKELY, Joy)\n",
       "7  (VERY_LIKELY, Joy)\n",
       "8  (VERY_LIKELY, Joy)"
      ]
     },
     "execution_count": 67,
     "metadata": {},
     "output_type": "execute_result"
    }
   ],
   "source": [
    "HCgoogleFace"
   ]
  },
  {
   "cell_type": "code",
   "execution_count": null,
   "metadata": {
    "collapsed": true
   },
   "outputs": [],
   "source": []
  }
 ],
 "metadata": {
  "kernelspec": {
   "display_name": "Python 3",
   "language": "python",
   "name": "python3"
  },
  "language_info": {
   "codemirror_mode": {
    "name": "ipython",
    "version": 3
   },
   "file_extension": ".py",
   "mimetype": "text/x-python",
   "name": "python",
   "nbconvert_exporter": "python",
   "pygments_lexer": "ipython3",
   "version": "3.4.5"
  }
 },
 "nbformat": 4,
 "nbformat_minor": 0
}
