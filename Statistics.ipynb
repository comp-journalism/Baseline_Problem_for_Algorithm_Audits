{
 "cells": [
  {
   "cell_type": "markdown",
   "metadata": {},
   "source": [
    "# Statistical analysis"
   ]
  },
  {
   "cell_type": "code",
   "execution_count": 1,
   "metadata": {
    "collapsed": true
   },
   "outputs": [],
   "source": [
    "import pandas as pd\n",
    "import numpy as np\n",
    "import matplotlib.pyplot as plt\n",
    "from scipy import stats\n",
    "\n",
    "%matplotlib inline\n",
    "\n",
    "plt.style.use('ggplot')\n",
    "plt.rcParams['figure.figsize'] = (15, 3)\n",
    "plt.rcParams['font.family'] = 'sans-serif'\n",
    "\n",
    "pd.set_option('display.width', 5000) \n",
    "pd.set_option('display.max_columns', 60)"
   ]
  },
  {
   "cell_type": "code",
   "execution_count": 2,
   "metadata": {
    "collapsed": false
   },
   "outputs": [],
   "source": [
    "HC_baseline = pd.read_csv('./BASELINE/HC_baseline_full_ratings.csv')\n",
    "DT_baseline = pd.read_csv('./BASELINE/DT_baseline_full_ratings.csv')\n",
    "\n",
    "HC_imagebox = pd.read_csv('./IMAGE_BOX/HC_imagebox_full_ratings.csv')\n",
    "DT_imagebox = pd.read_csv('./IMAGE_BOX/DT_imagebox_full_ratings.csv')"
   ]
  },
  {
   "cell_type": "markdown",
   "metadata": {},
   "source": [
    "# Statistical analysis on Allsides bias rating:"
   ]
  },
  {
   "cell_type": "markdown",
   "metadata": {},
   "source": [
    "#### No sources from the images boxes were rated in the Allsides bias rating dataset. Therefore comparisons between bias of baseline sources versus image box sources could not be performed."
   ]
  },
  {
   "cell_type": "markdown",
   "metadata": {},
   "source": [
    "# Statistical analysis on Facebook Study bias rating:"
   ]
  },
  {
   "cell_type": "markdown",
   "metadata": {},
   "source": [
    "#### Hillary Clinton Image Box images versus Baseline images source bias according to Facebook bias ratings:"
   ]
  },
  {
   "cell_type": "code",
   "execution_count": 3,
   "metadata": {
    "collapsed": false
   },
   "outputs": [
    {
     "name": "stdout",
     "output_type": "stream",
     "text": [
      "Baseline skew:  0.6465826147908966\n",
      "Image Box skew:  -2.0119468573813823\n"
     ]
    }
   ],
   "source": [
    "print(\"Baseline skew: \", stats.skew(HC_baseline.facebookbias_rating[HC_baseline.facebookbias_rating<3]))\n",
    "print(\"Image Box skew: \", stats.skew(HC_imagebox.facebookbias_rating[HC_imagebox.facebookbias_rating<3]))"
   ]
  },
  {
   "cell_type": "markdown",
   "metadata": {},
   "source": [
    "* from the [stats page](https://docs.scipy.org/doc/scipy-0.15.1/reference/generated/scipy.stats.skew.html#scipy.stats.skew) \"For normally distributed data, the skewness should be about 0. A skewness value > 0 means that there is more weight in the left tail of the distribution. The function skewtest can be used to determine if the skewness value is close enough to 0, statistically speaking.\""
   ]
  },
  {
   "cell_type": "code",
   "execution_count": 4,
   "metadata": {
    "collapsed": false
   },
   "outputs": [
    {
     "name": "stdout",
     "output_type": "stream",
     "text": [
      "Baseline skew:  SkewtestResult(statistic=3.6907009512795517, pvalue=0.00022363693458296043)\n",
      "Image Box skew:  SkewtestResult(statistic=-7.6651319218146634, pvalue=1.786474831933403e-14)\n"
     ]
    }
   ],
   "source": [
    "print(\"Baseline skew: \", stats.skewtest(HC_baseline.facebookbias_rating[HC_baseline.facebookbias_rating<3]))\n",
    "print(\"Image Box skew: \", stats.skewtest(HC_imagebox.facebookbias_rating[HC_imagebox.facebookbias_rating<3]))"
   ]
  },
  {
   "cell_type": "code",
   "execution_count": 6,
   "metadata": {
    "collapsed": false
   },
   "outputs": [
    {
     "data": {
      "text/plain": [
       "Ks_2sampResult(statistic=0.30312750601443461, pvalue=2.6231146049493861e-08)"
      ]
     },
     "execution_count": 6,
     "metadata": {},
     "output_type": "execute_result"
    }
   ],
   "source": [
    "stats.ks_2samp(HC_baseline.facebookbias_rating[HC_baseline.facebookbias_rating<3], \n",
    "                               HC_imagebox.facebookbias_rating[HC_imagebox.facebookbias_rating<3])"
   ]
  },
  {
   "cell_type": "code",
   "execution_count": 7,
   "metadata": {
    "collapsed": false
   },
   "outputs": [
    {
     "data": {
      "text/plain": [
       "<matplotlib.axes._subplots.AxesSubplot at 0x10dd5c2b0>"
      ]
     },
     "execution_count": 7,
     "metadata": {},
     "output_type": "execute_result"
    },
    {
     "data": {
      "image/png": "[encoded data removed]",
      "text/plain": [
       "<matplotlib.figure.Figure at 0x10dd47908>"
      ]
     },
     "metadata": {},
     "output_type": "display_data"
    }
   ],
   "source": [
    "HC_imagebox.facebookbias_rating.plot.hist(alpha=0.5, bins=20, range=(-1,1), color='blue')"
   ]
  },
  {
   "cell_type": "code",
   "execution_count": 8,
   "metadata": {
    "collapsed": false
   },
   "outputs": [
    {
     "data": {
      "text/plain": [
       "<matplotlib.axes._subplots.AxesSubplot at 0x10dd47160>"
      ]
     },
     "execution_count": 8,
     "metadata": {},
     "output_type": "execute_result"
    },
    {
     "data": {
      "image/png": "[encoded data removed]",
      "text/plain": [
       "<matplotlib.figure.Figure at 0x10dd5c208>"
      ]
     },
     "metadata": {},
     "output_type": "display_data"
    }
   ],
   "source": [
    "HC_baseline.facebookbias_rating.plot.hist(alpha=0.5, bins=20, range=(-1,1), color='green')"
   ]
  },
  {
   "cell_type": "markdown",
   "metadata": {},
   "source": [
    "#### Donald Trump Image Box images versus Baseline images source bias according to Facebook bias ratings:"
   ]
  },
  {
   "cell_type": "code",
   "execution_count": 9,
   "metadata": {
    "collapsed": false
   },
   "outputs": [
    {
     "name": "stdout",
     "output_type": "stream",
     "text": [
      "Baseline skew:  1.0682966325455876\n",
      "Image Box skew:  1.1788621228138945\n"
     ]
    }
   ],
   "source": [
    "print(\"Baseline skew: \", stats.skew(DT_baseline.facebookbias_rating[DT_baseline.facebookbias_rating<3]))\n",
    "print(\"Image Box skew: \", stats.skew(DT_imagebox.facebookbias_rating[DT_imagebox.facebookbias_rating<3]))"
   ]
  },
  {
   "cell_type": "code",
   "execution_count": 10,
   "metadata": {
    "collapsed": false
   },
   "outputs": [
    {
     "data": {
      "text/plain": [
       "Ks_2sampResult(statistic=0.29887106357694593, pvalue=1.0185147712160563e-07)"
      ]
     },
     "execution_count": 10,
     "metadata": {},
     "output_type": "execute_result"
    }
   ],
   "source": [
    "stats.ks_2samp(DT_baseline.facebookbias_rating[DT_baseline.facebookbias_rating<3], \n",
    "                               DT_imagebox.facebookbias_rating[DT_imagebox.facebookbias_rating<3])"
   ]
  },
  {
   "cell_type": "code",
   "execution_count": 11,
   "metadata": {
    "collapsed": false
   },
   "outputs": [
    {
     "data": {
      "text/plain": [
       "<matplotlib.axes._subplots.AxesSubplot at 0x10e31fcc0>"
      ]
     },
     "execution_count": 11,
     "metadata": {},
     "output_type": "execute_result"
    },
    {
     "data": {
      "image/png": "[encoded data removed]",
      "text/plain": [
       "<matplotlib.figure.Figure at 0x10e3096a0>"
      ]
     },
     "metadata": {},
     "output_type": "display_data"
    }
   ],
   "source": [
    "DT_imagebox.facebookbias_rating.plot.hist(alpha=0.5, bins=20, range=(-1,1), color='red')"
   ]
  },
  {
   "cell_type": "code",
   "execution_count": 12,
   "metadata": {
    "collapsed": false
   },
   "outputs": [
    {
     "data": {
      "text/plain": [
       "<matplotlib.axes._subplots.AxesSubplot at 0x10e3e2630>"
      ]
     },
     "execution_count": 12,
     "metadata": {},
     "output_type": "execute_result"
    },
    {
     "data": {
      "image/png": "[encoded data removed]",
      "text/plain": [
       "<matplotlib.figure.Figure at 0x10e3a7ef0>"
      ]
     },
     "metadata": {},
     "output_type": "display_data"
    }
   ],
   "source": [
    "DT_baseline.facebookbias_rating.plot.hist(alpha=0.5, bins=20, range=(-1,1), color='green')"
   ]
  },
  {
   "cell_type": "code",
   "execution_count": 16,
   "metadata": {
    "collapsed": false
   },
   "outputs": [
    {
     "name": "stdout",
     "output_type": "stream",
     "text": [
      "Number of missing ratings for Hillary Clinton Baseline data:  138\n",
      "Number of missing ratings for Hillary Clinton Image Box data:  163\n",
      "Number of missing ratings for Donald Trump Baseline data:  100\n",
      "Number of missing ratings for Donald Trump Image Box data:  134\n"
     ]
    },
    {
     "name": "stderr",
     "output_type": "stream",
     "text": [
      "/Users/jenniferstark/anaconda/lib/python3.4/site-packages/ipykernel/__main__.py:4: UserWarning: Boolean Series key will be reindexed to match DataFrame index.\n"
     ]
    }
   ],
   "source": [
    "print(\"Number of missing ratings for Hillary Clinton Baseline data: \", len(HC_baseline[HC_baseline.facebookbias_rating == 999]))\n",
    "print(\"Number of missing ratings for Hillary Clinton Image Box data: \", len(HC_imagebox[HC_imagebox.facebookbias_rating == 999]))\n",
    "print(\"Number of missing ratings for Donald Trump Baseline data: \", len(DT_baseline[DT_baseline.facebookbias_rating == 999]))\n",
    "print(\"Number of missing ratings for Donald Trump Image Box data: \", len(DT_baseline[DT_imagebox.facebookbias_rating == 999]))"
   ]
  },
  {
   "cell_type": "markdown",
   "metadata": {},
   "source": [
    "* The Kolmogorov-Smirnov analyis shows that the distribution of political representation across image sources is different between the baseline images and those found in the image box."
   ]
  },
  {
   "cell_type": "markdown",
   "metadata": {},
   "source": [
    "# Statistical analysis on Allsides + Facebook + MondoTimes + my bias ratings:"
   ]
  },
  {
   "cell_type": "markdown",
   "metadata": {},
   "source": [
    "#### Convert strings to integers:"
   ]
  },
  {
   "cell_type": "code",
   "execution_count": 17,
   "metadata": {
    "collapsed": true
   },
   "outputs": [],
   "source": [
    "def convert_to_ints(col):\n",
    "    if col == 'Left':\n",
    "        return -1\n",
    "    elif col == 'Center':\n",
    "        return 0\n",
    "    elif col == 'Right':\n",
    "        return 1\n",
    "    else:\n",
    "        return np.nan"
   ]
  },
  {
   "cell_type": "code",
   "execution_count": 18,
   "metadata": {
    "collapsed": true
   },
   "outputs": [],
   "source": [
    "HC_imagebox['final_rating_ints'] = HC_imagebox.final_rating.apply(convert_to_ints)\n",
    "DT_imagebox['final_rating_ints'] = DT_imagebox.final_rating.apply(convert_to_ints)\n",
    "HC_baseline['final_rating_ints'] = HC_baseline.final_rating.apply(convert_to_ints)\n",
    "DT_baseline['final_rating_ints'] = DT_baseline.final_rating.apply(convert_to_ints)"
   ]
  },
  {
   "cell_type": "code",
   "execution_count": 19,
   "metadata": {
    "collapsed": false
   },
   "outputs": [
    {
     "data": {
      "text/plain": [
       "-1    221\n",
       " 1     75\n",
       " 0     41\n",
       "Name: final_rating_ints, dtype: int64"
      ]
     },
     "execution_count": 19,
     "metadata": {},
     "output_type": "execute_result"
    }
   ],
   "source": [
    "HC_imagebox.final_rating_ints.value_counts()"
   ]
  },
  {
   "cell_type": "code",
   "execution_count": 20,
   "metadata": {
    "collapsed": false
   },
   "outputs": [
    {
     "data": {
      "text/plain": [
       "-1    172\n",
       " 0     71\n",
       " 1     65\n",
       "Name: final_rating_ints, dtype: int64"
      ]
     },
     "execution_count": 20,
     "metadata": {},
     "output_type": "execute_result"
    }
   ],
   "source": [
    "DT_imagebox.final_rating_ints.value_counts()"
   ]
  },
  {
   "cell_type": "markdown",
   "metadata": {},
   "source": [
    "#### Prepare data for chi squared test"
   ]
  },
  {
   "cell_type": "code",
   "execution_count": 21,
   "metadata": {
    "collapsed": true
   },
   "outputs": [],
   "source": [
    "HC_baseline_counts = HC_baseline.final_rating.value_counts()\n",
    "HC_imagebox_counts = HC_imagebox.final_rating.value_counts()\n",
    "DT_baseline_counts = DT_baseline.final_rating.value_counts()\n",
    "DT_imagebox_counts = DT_imagebox.final_rating.value_counts()"
   ]
  },
  {
   "cell_type": "code",
   "execution_count": 23,
   "metadata": {
    "collapsed": false
   },
   "outputs": [
    {
     "data": {
      "text/plain": [
       "Left                    145\n",
       "Center                   92\n",
       "Right                    75\n",
       "Unknown / unreliable     41\n",
       "Name: final_rating, dtype: int64"
      ]
     },
     "execution_count": 23,
     "metadata": {},
     "output_type": "execute_result"
    }
   ],
   "source": [
    "HC_baseline_counts.head()"
   ]
  },
  {
   "cell_type": "code",
   "execution_count": 24,
   "metadata": {
    "collapsed": false
   },
   "outputs": [],
   "source": [
    "normalised_bias_ratings = pd.DataFrame({'HC_ImageBox':HC_imagebox_counts,\n",
    "                                       'HC_Baseline' : HC_baseline_counts,\n",
    "                                       'DT_ImageBox': DT_imagebox_counts,\n",
    "                                       'DT_Baseline': DT_baseline_counts} )"
   ]
  },
  {
   "cell_type": "code",
   "execution_count": 25,
   "metadata": {
    "collapsed": false
   },
   "outputs": [
    {
     "data": {
      "text/html": [
       "<div>\n",
       "<table border=\"1\" class=\"dataframe\">\n",
       "  <thead>\n",
       "    <tr style=\"text-align: right;\">\n",
       "      <th></th>\n",
       "      <th>DT_Baseline</th>\n",
       "      <th>DT_ImageBox</th>\n",
       "      <th>HC_Baseline</th>\n",
       "      <th>HC_ImageBox</th>\n",
       "    </tr>\n",
       "  </thead>\n",
       "  <tbody>\n",
       "    <tr>\n",
       "      <th>Center</th>\n",
       "      <td>88</td>\n",
       "      <td>71.0</td>\n",
       "      <td>92</td>\n",
       "      <td>41.0</td>\n",
       "    </tr>\n",
       "    <tr>\n",
       "      <th>Left</th>\n",
       "      <td>154</td>\n",
       "      <td>172.0</td>\n",
       "      <td>145</td>\n",
       "      <td>221.0</td>\n",
       "    </tr>\n",
       "    <tr>\n",
       "      <th>Right</th>\n",
       "      <td>33</td>\n",
       "      <td>65.0</td>\n",
       "      <td>75</td>\n",
       "      <td>75.0</td>\n",
       "    </tr>\n",
       "    <tr>\n",
       "      <th>Unknown / unreliable</th>\n",
       "      <td>23</td>\n",
       "      <td>NaN</td>\n",
       "      <td>41</td>\n",
       "      <td>NaN</td>\n",
       "    </tr>\n",
       "  </tbody>\n",
       "</table>\n",
       "</div>"
      ],
      "text/plain": [
       "                      DT_Baseline  DT_ImageBox  HC_Baseline  HC_ImageBox\n",
       "Center                         88         71.0           92         41.0\n",
       "Left                          154        172.0          145        221.0\n",
       "Right                          33         65.0           75         75.0\n",
       "Unknown / unreliable           23          NaN           41          NaN"
      ]
     },
     "execution_count": 25,
     "metadata": {},
     "output_type": "execute_result"
    }
   ],
   "source": [
    "normalised_bias_ratings"
   ]
  },
  {
   "cell_type": "markdown",
   "metadata": {},
   "source": [
    "#### Remove `Unknown / unreliable` row"
   ]
  },
  {
   "cell_type": "code",
   "execution_count": 26,
   "metadata": {
    "collapsed": false
   },
   "outputs": [],
   "source": [
    "normalised_bias_ratings = normalised_bias_ratings[:3]"
   ]
  },
  {
   "cell_type": "markdown",
   "metadata": {},
   "source": [
    "#### Calculate percentages for plotting purposes"
   ]
  },
  {
   "cell_type": "code",
   "execution_count": 27,
   "metadata": {
    "collapsed": false
   },
   "outputs": [
    {
     "name": "stderr",
     "output_type": "stream",
     "text": [
      "/Users/jenniferstark/anaconda/lib/python3.4/site-packages/pandas/core/indexing.py:288: SettingWithCopyWarning: \n",
      "A value is trying to be set on a copy of a slice from a DataFrame.\n",
      "Try using .loc[row_indexer,col_indexer] = value instead\n",
      "\n",
      "See the caveats in the documentation: http://pandas.pydata.org/pandas-docs/stable/indexing.html#indexing-view-versus-copy\n",
      "  self.obj[key] = _infer_fill_value(value)\n",
      "/Users/jenniferstark/anaconda/lib/python3.4/site-packages/pandas/core/indexing.py:465: SettingWithCopyWarning: \n",
      "A value is trying to be set on a copy of a slice from a DataFrame.\n",
      "Try using .loc[row_indexer,col_indexer] = value instead\n",
      "\n",
      "See the caveats in the documentation: http://pandas.pydata.org/pandas-docs/stable/indexing.html#indexing-view-versus-copy\n",
      "  self.obj[item] = s\n"
     ]
    }
   ],
   "source": [
    "normalised_bias_ratings.loc[:,'HC_Baseline_pcnt'] = normalised_bias_ratings.HC_Baseline/normalised_bias_ratings.HC_Baseline.sum()*100\n",
    "normalised_bias_ratings.loc[:,'HC_ImageBox_pcnt'] = normalised_bias_ratings.HC_ImageBox/normalised_bias_ratings.HC_ImageBox.sum()*100\n",
    "normalised_bias_ratings.loc[:,'DT_Baseline_pcnt'] = normalised_bias_ratings.DT_Baseline/normalised_bias_ratings.DT_Baseline.sum()*100\n",
    "normalised_bias_ratings.loc[:,'DT_ImageBox_pcnt'] = normalised_bias_ratings.DT_ImageBox/normalised_bias_ratings.DT_ImageBox.sum()*100"
   ]
  },
  {
   "cell_type": "code",
   "execution_count": 28,
   "metadata": {
    "collapsed": false
   },
   "outputs": [
    {
     "data": {
      "text/html": [
       "<div>\n",
       "<table border=\"1\" class=\"dataframe\">\n",
       "  <thead>\n",
       "    <tr style=\"text-align: right;\">\n",
       "      <th></th>\n",
       "      <th>DT_Baseline</th>\n",
       "      <th>DT_ImageBox</th>\n",
       "      <th>HC_Baseline</th>\n",
       "      <th>HC_ImageBox</th>\n",
       "      <th>HC_Baseline_pcnt</th>\n",
       "      <th>HC_ImageBox_pcnt</th>\n",
       "      <th>DT_Baseline_pcnt</th>\n",
       "      <th>DT_ImageBox_pcnt</th>\n",
       "    </tr>\n",
       "  </thead>\n",
       "  <tbody>\n",
       "    <tr>\n",
       "      <th>Center</th>\n",
       "      <td>88</td>\n",
       "      <td>71.0</td>\n",
       "      <td>92</td>\n",
       "      <td>41.0</td>\n",
       "      <td>29.487179</td>\n",
       "      <td>12.166172</td>\n",
       "      <td>32.0</td>\n",
       "      <td>23.051948</td>\n",
       "    </tr>\n",
       "    <tr>\n",
       "      <th>Left</th>\n",
       "      <td>154</td>\n",
       "      <td>172.0</td>\n",
       "      <td>145</td>\n",
       "      <td>221.0</td>\n",
       "      <td>46.474359</td>\n",
       "      <td>65.578635</td>\n",
       "      <td>56.0</td>\n",
       "      <td>55.844156</td>\n",
       "    </tr>\n",
       "    <tr>\n",
       "      <th>Right</th>\n",
       "      <td>33</td>\n",
       "      <td>65.0</td>\n",
       "      <td>75</td>\n",
       "      <td>75.0</td>\n",
       "      <td>24.038462</td>\n",
       "      <td>22.255193</td>\n",
       "      <td>12.0</td>\n",
       "      <td>21.103896</td>\n",
       "    </tr>\n",
       "  </tbody>\n",
       "</table>\n",
       "</div>"
      ],
      "text/plain": [
       "        DT_Baseline  DT_ImageBox  HC_Baseline  HC_ImageBox  HC_Baseline_pcnt  HC_ImageBox_pcnt  DT_Baseline_pcnt  DT_ImageBox_pcnt\n",
       "Center           88         71.0           92         41.0         29.487179         12.166172              32.0         23.051948\n",
       "Left            154        172.0          145        221.0         46.474359         65.578635              56.0         55.844156\n",
       "Right            33         65.0           75         75.0         24.038462         22.255193              12.0         21.103896"
      ]
     },
     "execution_count": 28,
     "metadata": {},
     "output_type": "execute_result"
    }
   ],
   "source": [
    "normalised_bias_ratings"
   ]
  },
  {
   "cell_type": "code",
   "execution_count": 31,
   "metadata": {
    "collapsed": false
   },
   "outputs": [
    {
     "data": {
      "text/plain": [
       "Index(['DT_Baseline', 'DT_ImageBox', 'HC_Baseline', 'HC_ImageBox', 'HC_Baseline_pcnt', 'HC_ImageBox_pcnt', 'DT_Baseline_pcnt', 'DT_ImageBox_pcnt'], dtype='object')"
      ]
     },
     "execution_count": 31,
     "metadata": {},
     "output_type": "execute_result"
    }
   ],
   "source": [
    "normalised_bias_ratings.columns"
   ]
  },
  {
   "cell_type": "code",
   "execution_count": 33,
   "metadata": {
    "collapsed": true
   },
   "outputs": [],
   "source": [
    "HC_percentages = normalised_bias_ratings[['HC_Baseline_pcnt', 'HC_ImageBox_pcnt']]\n",
    "DT_percentages = normalised_bias_ratings[['DT_Baseline_pcnt', 'DT_ImageBox_pcnt']]"
   ]
  },
  {
   "cell_type": "markdown",
   "metadata": {},
   "source": [
    "#### Test Hillary Clinton Image Box images against Baseline images:"
   ]
  },
  {
   "cell_type": "code",
   "execution_count": 29,
   "metadata": {
    "collapsed": false
   },
   "outputs": [
    {
     "data": {
      "text/plain": [
       "Power_divergenceResult(statistic=68.106221889055462, pvalue=1.6252561764176373e-15)"
      ]
     },
     "execution_count": 29,
     "metadata": {},
     "output_type": "execute_result"
    }
   ],
   "source": [
    "stats.chisquare(f_exp=normalised_bias_ratings.HC_Baseline, \n",
    "               f_obs=normalised_bias_ratings.HC_ImageBox)"
   ]
  },
  {
   "cell_type": "code",
   "execution_count": 34,
   "metadata": {
    "collapsed": false
   },
   "outputs": [
    {
     "data": {
      "text/plain": [
       "<matplotlib.axes._subplots.AxesSubplot at 0x10e656e48>"
      ]
     },
     "execution_count": 34,
     "metadata": {},
     "output_type": "execute_result"
    },
    {
     "data": {
      "image/png": "[encoded data removed]",
      "text/plain": [
       "<matplotlib.figure.Figure at 0x1056c6f98>"
      ]
     },
     "metadata": {},
     "output_type": "display_data"
    }
   ],
   "source": [
    "HC_percentages.plot.bar()"
   ]
  },
  {
   "cell_type": "markdown",
   "metadata": {},
   "source": [
    "#### Test Donald Trump Image Box images against Basline images:"
   ]
  },
  {
   "cell_type": "code",
   "execution_count": 30,
   "metadata": {
    "collapsed": false
   },
   "outputs": [
    {
     "data": {
      "text/plain": [
       "Power_divergenceResult(statistic=36.418290043290042, pvalue=1.235574102398194e-08)"
      ]
     },
     "execution_count": 30,
     "metadata": {},
     "output_type": "execute_result"
    }
   ],
   "source": [
    "stats.chisquare(f_exp=normalised_bias_ratings.DT_Baseline, \n",
    "               f_obs=normalised_bias_ratings.DT_ImageBox)"
   ]
  },
  {
   "cell_type": "code",
   "execution_count": 35,
   "metadata": {
    "collapsed": false
   },
   "outputs": [
    {
     "data": {
      "text/plain": [
       "<matplotlib.axes._subplots.AxesSubplot at 0x10e65d9b0>"
      ]
     },
     "execution_count": 35,
     "metadata": {},
     "output_type": "execute_result"
    },
    {
     "data": {
      "image/png": "[encoded data removed]",
      "text/plain": [
       "<matplotlib.figure.Figure at 0x10e773a20>"
      ]
     },
     "metadata": {},
     "output_type": "display_data"
    }
   ],
   "source": [
    "DT_percentages.plot.bar()"
   ]
  },
  {
   "cell_type": "markdown",
   "metadata": {},
   "source": [
    "* Chi square test shows that the distribution of political representation across image sources is different between the baseline images and those found in the image box both candidates.\n",
    "* Hillary Clinton image box images increased left-leaning and decreased centrist source representation compared with baseline. \n",
    "* Donald Trump image box images increased right-leaning, and decreased centrist source representation compared with baseline."
   ]
  },
  {
   "cell_type": "markdown",
   "metadata": {},
   "source": [
    "# Conclusion:\n",
    "Using Google as its own baseline was sufficient to conclude that representation on the main results page is different from that in the baseline, indicating that bias is introduced in the curation of images for the image box."
   ]
  },
  {
   "cell_type": "code",
   "execution_count": null,
   "metadata": {
    "collapsed": true
   },
   "outputs": [],
   "source": []
  }
 ],
 "metadata": {
  "kernelspec": {
   "display_name": "Python 3",
   "language": "python",
   "name": "python3"
  },
  "language_info": {
   "codemirror_mode": {
    "name": "ipython",
    "version": 3
   },
   "file_extension": ".py",
   "mimetype": "text/x-python",
   "name": "python",
   "nbconvert_exporter": "python",
   "pygments_lexer": "ipython3",
   "version": "3.4.5"
  }
 },
 "nbformat": 4,
 "nbformat_minor": 0
}
